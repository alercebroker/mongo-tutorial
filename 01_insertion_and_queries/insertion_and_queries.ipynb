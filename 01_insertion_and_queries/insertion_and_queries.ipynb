{
 "cells": [
  {
   "cell_type": "markdown",
   "id": "84f4ad3d-d81d-4602-918b-51f001094c98",
   "metadata": {},
   "source": [
    "## Data insertion\n",
    "\n",
    "There are different ways of inserting documents into a collection in MongoDB. In the previous chapter we saw already the use of the `insert_one` method. Now we'll go more in depth about the workings of it and the other common ways of inserting data.\n",
    "\n",
    "**Reminder:** Have the docker container running for this session."
   ]
  },
  {
   "cell_type": "code",
   "execution_count": null,
   "id": "e25b6a07-02e4-4b78-b094-0f9ab878579f",
   "metadata": {},
   "outputs": [],
   "source": [
    "from pymongo import MongoClient\n",
    "\n",
    "client = MongoClient(host='localhost', port=27017, username='mongo', password='mongo')\n",
    "\n",
    "# We'll be (lazily) creating the database 'catalogue'\n",
    "db = client.catalogue"
   ]
  },
  {
   "cell_type": "markdown",
   "id": "a2f3a4cb-4725-463a-b95c-feeec1396271",
   "metadata": {},
   "source": [
    "### Single document insertion\n",
    "\n",
    "The `insert_one` is a method for collections. It will insert the given document (i.e., a mutable mapping type, typically a dictionary) and also return an instance of `InsertOneResult`, a special type that contains information about the operation performed."
   ]
  },
  {
   "cell_type": "code",
   "execution_count": null,
   "id": "d85cbd74-d56a-4b28-b4ec-1ae443e50dc3",
   "metadata": {},
   "outputs": [],
   "source": [
    "document = {\n",
    "    'name': 'Sirius',\n",
    "    'mv': -1.46,\n",
    "}\n",
    "\n",
    "# Accessing and creating the 'stars' collection\n",
    "insertion = db.stars.insert_one(document)"
   ]
  },
  {
   "cell_type": "code",
   "execution_count": null,
   "id": "616efd6f-8484-4bda-8d4e-e6030f10d037",
   "metadata": {},
   "outputs": [],
   "source": [
    "print(f'Document insertion acknowledged: {insertion.acknowledged}')\n",
    "print(f'\\nDocument _id: {insertion.inserted_id}')"
   ]
  },
  {
   "cell_type": "markdown",
   "id": "30f194ce-09dd-4cb3-8074-69f5d75b743d",
   "metadata": {},
   "source": [
    "The `acknowledged` property indicates that the insertion was acknowledged, while `inserted_id` gives the value of `_id` for the inserted document (in this case a hash created by MongoDB).\n",
    "\n",
    "*About acknowledgement:* The database can be spread accross mutiple servers, creating replicas of the data. Normally, once the primary copy has been written or a majority of the replicas have been written, the operation will return and be acknowledge. It is also possible for the acknowledgment to require the writing process to have spread to one or more copies before being acknowledge. It also possible, although not recommended, to have the acknowledgment to be set to zero, essentially telling not to wait for confirmation of the writing operation. This topic is not necessary to fully grasp at a user level, but more info can be found [here](https://www.mongodb.com/docs/manual/reference/write-concern/).\n",
    "\n",
    "As mentioned before, the `_id` field can be passed explicitly:"
   ]
  },
  {
   "cell_type": "code",
   "execution_count": null,
   "id": "e0deb3c9-7566-46a9-8b24-34d14df6a200",
   "metadata": {},
   "outputs": [],
   "source": [
    "document = {\n",
    "    '_id': 'alf Car',\n",
    "    'name': 'Canopus',\n",
    "    'mv': -0.74,\n",
    "}\n",
    "\n",
    "insertion = db.stars.insert_one(document)"
   ]
  },
  {
   "cell_type": "code",
   "execution_count": null,
   "id": "147ba6a7-06b8-428a-b799-ad55c4828e28",
   "metadata": {},
   "outputs": [],
   "source": [
    "print(f'Inserted document with _id: {insertion.inserted_id}')"
   ]
  },
  {
   "cell_type": "markdown",
   "id": "877b2f76-afb4-4df8-bba1-b12df1fdac9c",
   "metadata": {},
   "source": [
    "Note, however, that the `_id` **must** be unique:"
   ]
  },
  {
   "cell_type": "code",
   "execution_count": null,
   "id": "652b50f9-036f-4bc7-993a-a6f4165a478e",
   "metadata": {},
   "outputs": [],
   "source": [
    "document = {\n",
    "    '_id': 'alf Car',\n",
    "    'name': 'Canopus2',\n",
    "    'mv': -0.745,\n",
    "}\n",
    "\n",
    "# Will fail due to DuplicateKeyError\n",
    "insertion = db.stars.insert_one(document)"
   ]
  },
  {
   "cell_type": "markdown",
   "id": "28e1b3e2-cbac-4be8-861d-ff1d004f7312",
   "metadata": {},
   "source": [
    "### Multi-document insertion\n",
    "\n",
    "It is also possible to insert multiple documents in a single operation, making the insertion more efficient for a large numer of existing documents:"
   ]
  },
  {
   "cell_type": "code",
   "execution_count": null,
   "id": "07633c31-7c16-4a36-b620-fc1033a21a38",
   "metadata": {},
   "outputs": [],
   "source": [
    "documents = [\n",
    "    {'_id': 'alf Cen A', 'mv': 0.01},\n",
    "    {'_id': 'alf Lyr', 'mv': 0.03, 'name': 'Vega'},  # Note that the fields need not be consistent between documents\n",
    "    {'_id': 'bet Cen', 'mv': 0.58}\n",
    "]\n",
    "\n",
    "insertions = db.stars.insert_many(documents)"
   ]
  },
  {
   "cell_type": "code",
   "execution_count": null,
   "id": "1ce7ab76-3018-4fd3-affe-d03057f16511",
   "metadata": {},
   "outputs": [],
   "source": [
    "print(f'Document insertion acknowledged: {insertions.acknowledged}')\n",
    "print(f'Document _id: {insertions.inserted_ids}')"
   ]
  },
  {
   "cell_type": "markdown",
   "id": "719d63da-fefb-4fe7-9656-7fdbc19caae1",
   "metadata": {},
   "source": [
    "Note that the output this time is of class `InsertManyResult` and the equivalent property to `inserted_id` is now `inserted_ids`.\n",
    "\n",
    "To insert multiple documents, an iterable (usually a list or a tuple) of mutable mappings (usually dictionaries) must be passed to `insert_many`.\n",
    "\n",
    "An additional option to keep in mind is the boolean `ordered` (defaults to `True`):\n",
    "* If `True`, the documents are inserted in the order given and the first failure will stop trying to insert any remaining documents\n",
    "* If `False`, the order won't matter, will possibly insert the documents in parallel and it will try to insert all documents"
   ]
  },
  {
   "cell_type": "code",
   "execution_count": null,
   "id": "6dca439b-7ec1-484a-aa6b-52dd74558d34",
   "metadata": {},
   "outputs": [],
   "source": [
    "documents = [\n",
    "    {'_id': 'alf Sco', 'mv': 0.91, 'name': 'Antares'},\n",
    "    {'_id': 'alf Tau', 'mv': 0.86, 'name': 'Aldebaran'},  # Note that the fields need not be consistent between documents\n",
    "]\n",
    "\n",
    "db.stars.insert_many(documents, ordered=False)"
   ]
  },
  {
   "cell_type": "markdown",
   "id": "566aed6a-8456-4555-821f-5a9c85894a2b",
   "metadata": {},
   "source": [
    "## Basic queries\n",
    "\n",
    "To query the collection, the methods `find` and `find_one` are available. The latter will always return the first match, even if more than one document matches the query.\n",
    "\n",
    "An empty query is equivalent to searching for all data:"
   ]
  },
  {
   "cell_type": "code",
   "execution_count": null,
   "id": "167988ce-5ec3-4842-8f20-fa6ae75dc6aa",
   "metadata": {},
   "outputs": [],
   "source": [
    "all_docs = db.stars.find()\n",
    "all_docs"
   ]
  },
  {
   "cell_type": "markdown",
   "id": "3bc50664-a846-4ffb-94d2-ca23f8dfd3b1",
   "metadata": {},
   "source": [
    "The return is of type `Cursor` (unless nothing matches the query, in which case it returns `None`), which is iterable:"
   ]
  },
  {
   "cell_type": "code",
   "execution_count": null,
   "id": "c662177a-d7a6-44d5-8025-132aa4bb471e",
   "metadata": {},
   "outputs": [],
   "source": [
    "for doc in all_docs:\n",
    "    print(doc)"
   ]
  },
  {
   "cell_type": "markdown",
   "id": "287831c8-8dae-4d7e-b428-be6ff62cfa43",
   "metadata": {},
   "source": [
    "**Important:** While a `Cursor` is iterable, it is not a Python list. Although documents can be accessed through their index, every use of indexing will actually run a new query with a given `skip` and `limit` (we'll explain these concepts later). Something like the following is extremely inefficient and might even have inconsistent results sometimes: "
   ]
  },
  {
   "cell_type": "code",
   "execution_count": null,
   "id": "e5fff0df-c26c-4919-92fa-2fe3d3829198",
   "metadata": {},
   "outputs": [],
   "source": [
    "# DO NOT RUN SOMETHING LIKE THIS\n",
    "all_docs = db.stars.find()  # We need to run the find again since we already exhausted the iterator\n",
    "for i in range(5):\n",
    "    print(all_docs[i])"
   ]
  },
  {
   "cell_type": "markdown",
   "id": "cb8af78d-897e-4787-968f-687ec6e40e26",
   "metadata": {},
   "source": [
    "The method `find_one` works in the same wat, but it will return a single document (as a dictionary) every time, unless nothing is matched in which case it will return `None`:"
   ]
  },
  {
   "cell_type": "code",
   "execution_count": null,
   "id": "dfe6eeb2-de50-4e07-86d9-bec25f7bab5d",
   "metadata": {},
   "outputs": [],
   "source": [
    "db.stars.find_one()"
   ]
  },
  {
   "cell_type": "markdown",
   "id": "5c36083e-7235-4d49-8b62-f33b473ad605",
   "metadata": {},
   "source": [
    "Queries with many objects can take a very long time, so the option `limit` can be used to restrict the maximum number of documents returned (this is only useful for `find`):"
   ]
  },
  {
   "cell_type": "code",
   "execution_count": null,
   "id": "4577b883-472a-40aa-bd4e-4e9083e21776",
   "metadata": {},
   "outputs": [],
   "source": [
    "docs = db.stars.find(limit=2)\n",
    "for doc in docs:\n",
    "    print(doc)"
   ]
  },
  {
   "cell_type": "markdown",
   "id": "c9d93d53-7368-49ad-86c3-79929e8e5b76",
   "metadata": {},
   "source": [
    "Note that the default is zero, which means no limit is applied.\n",
    "\n",
    "Another useful option is `skip`, which will skip the first `n` matches. Normally this option is combined with `limit` for pagination purposes:"
   ]
  },
  {
   "cell_type": "code",
   "execution_count": null,
   "id": "c0037095-d7d5-4182-9fc7-77b4fbe4a896",
   "metadata": {},
   "outputs": [],
   "source": [
    "docs = db.stars.find(skip=2, limit=2)\n",
    "for doc in docs:\n",
    "    print(doc)"
   ]
  },
  {
   "cell_type": "markdown",
   "id": "8bd76097-5a85-4652-ac8c-37b7625d8ad1",
   "metadata": {},
   "source": [
    "### Filters\n",
    "\n",
    "Filters in MongoDB are also constructed as dictionaries. We'll see a few simple queries here, more complex ones will be left for further sections.\n",
    "\n",
    "For an exact match in a given field, the name of the field must be mapped to the value being searched (this applies to both `find` and `find_one`):"
   ]
  },
  {
   "cell_type": "code",
   "execution_count": null,
   "id": "cc367867-c127-46d0-a5dc-9ec936643242",
   "metadata": {},
   "outputs": [],
   "source": [
    "filter_by = {\n",
    "    'name': 'Vega'\n",
    "}\n",
    "\n",
    "db.stars.find_one(filter_by)"
   ]
  },
  {
   "cell_type": "markdown",
   "id": "b34e9164-b1d4-4fe9-8c3e-c2c60d659b21",
   "metadata": {},
   "source": [
    "More generally, the filter must contain the type of match that is to be applied for the field:"
   ]
  },
  {
   "cell_type": "code",
   "execution_count": null,
   "id": "ef7d73fe-ba55-4d7c-82db-8b64a8601086",
   "metadata": {},
   "outputs": [],
   "source": [
    "filter_by = {\n",
    "    'mv': {\n",
    "        '$gte': 0.5  # Greater than or equal 0.5\n",
    "    }\n",
    "}\n",
    "\n",
    "docs = db.stars.find(filter_by)  # {field: {$match_type: value}}\n",
    "for doc in docs:\n",
    "    print(doc)"
   ]
  },
  {
   "cell_type": "markdown",
   "id": "4428d4a2-f7f0-4499-8d74-88ea5cfcd9af",
   "metadata": {},
   "source": [
    "Multiple restrictions for the same field can be applied simultaneously:"
   ]
  },
  {
   "cell_type": "code",
   "execution_count": null,
   "id": "5d9fc1f9-8584-4964-b673-cfc465eafd52",
   "metadata": {},
   "outputs": [],
   "source": [
    "filter_by = {\n",
    "    'mv': {\n",
    "        '$gte': 0.5,  # Greater than or equal 0.5\n",
    "        '$lte': 0.9  # Less than or equal 0.9\n",
    "    }\n",
    "}\n",
    "\n",
    "docs = db.stars.find(filter_by)\n",
    "for doc in docs:\n",
    "    print(doc)"
   ]
  },
  {
   "cell_type": "markdown",
   "id": "57ab6a3f-5111-40a9-b959-dcbae1893828",
   "metadata": {},
   "source": [
    "Or restrictions over multiple fields simultaneously (documents must match all of them to be selected):"
   ]
  },
  {
   "cell_type": "code",
   "execution_count": null,
   "id": "ab63a2db-28f0-4e7b-851d-243112498289",
   "metadata": {},
   "outputs": [],
   "source": [
    "filter_by = {\n",
    "    'mv': {\n",
    "        '$gte': 0.5  # Greater than or equal 0.5\n",
    "    },\n",
    "    'name': {\n",
    "        '$regex': '^A'  # Regular expression (starts with A)\n",
    "    }\n",
    "}\n",
    "\n",
    "docs = db.stars.find(filter_by)\n",
    "for doc in docs:\n",
    "    print(doc)"
   ]
  },
  {
   "cell_type": "markdown",
   "id": "e8e6aec3-d1c0-46e7-a7d2-61b4c99377a8",
   "metadata": {},
   "source": [
    "The case for the exact match is actually just a convenience for the comparison with `$eq`:"
   ]
  },
  {
   "cell_type": "code",
   "execution_count": null,
   "id": "4d1fdf14-89ac-416c-9659-9a9ed6b6d972",
   "metadata": {},
   "outputs": [],
   "source": [
    "# Both filters are equivalent\n",
    "filter_by = {\n",
    "    'name': 'Vega'\n",
    "}\n",
    "filter_by = {\n",
    "    'name': {\n",
    "        '$eq': 'Vega'\n",
    "    }\n",
    "}\n",
    "\n",
    "db.stars.find_one(filter_by)"
   ]
  },
  {
   "cell_type": "markdown",
   "id": "9f0a6652-dce4-425c-934d-4ece3b5b6b8e",
   "metadata": {},
   "source": [
    "Given that not all documents can have necessarily the same fields, it is also possbile to check if the field exists or not with the `$exists` operator:"
   ]
  },
  {
   "cell_type": "code",
   "execution_count": null,
   "id": "344fd2b2-39f4-445d-8bf8-211d3b48e9de",
   "metadata": {},
   "outputs": [],
   "source": [
    "filter_by = {\n",
    "    'name': {\n",
    "        '$exists': True  \n",
    "    }\n",
    "}\n",
    "\n",
    "for doc in db.stars.find(filter_by):\n",
    "    print(doc)"
   ]
  },
  {
   "cell_type": "markdown",
   "id": "ebc57b05-d89c-4898-8907-075cb546a56a",
   "metadata": {},
   "source": [
    "To join multiple clauses with \"or\" instead of \"and\":"
   ]
  },
  {
   "cell_type": "code",
   "execution_count": null,
   "id": "ae42d3dd-9996-439c-ad88-32c36e67da97",
   "metadata": {},
   "outputs": [],
   "source": [
    "filter_by = {\n",
    "    '$or': [  # NOTE: This is a list, not a dictionary\n",
    "        {\n",
    "            'name': 'Vega'\n",
    "        },\n",
    "        {\n",
    "            'name': 'Sirius'\n",
    "        }\n",
    "    ]\n",
    "}\n",
    "\n",
    "for doc in db.stars.find(filter_by):\n",
    "    print(doc)"
   ]
  },
  {
   "cell_type": "markdown",
   "id": "13001750-74bf-43b0-aa3f-b42353cdaa49",
   "metadata": {},
   "source": [
    "A full list of the query operators can be found [here](https://www.mongodb.com/docs/manual/reference/operator/query/)"
   ]
  },
  {
   "cell_type": "markdown",
   "id": "0cf435e0-cd89-4d6b-86bb-450c39e7788f",
   "metadata": {},
   "source": [
    "### Sorting\n",
    "\n",
    "The query results can also be sorted using the option `sort` and list of pairs with the field name and either `1` or `-1` for ascending or descending order, respectively:"
   ]
  },
  {
   "cell_type": "code",
   "execution_count": null,
   "id": "e38cfc2c-4aa7-4d4e-9363-98b5b01fb89d",
   "metadata": {},
   "outputs": [],
   "source": [
    "sorted_docs = db.stars.find(sort=[('mv', 1)])  # Sort by mv in ascending order\n",
    "for doc in sorted_docs:\n",
    "    print(doc)"
   ]
  },
  {
   "cell_type": "markdown",
   "id": "a4ac3e9c-4a62-444d-b75f-eb5e44fe40fd",
   "metadata": {},
   "source": [
    "Multiple keys can be given and any documents that have the same value for the primary key will be ordered according to the secondary key:"
   ]
  },
  {
   "cell_type": "code",
   "execution_count": null,
   "id": "09a8e90f-ed28-48c8-9b03-05fc6430d1f4",
   "metadata": {},
   "outputs": [],
   "source": [
    "sorted_docs = db.stars.find(sort=[('name', -1), ('mv', 1)])  # Sort by name in descending order and sort by mv in ascending order any case with same name\n",
    "for doc in sorted_docs:\n",
    "    print(doc)"
   ]
  },
  {
   "cell_type": "markdown",
   "id": "dfd107fb-979a-4e39-9fb7-be3594154845",
   "metadata": {},
   "source": [
    "Note that documents without `name` are still present. The sorting assumes in this case an empty string."
   ]
  }
 ],
 "metadata": {
  "kernelspec": {
   "display_name": "Python 3 (ipykernel)",
   "language": "python",
   "name": "python3"
  },
  "language_info": {
   "codemirror_mode": {
    "name": "ipython",
    "version": 3
   },
   "file_extension": ".py",
   "mimetype": "text/x-python",
   "name": "python",
   "nbconvert_exporter": "python",
   "pygments_lexer": "ipython3",
   "version": "3.10.8"
  }
 },
 "nbformat": 4,
 "nbformat_minor": 5
}
