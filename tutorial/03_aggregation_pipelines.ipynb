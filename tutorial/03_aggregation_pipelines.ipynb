{
 "cells": [
  {
   "cell_type": "markdown",
   "id": "0cd3e27c-921d-49a5-995e-0d9535177bb5",
   "metadata": {},
   "source": [
    "## Aggregation pipelines\n",
    "\n",
    "In MongoDB it is possible to concatenate multiple operations within a single command by using aggregation pipelines. This can include some of the things we've seen before, such as queries, projections, sorting and pagination, and also additional operations which are not available as part of the previous commands.\n",
    "\n",
    "An aggregation pipeline in MongoDB consists of one or more stage, each with their own possible operators. Most stages are rather free when it comes to the order in which they have to be used or how many times they can be used, but keep in mind that some of them have restrictions about when and how many times they can be used. We'll see here only the most common ones, but you can check the full list of stages [here](https://www.mongodb.com/docs/v6.0/reference/operator/aggregation-pipeline/#std-label-aggregation-pipeline-operator-reference).\n",
    "\n",
    "To use an aggregation pipeline in pymongo, we use the `aggregate` method for collections. This receives a list of dictionaries as its main parameter. Each dictionary must have a single key, corresponding to the pipeline stage and the value defining the working of the stage. The output of each stage will then be used as input for the following, all the way until the list is exhausted."
   ]
  },
  {
   "cell_type": "code",
   "execution_count": 1,
   "id": "d602f927-3b00-47ac-9d8e-ed538eea303c",
   "metadata": {},
   "outputs": [],
   "source": [
    "from pymongo import MongoClient\n",
    "\n",
    "client = MongoClient(host='localhost', port=27017, username='mongo', password='mongo')\n",
    "\n",
    "objects = client.alerce.objects  # This is the collection we'll be using"
   ]
  },
  {
   "cell_type": "markdown",
   "id": "498ee6b1-2498-456a-a54f-1f2eab4e8664",
   "metadata": {},
   "source": [
    "### `$match`\n",
    "\n",
    "The stage `$match` is equivalent to performing a query and uses the same operators we've seen for the `find` method first parameter. This stage doesn't include the possibility of using a projection (there is a special stage for that)."
   ]
  },
  {
   "cell_type": "code",
   "execution_count": 9,
   "id": "a02a83f9-9766-4f0d-8ae0-444356e66d69",
   "metadata": {},
   "outputs": [
    {
     "data": {
      "text/plain": [
       "<pymongo.command_cursor.CommandCursor at 0x7f943acd56c0>"
      ]
     },
     "execution_count": 9,
     "metadata": {},
     "output_type": "execute_result"
    }
   ],
   "source": [
    "docs = objects.aggregate([{'$match': {'ndet': {'$gte': 400}}}])\n",
    "docs"
   ]
  },
  {
   "cell_type": "markdown",
   "id": "17834aff-05d5-4e79-a967-b2923c63ca2a",
   "metadata": {},
   "source": [
    "The output of `aggregate` is a `CommandCursor`. This is different from the `Cursor` we saw for the output of `find`, but it is still iterable. \n",
    "\n",
    "Unfortunately, this type does not have the `explain` method."
   ]
  },
  {
   "cell_type": "code",
   "execution_count": 10,
   "id": "bd2467b6-8360-4991-8c26-9345860d2d71",
   "metadata": {},
   "outputs": [
    {
     "name": "stdout",
     "output_type": "stream",
     "text": [
      "{'_id': 'AL17ktitbgrfqqhkq', 'oid': ['ZTF17aaaaqna'], 'lastmjd': 59540.4023263999, 'firstmjd': 58336.4893518998, 'ndet': 893.0, 'loc': {'type': 'Point', 'coordinates': [-136.754695090594, 54.2043687354983]}, 'meanra': 43.2453049094065, 'meandec': 54.2043687354983, 'e_ra': 0.000140560890213381, 'e_dec': 9.233896881721e-05, 'tid': ['ZTF'], 'probabilities': [{'classifier_name': 'lc_classifier_top', 'classifier_version': 'hierarchical_rf_1.1.0', 'class_name': 'Periodic', 'probability': 0.994, 'ranking': 1.0}, {'classifier_name': 'lc_classifier_top', 'classifier_version': 'hierarchical_rf_1.1.0', 'class_name': 'Stochastic', 'probability': 0.006, 'ranking': 2.0}, {'classifier_name': 'lc_classifier_top', 'classifier_version': 'hierarchical_rf_1.1.0', 'class_name': 'Transient', 'probability': 0.0, 'ranking': 3.0}, {'classifier_name': 'lc_classifier', 'classifier_version': 'hierarchical_rf_1.1.0', 'class_name': 'AGN', 'probability': 0.0, 'ranking': 11.0}, {'classifier_name': 'lc_classifier', 'classifier_version': 'hierarchical_rf_1.1.0', 'class_name': 'Blazar', 'probability': 0.000144, 'ranking': 9.0}, {'classifier_name': 'lc_classifier', 'classifier_version': 'hierarchical_rf_1.1.0', 'class_name': 'CEP', 'probability': 0.242536, 'ranking': 2.0}, {'classifier_name': 'lc_classifier', 'classifier_version': 'hierarchical_rf_1.1.0', 'class_name': 'CV,Nova', 'probability': 0.414, 'ranking': 2.0}, {'classifier_name': 'lc_classifier_stochastic', 'classifier_version': 'hierarchical_rf_1.1.0', 'class_name': 'QSO', 'probability': 0.002, 'ranking': 4.0}, {'classifier_name': 'lc_classifier_stochastic', 'classifier_version': 'hierarchical_rf_1.1.0', 'class_name': 'YSO', 'probability': 0.56, 'ranking': 1.0}, {'classifier_name': 'lc_classifier_periodic', 'classifier_version': 'hierarchical_rf_1.1.0', 'class_name': 'CEP', 'probability': 0.244, 'ranking': 2.0}, {'classifier_name': 'lc_classifier_periodic', 'classifier_version': 'hierarchical_rf_1.1.0', 'class_name': 'DSCT', 'probability': 0.028, 'ranking': 5.0}, {'classifier_name': 'lc_classifier_periodic', 'classifier_version': 'hierarchical_rf_1.1.0', 'class_name': 'E', 'probability': 0.622, 'ranking': 1.0}, {'classifier_name': 'lc_classifier_periodic', 'classifier_version': 'hierarchical_rf_1.1.0', 'class_name': 'LPV', 'probability': 0.002, 'ranking': 6.0}, {'classifier_name': 'lc_classifier_periodic', 'classifier_version': 'hierarchical_rf_1.1.0', 'class_name': 'Periodic-Other', 'probability': 0.062, 'ranking': 3.0}, {'classifier_name': 'lc_classifier_periodic', 'classifier_version': 'hierarchical_rf_1.1.0', 'class_name': 'RRL', 'probability': 0.042, 'ranking': 4.0}]}\n",
      "{'_id': 'AL17kvzjrikyiplhk', 'oid': ['ZTF17aaaaqsv'], 'lastmjd': 59540.4116898002, 'firstmjd': 58338.4519213, 'ndet': 1134.0, 'loc': {'type': 'Point', 'coordinates': [-122.547964802469, 46.1408380640212]}, 'meanra': 57.4520351975309, 'meandec': 46.1408380640212, 'e_ra': 8.72997399832839e-05, 'e_dec': 7.08752375980249e-05, 'tid': ['ZTF'], 'probabilities': [{'classifier_name': 'lc_classifier_transient', 'classifier_version': 'hierarchical_rf_1.1.0', 'class_name': 'SLSN', 'probability': 0.292, 'ranking': 1.0}, {'classifier_name': 'lc_classifier_transient', 'classifier_version': 'hierarchical_rf_1.1.0', 'class_name': 'SNIa', 'probability': 0.214, 'ranking': 4.0}, {'classifier_name': 'lc_classifier_transient', 'classifier_version': 'hierarchical_rf_1.1.0', 'class_name': 'SNIbc', 'probability': 0.216, 'ranking': 3.0}, {'classifier_name': 'lc_classifier_transient', 'classifier_version': 'hierarchical_rf_1.1.0', 'class_name': 'SNII', 'probability': 0.278, 'ranking': 2.0}, {'classifier_name': 'lc_classifier', 'classifier_version': 'hierarchical_rf_1.1.0', 'class_name': 'AGN', 'probability': 1.6e-05, 'ranking': 9.0}, {'classifier_name': 'lc_classifier', 'classifier_version': 'hierarchical_rf_1.1.0', 'class_name': 'Blazar', 'probability': 6.4e-05, 'ranking': 8.0}, {'classifier_name': 'lc_classifier', 'classifier_version': 'hierarchical_rf_1.1.0', 'class_name': 'CEP', 'probability': 0.111104, 'ranking': 2.0}, {'classifier_name': 'lc_classifier', 'classifier_version': 'hierarchical_rf_1.1.0', 'class_name': 'CV,Nova', 'probability': 0.882, 'ranking': 1.0}, {'classifier_name': 'lc_classifier_stochastic', 'classifier_version': 'hierarchical_rf_1.1.0', 'class_name': 'QSO', 'probability': 0.002, 'ranking': 4.0}, {'classifier_name': 'lc_classifier_stochastic', 'classifier_version': 'hierarchical_rf_1.1.0', 'class_name': 'YSO', 'probability': 0.106, 'ranking': 2.0}, {'classifier_name': 'lc_classifier_top', 'classifier_version': 'hierarchical_rf_1.1.0', 'class_name': 'Periodic', 'probability': 0.992, 'ranking': 1.0}, {'classifier_name': 'lc_classifier_top', 'classifier_version': 'hierarchical_rf_1.1.0', 'class_name': 'Stochastic', 'probability': 0.008, 'ranking': 2.0}, {'classifier_name': 'lc_classifier_top', 'classifier_version': 'hierarchical_rf_1.1.0', 'class_name': 'Transient', 'probability': 0.0, 'ranking': 3.0}]}\n",
      "{'_id': 'AL17lasirdapyanxs', 'oid': ['ZTF17aaabawk'], 'lastmjd': 59542.3199421, 'firstmjd': 58343.4893749999, 'ndet': 565.0, 'loc': {'type': 'Point', 'coordinates': [-99.2226274430088, 37.7394734766372]}, 'meanra': 80.7773725569912, 'meandec': 37.7394734766372, 'e_ra': 6.12570494550145e-05, 'e_dec': 4.31922490172622e-05, 'tid': ['ZTF'], 'probabilities': [{'classifier_name': 'lc_classifier_stochastic', 'classifier_version': 'hierarchical_rf_1.1.0', 'class_name': 'AGN', 'probability': 0.014, 'ranking': 4.0}, {'classifier_name': 'lc_classifier_stochastic', 'classifier_version': 'hierarchical_rf_1.1.0', 'class_name': 'Blazar', 'probability': 0.074, 'ranking': 3.0}, {'classifier_name': 'lc_classifier_stochastic', 'classifier_version': 'hierarchical_rf_1.1.0', 'class_name': 'CV,Nova', 'probability': 0.000352, 'ranking': 4.0}, {'classifier_name': 'lc_classifier', 'classifier_version': 'hierarchical_rf_1.1.0', 'class_name': 'DSCT', 'probability': 0.0, 'ranking': 8.0}, {'classifier_name': 'lc_classifier', 'classifier_version': 'hierarchical_rf_1.1.0', 'class_name': 'E', 'probability': 0.0, 'ranking': 8.0}, {'classifier_name': 'lc_classifier', 'classifier_version': 'hierarchical_rf_1.1.0', 'class_name': 'LPV', 'probability': 0.990024, 'ranking': 1.0}, {'classifier_name': 'lc_classifier', 'classifier_version': 'hierarchical_rf_1.1.0', 'class_name': 'Periodic-Other', 'probability': 0.0, 'ranking': 8.0}, {'classifier_name': 'lc_classifier', 'classifier_version': 'hierarchical_rf_1.1.0', 'class_name': 'QSO', 'probability': 8e-06, 'ranking': 7.0}, {'classifier_name': 'lc_classifier', 'classifier_version': 'hierarchical_rf_1.1.0', 'class_name': 'RRL', 'probability': 0.0, 'ranking': 8.0}, {'classifier_name': 'lc_classifier', 'classifier_version': 'hierarchical_rf_1.1.0', 'class_name': 'SLSN', 'probability': 0.0, 'ranking': 8.0}, {'classifier_name': 'lc_classifier', 'classifier_version': 'hierarchical_rf_1.1.0', 'class_name': 'SNIa', 'probability': 0.0, 'ranking': 8.0}, {'classifier_name': 'lc_classifier', 'classifier_version': 'hierarchical_rf_1.1.0', 'class_name': 'SNIbc', 'probability': 0.0, 'ranking': 8.0}, {'classifier_name': 'lc_classifier', 'classifier_version': 'hierarchical_rf_1.1.0', 'class_name': 'SNII', 'probability': 0.0, 'ranking': 8.0}, {'classifier_name': 'lc_classifier', 'classifier_version': 'hierarchical_rf_1.1.0', 'class_name': 'YSO', 'probability': 0.003288, 'ranking': 3.0}, {'classifier_name': 'stamp_classifier', 'classifier_version': 'stamp_classifier_1.0.0', 'class_name': 'AGN', 'probability': 0.051827654, 'ranking': 5.0}, {'classifier_name': 'stamp_classifier', 'classifier_version': 'stamp_classifier_1.0.0', 'class_name': 'asteroid', 'probability': 0.07379107, 'ranking': 2.0}, {'classifier_name': 'stamp_classifier', 'classifier_version': 'stamp_classifier_1.0.0', 'class_name': 'bogus', 'probability': 0.059622437, 'ranking': 4.0}, {'classifier_name': 'stamp_classifier', 'classifier_version': 'stamp_classifier_1.0.0', 'class_name': 'SN', 'probability': 0.06678323, 'ranking': 3.0}, {'classifier_name': 'stamp_classifier', 'classifier_version': 'stamp_classifier_1.0.0', 'class_name': 'VS', 'probability': 0.7479756, 'ranking': 1.0}, {'classifier_name': 'stamp_classifier', 'classifier_version': 'stamp_classifier_1.0.4', 'class_name': 'AGN', 'probability': 0.05190682, 'ranking': 3.0}, {'classifier_name': 'stamp_classifier', 'classifier_version': 'stamp_classifier_1.0.4', 'class_name': 'asteroid', 'probability': 0.0479248, 'ranking': 5.0}, {'classifier_name': 'stamp_classifier', 'classifier_version': 'stamp_classifier_1.0.4', 'class_name': 'bogus', 'probability': 0.07156457, 'ranking': 2.0}, {'classifier_name': 'stamp_classifier', 'classifier_version': 'stamp_classifier_1.0.4', 'class_name': 'SN', 'probability': 0.04890523, 'ranking': 4.0}, {'classifier_name': 'stamp_classifier', 'classifier_version': 'stamp_classifier_1.0.4', 'class_name': 'VS', 'probability': 0.77969855, 'ranking': 1.0}, {'classifier_name': 'lc_classifier_top', 'classifier_version': 'hierarchical_rf_1.1.0', 'class_name': 'Periodic', 'probability': 0.996, 'ranking': 1.0}, {'classifier_name': 'lc_classifier_top', 'classifier_version': 'hierarchical_rf_1.1.0', 'class_name': 'Stochastic', 'probability': 0.004, 'ranking': 2.0}, {'classifier_name': 'lc_classifier_top', 'classifier_version': 'hierarchical_rf_1.1.0', 'class_name': 'Transient', 'probability': 0.0, 'ranking': 3.0}, {'classifier_name': 'lc_classifier_transient', 'classifier_version': 'hierarchical_rf_1.1.0', 'class_name': 'SLSN', 'probability': 0.348, 'ranking': 1.0}, {'classifier_name': 'lc_classifier_transient', 'classifier_version': 'hierarchical_rf_1.1.0', 'class_name': 'SNIa', 'probability': 0.108, 'ranking': 4.0}, {'classifier_name': 'lc_classifier_transient', 'classifier_version': 'hierarchical_rf_1.1.0', 'class_name': 'SNIbc', 'probability': 0.21, 'ranking': 3.0}, {'classifier_name': 'lc_classifier_transient', 'classifier_version': 'hierarchical_rf_1.1.0', 'class_name': 'SNII', 'probability': 0.334, 'ranking': 2.0}]}\n"
     ]
    }
   ],
   "source": [
    "for doc in docs:\n",
    "    print(doc)"
   ]
  },
  {
   "cell_type": "markdown",
   "id": "55bd4a56-7a53-4e28-b348-c0bacac81db4",
   "metadata": {},
   "source": [
    "### `$project`\n",
    "\n",
    "As the name implies, the `$project` stage is equivalent to the projection we've seen in the previous module:"
   ]
  },
  {
   "cell_type": "code",
   "execution_count": 11,
   "id": "3d0cf774-f93b-4c54-8756-c6a5f3a5aef5",
   "metadata": {},
   "outputs": [
    {
     "name": "stdout",
     "output_type": "stream",
     "text": [
      "{'ndet': 166.0}\n",
      "{'ndet': 226.0}\n",
      "{'ndet': 94.0}\n",
      "{'ndet': 345.0}\n",
      "{'ndet': 144.0}\n",
      "{'ndet': 196.0}\n",
      "{'ndet': 59.0}\n",
      "{'ndet': 893.0}\n",
      "{'ndet': 1134.0}\n",
      "{'ndet': 565.0}\n",
      "{'ndet': 197.0}\n",
      "{'ndet': 378.0}\n",
      "{'ndet': 90.0}\n",
      "{'ndet': 126.0}\n",
      "{'ndet': 205.0}\n",
      "{'ndet': 152.0}\n",
      "{'ndet': 195.0}\n",
      "{'ndet': 84.0}\n",
      "{'ndet': 163.0}\n",
      "{'ndet': 205.0}\n",
      "{'ndet': 192.0}\n",
      "{'ndet': 317.0}\n",
      "{'ndet': 304.0}\n",
      "{'ndet': 70.0}\n"
     ]
    }
   ],
   "source": [
    "docs = objects.aggregate([{'$project': {'ndet': True, '_id': False}}])\n",
    "\n",
    "for doc in docs:\n",
    "    print(doc)"
   ]
  },
  {
   "cell_type": "markdown",
   "id": "ecf247a6-f714-4c67-a613-eac32b5031bb",
   "metadata": {},
   "source": [
    "Each stage can be concatenated in any order. Keep in mind that the field being used might change due to renaming and the order of the stages. The following to blocks give the same result:"
   ]
  },
  {
   "cell_type": "code",
   "execution_count": 14,
   "id": "69fe0dfa-3453-425c-850b-45052b71dc72",
   "metadata": {},
   "outputs": [
    {
     "name": "stdout",
     "output_type": "stream",
     "text": [
      "{'detections': 893.0}\n",
      "{'detections': 1134.0}\n",
      "{'detections': 565.0}\n"
     ]
    }
   ],
   "source": [
    "docs = objects.aggregate([\n",
    "    {'$project': {'detections': '$ndet', '_id': False}},  # Renaming the field\n",
    "    {'$match': {'detections': {'$gte': 400}}}  # We need to use the new name\n",
    "])\n",
    "\n",
    "for doc in docs:\n",
    "    print(doc)"
   ]
  },
  {
   "cell_type": "code",
   "execution_count": 15,
   "id": "f09bdc47-0a68-43ce-ae4d-6ca03d82d0c2",
   "metadata": {},
   "outputs": [
    {
     "name": "stdout",
     "output_type": "stream",
     "text": [
      "{'detections': 893.0}\n",
      "{'detections': 1134.0}\n",
      "{'detections': 565.0}\n"
     ]
    }
   ],
   "source": [
    "docs = objects.aggregate([\n",
    "    {'$match': {'ndet': {'$gte': 400}}},  # Using ndet    \n",
    "    {'$project': {'detections': '$ndet', '_id': False}},  # Renaming the field\n",
    "])\n",
    "\n",
    "for doc in docs:\n",
    "    print(doc)"
   ]
  },
  {
   "cell_type": "markdown",
   "id": "8a1efc45-7846-484d-9882-c867650355bb",
   "metadata": {},
   "source": [
    "However, it is important to note that, in terms of performance they are both very different. By starting with the match, we only need to rename the field for the 3 documents matched documents. Using the reverse order, we'll be renaming the field for the whole collection and then selecting the relevant documents.\n",
    "\n",
    "**It is recommended to start a pipeline with a `$match` that limits as much as possible the number of results.**"
   ]
  },
  {
   "cell_type": "markdown",
   "id": "38688c46-aac7-40b3-9177-8403142eb465",
   "metadata": {},
   "source": [
    "### `$set`/`$addFields`\n",
    "\n",
    "These stages do the same thing, although `$set` is only available starting on MongoDB 4.2. Their behaviour is similar to that of `$project` when creating a new field. The difference comes in the fact that the new fields are added to the existing ones instead of having to select what is going to be in the output:"
   ]
  },
  {
   "cell_type": "code",
   "execution_count": 18,
   "id": "1ff71bce-682c-44a6-b75d-ffd2b76b1461",
   "metadata": {},
   "outputs": [
    {
     "name": "stdout",
     "output_type": "stream",
     "text": [
      "{'_id': 'AL17ktitbgrfqqhkq', 'oid': ['ZTF17aaaaqna'], 'lastmjd': 59540.4023263999, 'firstmjd': 58336.4893518998, 'ndet': 893.0, 'loc': {'type': 'Point', 'coordinates': [-136.754695090594, 54.2043687354983]}, 'meanra': 43.2453049094065, 'meandec': 54.2043687354983, 'e_ra': 0.000140560890213381, 'e_dec': 9.233896881721e-05, 'tid': ['ZTF'], 'probabilities': [{'classifier_name': 'lc_classifier_top', 'classifier_version': 'hierarchical_rf_1.1.0', 'class_name': 'Periodic', 'probability': 0.994, 'ranking': 1.0}, {'classifier_name': 'lc_classifier_top', 'classifier_version': 'hierarchical_rf_1.1.0', 'class_name': 'Stochastic', 'probability': 0.006, 'ranking': 2.0}, {'classifier_name': 'lc_classifier_top', 'classifier_version': 'hierarchical_rf_1.1.0', 'class_name': 'Transient', 'probability': 0.0, 'ranking': 3.0}, {'classifier_name': 'lc_classifier', 'classifier_version': 'hierarchical_rf_1.1.0', 'class_name': 'AGN', 'probability': 0.0, 'ranking': 11.0}, {'classifier_name': 'lc_classifier', 'classifier_version': 'hierarchical_rf_1.1.0', 'class_name': 'Blazar', 'probability': 0.000144, 'ranking': 9.0}, {'classifier_name': 'lc_classifier', 'classifier_version': 'hierarchical_rf_1.1.0', 'class_name': 'CEP', 'probability': 0.242536, 'ranking': 2.0}, {'classifier_name': 'lc_classifier', 'classifier_version': 'hierarchical_rf_1.1.0', 'class_name': 'CV,Nova', 'probability': 0.414, 'ranking': 2.0}, {'classifier_name': 'lc_classifier_stochastic', 'classifier_version': 'hierarchical_rf_1.1.0', 'class_name': 'QSO', 'probability': 0.002, 'ranking': 4.0}, {'classifier_name': 'lc_classifier_stochastic', 'classifier_version': 'hierarchical_rf_1.1.0', 'class_name': 'YSO', 'probability': 0.56, 'ranking': 1.0}, {'classifier_name': 'lc_classifier_periodic', 'classifier_version': 'hierarchical_rf_1.1.0', 'class_name': 'CEP', 'probability': 0.244, 'ranking': 2.0}, {'classifier_name': 'lc_classifier_periodic', 'classifier_version': 'hierarchical_rf_1.1.0', 'class_name': 'DSCT', 'probability': 0.028, 'ranking': 5.0}, {'classifier_name': 'lc_classifier_periodic', 'classifier_version': 'hierarchical_rf_1.1.0', 'class_name': 'E', 'probability': 0.622, 'ranking': 1.0}, {'classifier_name': 'lc_classifier_periodic', 'classifier_version': 'hierarchical_rf_1.1.0', 'class_name': 'LPV', 'probability': 0.002, 'ranking': 6.0}, {'classifier_name': 'lc_classifier_periodic', 'classifier_version': 'hierarchical_rf_1.1.0', 'class_name': 'Periodic-Other', 'probability': 0.062, 'ranking': 3.0}, {'classifier_name': 'lc_classifier_periodic', 'classifier_version': 'hierarchical_rf_1.1.0', 'class_name': 'RRL', 'probability': 0.042, 'ranking': 4.0}], 'deltamjd': 1203.9129745000973}\n",
      "{'_id': 'AL17kvzjrikyiplhk', 'oid': ['ZTF17aaaaqsv'], 'lastmjd': 59540.4116898002, 'firstmjd': 58338.4519213, 'ndet': 1134.0, 'loc': {'type': 'Point', 'coordinates': [-122.547964802469, 46.1408380640212]}, 'meanra': 57.4520351975309, 'meandec': 46.1408380640212, 'e_ra': 8.72997399832839e-05, 'e_dec': 7.08752375980249e-05, 'tid': ['ZTF'], 'probabilities': [{'classifier_name': 'lc_classifier_transient', 'classifier_version': 'hierarchical_rf_1.1.0', 'class_name': 'SLSN', 'probability': 0.292, 'ranking': 1.0}, {'classifier_name': 'lc_classifier_transient', 'classifier_version': 'hierarchical_rf_1.1.0', 'class_name': 'SNIa', 'probability': 0.214, 'ranking': 4.0}, {'classifier_name': 'lc_classifier_transient', 'classifier_version': 'hierarchical_rf_1.1.0', 'class_name': 'SNIbc', 'probability': 0.216, 'ranking': 3.0}, {'classifier_name': 'lc_classifier_transient', 'classifier_version': 'hierarchical_rf_1.1.0', 'class_name': 'SNII', 'probability': 0.278, 'ranking': 2.0}, {'classifier_name': 'lc_classifier', 'classifier_version': 'hierarchical_rf_1.1.0', 'class_name': 'AGN', 'probability': 1.6e-05, 'ranking': 9.0}, {'classifier_name': 'lc_classifier', 'classifier_version': 'hierarchical_rf_1.1.0', 'class_name': 'Blazar', 'probability': 6.4e-05, 'ranking': 8.0}, {'classifier_name': 'lc_classifier', 'classifier_version': 'hierarchical_rf_1.1.0', 'class_name': 'CEP', 'probability': 0.111104, 'ranking': 2.0}, {'classifier_name': 'lc_classifier', 'classifier_version': 'hierarchical_rf_1.1.0', 'class_name': 'CV,Nova', 'probability': 0.882, 'ranking': 1.0}, {'classifier_name': 'lc_classifier_stochastic', 'classifier_version': 'hierarchical_rf_1.1.0', 'class_name': 'QSO', 'probability': 0.002, 'ranking': 4.0}, {'classifier_name': 'lc_classifier_stochastic', 'classifier_version': 'hierarchical_rf_1.1.0', 'class_name': 'YSO', 'probability': 0.106, 'ranking': 2.0}, {'classifier_name': 'lc_classifier_top', 'classifier_version': 'hierarchical_rf_1.1.0', 'class_name': 'Periodic', 'probability': 0.992, 'ranking': 1.0}, {'classifier_name': 'lc_classifier_top', 'classifier_version': 'hierarchical_rf_1.1.0', 'class_name': 'Stochastic', 'probability': 0.008, 'ranking': 2.0}, {'classifier_name': 'lc_classifier_top', 'classifier_version': 'hierarchical_rf_1.1.0', 'class_name': 'Transient', 'probability': 0.0, 'ranking': 3.0}], 'deltamjd': 1201.9597685002009}\n",
      "{'_id': 'AL17lasirdapyanxs', 'oid': ['ZTF17aaabawk'], 'lastmjd': 59542.3199421, 'firstmjd': 58343.4893749999, 'ndet': 565.0, 'loc': {'type': 'Point', 'coordinates': [-99.2226274430088, 37.7394734766372]}, 'meanra': 80.7773725569912, 'meandec': 37.7394734766372, 'e_ra': 6.12570494550145e-05, 'e_dec': 4.31922490172622e-05, 'tid': ['ZTF'], 'probabilities': [{'classifier_name': 'lc_classifier_stochastic', 'classifier_version': 'hierarchical_rf_1.1.0', 'class_name': 'AGN', 'probability': 0.014, 'ranking': 4.0}, {'classifier_name': 'lc_classifier_stochastic', 'classifier_version': 'hierarchical_rf_1.1.0', 'class_name': 'Blazar', 'probability': 0.074, 'ranking': 3.0}, {'classifier_name': 'lc_classifier_stochastic', 'classifier_version': 'hierarchical_rf_1.1.0', 'class_name': 'CV,Nova', 'probability': 0.000352, 'ranking': 4.0}, {'classifier_name': 'lc_classifier', 'classifier_version': 'hierarchical_rf_1.1.0', 'class_name': 'DSCT', 'probability': 0.0, 'ranking': 8.0}, {'classifier_name': 'lc_classifier', 'classifier_version': 'hierarchical_rf_1.1.0', 'class_name': 'E', 'probability': 0.0, 'ranking': 8.0}, {'classifier_name': 'lc_classifier', 'classifier_version': 'hierarchical_rf_1.1.0', 'class_name': 'LPV', 'probability': 0.990024, 'ranking': 1.0}, {'classifier_name': 'lc_classifier', 'classifier_version': 'hierarchical_rf_1.1.0', 'class_name': 'Periodic-Other', 'probability': 0.0, 'ranking': 8.0}, {'classifier_name': 'lc_classifier', 'classifier_version': 'hierarchical_rf_1.1.0', 'class_name': 'QSO', 'probability': 8e-06, 'ranking': 7.0}, {'classifier_name': 'lc_classifier', 'classifier_version': 'hierarchical_rf_1.1.0', 'class_name': 'RRL', 'probability': 0.0, 'ranking': 8.0}, {'classifier_name': 'lc_classifier', 'classifier_version': 'hierarchical_rf_1.1.0', 'class_name': 'SLSN', 'probability': 0.0, 'ranking': 8.0}, {'classifier_name': 'lc_classifier', 'classifier_version': 'hierarchical_rf_1.1.0', 'class_name': 'SNIa', 'probability': 0.0, 'ranking': 8.0}, {'classifier_name': 'lc_classifier', 'classifier_version': 'hierarchical_rf_1.1.0', 'class_name': 'SNIbc', 'probability': 0.0, 'ranking': 8.0}, {'classifier_name': 'lc_classifier', 'classifier_version': 'hierarchical_rf_1.1.0', 'class_name': 'SNII', 'probability': 0.0, 'ranking': 8.0}, {'classifier_name': 'lc_classifier', 'classifier_version': 'hierarchical_rf_1.1.0', 'class_name': 'YSO', 'probability': 0.003288, 'ranking': 3.0}, {'classifier_name': 'stamp_classifier', 'classifier_version': 'stamp_classifier_1.0.0', 'class_name': 'AGN', 'probability': 0.051827654, 'ranking': 5.0}, {'classifier_name': 'stamp_classifier', 'classifier_version': 'stamp_classifier_1.0.0', 'class_name': 'asteroid', 'probability': 0.07379107, 'ranking': 2.0}, {'classifier_name': 'stamp_classifier', 'classifier_version': 'stamp_classifier_1.0.0', 'class_name': 'bogus', 'probability': 0.059622437, 'ranking': 4.0}, {'classifier_name': 'stamp_classifier', 'classifier_version': 'stamp_classifier_1.0.0', 'class_name': 'SN', 'probability': 0.06678323, 'ranking': 3.0}, {'classifier_name': 'stamp_classifier', 'classifier_version': 'stamp_classifier_1.0.0', 'class_name': 'VS', 'probability': 0.7479756, 'ranking': 1.0}, {'classifier_name': 'stamp_classifier', 'classifier_version': 'stamp_classifier_1.0.4', 'class_name': 'AGN', 'probability': 0.05190682, 'ranking': 3.0}, {'classifier_name': 'stamp_classifier', 'classifier_version': 'stamp_classifier_1.0.4', 'class_name': 'asteroid', 'probability': 0.0479248, 'ranking': 5.0}, {'classifier_name': 'stamp_classifier', 'classifier_version': 'stamp_classifier_1.0.4', 'class_name': 'bogus', 'probability': 0.07156457, 'ranking': 2.0}, {'classifier_name': 'stamp_classifier', 'classifier_version': 'stamp_classifier_1.0.4', 'class_name': 'SN', 'probability': 0.04890523, 'ranking': 4.0}, {'classifier_name': 'stamp_classifier', 'classifier_version': 'stamp_classifier_1.0.4', 'class_name': 'VS', 'probability': 0.77969855, 'ranking': 1.0}, {'classifier_name': 'lc_classifier_top', 'classifier_version': 'hierarchical_rf_1.1.0', 'class_name': 'Periodic', 'probability': 0.996, 'ranking': 1.0}, {'classifier_name': 'lc_classifier_top', 'classifier_version': 'hierarchical_rf_1.1.0', 'class_name': 'Stochastic', 'probability': 0.004, 'ranking': 2.0}, {'classifier_name': 'lc_classifier_top', 'classifier_version': 'hierarchical_rf_1.1.0', 'class_name': 'Transient', 'probability': 0.0, 'ranking': 3.0}, {'classifier_name': 'lc_classifier_transient', 'classifier_version': 'hierarchical_rf_1.1.0', 'class_name': 'SLSN', 'probability': 0.348, 'ranking': 1.0}, {'classifier_name': 'lc_classifier_transient', 'classifier_version': 'hierarchical_rf_1.1.0', 'class_name': 'SNIa', 'probability': 0.108, 'ranking': 4.0}, {'classifier_name': 'lc_classifier_transient', 'classifier_version': 'hierarchical_rf_1.1.0', 'class_name': 'SNIbc', 'probability': 0.21, 'ranking': 3.0}, {'classifier_name': 'lc_classifier_transient', 'classifier_version': 'hierarchical_rf_1.1.0', 'class_name': 'SNII', 'probability': 0.334, 'ranking': 2.0}], 'deltamjd': 1198.8305671000999}\n"
     ]
    }
   ],
   "source": [
    "docs = objects.aggregate([\n",
    "    {'$match': {'ndet': {'$gte': 400}}},\n",
    "    {'$set': {'deltamjd': {'$subtract': ['$lastmjd', '$firstmjd']}}},\n",
    "])\n",
    "\n",
    "for doc in docs:\n",
    "    print(doc)"
   ]
  },
  {
   "cell_type": "markdown",
   "id": "5b43139f-0404-4d1e-96b2-f930ac63c81a",
   "metadata": {},
   "source": [
    "The new fields are always added at the end of the dictionary. More than one field can be added in a single stage:"
   ]
  },
  {
   "cell_type": "code",
   "execution_count": 21,
   "id": "4439e77b-293b-4ee2-b3e2-f1b1d3958fee",
   "metadata": {},
   "outputs": [
    {
     "name": "stdout",
     "output_type": "stream",
     "text": [
      "{'_id': 'AL17ktitbgrfqqhkq', 'oid': ['ZTF17aaaaqna'], 'lastmjd': 59540.4023263999, 'firstmjd': 58336.4893518998, 'ndet': 893.0, 'loc': {'type': 'Point', 'coordinates': [-136.754695090594, 54.2043687354983]}, 'meanra': 43.2453049094065, 'meandec': 54.2043687354983, 'e_ra': 0.000140560890213381, 'e_dec': 9.233896881721e-05, 'tid': ['ZTF'], 'probabilities': [{'classifier_name': 'lc_classifier_top', 'classifier_version': 'hierarchical_rf_1.1.0', 'class_name': 'Periodic', 'probability': 0.994, 'ranking': 1.0}, {'classifier_name': 'lc_classifier_top', 'classifier_version': 'hierarchical_rf_1.1.0', 'class_name': 'Stochastic', 'probability': 0.006, 'ranking': 2.0}, {'classifier_name': 'lc_classifier_top', 'classifier_version': 'hierarchical_rf_1.1.0', 'class_name': 'Transient', 'probability': 0.0, 'ranking': 3.0}, {'classifier_name': 'lc_classifier', 'classifier_version': 'hierarchical_rf_1.1.0', 'class_name': 'AGN', 'probability': 0.0, 'ranking': 11.0}, {'classifier_name': 'lc_classifier', 'classifier_version': 'hierarchical_rf_1.1.0', 'class_name': 'Blazar', 'probability': 0.000144, 'ranking': 9.0}, {'classifier_name': 'lc_classifier', 'classifier_version': 'hierarchical_rf_1.1.0', 'class_name': 'CEP', 'probability': 0.242536, 'ranking': 2.0}, {'classifier_name': 'lc_classifier', 'classifier_version': 'hierarchical_rf_1.1.0', 'class_name': 'CV,Nova', 'probability': 0.414, 'ranking': 2.0}, {'classifier_name': 'lc_classifier_stochastic', 'classifier_version': 'hierarchical_rf_1.1.0', 'class_name': 'QSO', 'probability': 0.002, 'ranking': 4.0}, {'classifier_name': 'lc_classifier_stochastic', 'classifier_version': 'hierarchical_rf_1.1.0', 'class_name': 'YSO', 'probability': 0.56, 'ranking': 1.0}, {'classifier_name': 'lc_classifier_periodic', 'classifier_version': 'hierarchical_rf_1.1.0', 'class_name': 'CEP', 'probability': 0.244, 'ranking': 2.0}, {'classifier_name': 'lc_classifier_periodic', 'classifier_version': 'hierarchical_rf_1.1.0', 'class_name': 'DSCT', 'probability': 0.028, 'ranking': 5.0}, {'classifier_name': 'lc_classifier_periodic', 'classifier_version': 'hierarchical_rf_1.1.0', 'class_name': 'E', 'probability': 0.622, 'ranking': 1.0}, {'classifier_name': 'lc_classifier_periodic', 'classifier_version': 'hierarchical_rf_1.1.0', 'class_name': 'LPV', 'probability': 0.002, 'ranking': 6.0}, {'classifier_name': 'lc_classifier_periodic', 'classifier_version': 'hierarchical_rf_1.1.0', 'class_name': 'Periodic-Other', 'probability': 0.062, 'ranking': 3.0}, {'classifier_name': 'lc_classifier_periodic', 'classifier_version': 'hierarchical_rf_1.1.0', 'class_name': 'RRL', 'probability': 0.042, 'ranking': 4.0}], 'deltamjd': 1203.9129745000973, 'stamp_classified': False}\n",
      "{'_id': 'AL17kvzjrikyiplhk', 'oid': ['ZTF17aaaaqsv'], 'lastmjd': 59540.4116898002, 'firstmjd': 58338.4519213, 'ndet': 1134.0, 'loc': {'type': 'Point', 'coordinates': [-122.547964802469, 46.1408380640212]}, 'meanra': 57.4520351975309, 'meandec': 46.1408380640212, 'e_ra': 8.72997399832839e-05, 'e_dec': 7.08752375980249e-05, 'tid': ['ZTF'], 'probabilities': [{'classifier_name': 'lc_classifier_transient', 'classifier_version': 'hierarchical_rf_1.1.0', 'class_name': 'SLSN', 'probability': 0.292, 'ranking': 1.0}, {'classifier_name': 'lc_classifier_transient', 'classifier_version': 'hierarchical_rf_1.1.0', 'class_name': 'SNIa', 'probability': 0.214, 'ranking': 4.0}, {'classifier_name': 'lc_classifier_transient', 'classifier_version': 'hierarchical_rf_1.1.0', 'class_name': 'SNIbc', 'probability': 0.216, 'ranking': 3.0}, {'classifier_name': 'lc_classifier_transient', 'classifier_version': 'hierarchical_rf_1.1.0', 'class_name': 'SNII', 'probability': 0.278, 'ranking': 2.0}, {'classifier_name': 'lc_classifier', 'classifier_version': 'hierarchical_rf_1.1.0', 'class_name': 'AGN', 'probability': 1.6e-05, 'ranking': 9.0}, {'classifier_name': 'lc_classifier', 'classifier_version': 'hierarchical_rf_1.1.0', 'class_name': 'Blazar', 'probability': 6.4e-05, 'ranking': 8.0}, {'classifier_name': 'lc_classifier', 'classifier_version': 'hierarchical_rf_1.1.0', 'class_name': 'CEP', 'probability': 0.111104, 'ranking': 2.0}, {'classifier_name': 'lc_classifier', 'classifier_version': 'hierarchical_rf_1.1.0', 'class_name': 'CV,Nova', 'probability': 0.882, 'ranking': 1.0}, {'classifier_name': 'lc_classifier_stochastic', 'classifier_version': 'hierarchical_rf_1.1.0', 'class_name': 'QSO', 'probability': 0.002, 'ranking': 4.0}, {'classifier_name': 'lc_classifier_stochastic', 'classifier_version': 'hierarchical_rf_1.1.0', 'class_name': 'YSO', 'probability': 0.106, 'ranking': 2.0}, {'classifier_name': 'lc_classifier_top', 'classifier_version': 'hierarchical_rf_1.1.0', 'class_name': 'Periodic', 'probability': 0.992, 'ranking': 1.0}, {'classifier_name': 'lc_classifier_top', 'classifier_version': 'hierarchical_rf_1.1.0', 'class_name': 'Stochastic', 'probability': 0.008, 'ranking': 2.0}, {'classifier_name': 'lc_classifier_top', 'classifier_version': 'hierarchical_rf_1.1.0', 'class_name': 'Transient', 'probability': 0.0, 'ranking': 3.0}], 'deltamjd': 1201.9597685002009, 'stamp_classified': False}\n",
      "{'_id': 'AL17lasirdapyanxs', 'oid': ['ZTF17aaabawk'], 'lastmjd': 59542.3199421, 'firstmjd': 58343.4893749999, 'ndet': 565.0, 'loc': {'type': 'Point', 'coordinates': [-99.2226274430088, 37.7394734766372]}, 'meanra': 80.7773725569912, 'meandec': 37.7394734766372, 'e_ra': 6.12570494550145e-05, 'e_dec': 4.31922490172622e-05, 'tid': ['ZTF'], 'probabilities': [{'classifier_name': 'lc_classifier_stochastic', 'classifier_version': 'hierarchical_rf_1.1.0', 'class_name': 'AGN', 'probability': 0.014, 'ranking': 4.0}, {'classifier_name': 'lc_classifier_stochastic', 'classifier_version': 'hierarchical_rf_1.1.0', 'class_name': 'Blazar', 'probability': 0.074, 'ranking': 3.0}, {'classifier_name': 'lc_classifier_stochastic', 'classifier_version': 'hierarchical_rf_1.1.0', 'class_name': 'CV,Nova', 'probability': 0.000352, 'ranking': 4.0}, {'classifier_name': 'lc_classifier', 'classifier_version': 'hierarchical_rf_1.1.0', 'class_name': 'DSCT', 'probability': 0.0, 'ranking': 8.0}, {'classifier_name': 'lc_classifier', 'classifier_version': 'hierarchical_rf_1.1.0', 'class_name': 'E', 'probability': 0.0, 'ranking': 8.0}, {'classifier_name': 'lc_classifier', 'classifier_version': 'hierarchical_rf_1.1.0', 'class_name': 'LPV', 'probability': 0.990024, 'ranking': 1.0}, {'classifier_name': 'lc_classifier', 'classifier_version': 'hierarchical_rf_1.1.0', 'class_name': 'Periodic-Other', 'probability': 0.0, 'ranking': 8.0}, {'classifier_name': 'lc_classifier', 'classifier_version': 'hierarchical_rf_1.1.0', 'class_name': 'QSO', 'probability': 8e-06, 'ranking': 7.0}, {'classifier_name': 'lc_classifier', 'classifier_version': 'hierarchical_rf_1.1.0', 'class_name': 'RRL', 'probability': 0.0, 'ranking': 8.0}, {'classifier_name': 'lc_classifier', 'classifier_version': 'hierarchical_rf_1.1.0', 'class_name': 'SLSN', 'probability': 0.0, 'ranking': 8.0}, {'classifier_name': 'lc_classifier', 'classifier_version': 'hierarchical_rf_1.1.0', 'class_name': 'SNIa', 'probability': 0.0, 'ranking': 8.0}, {'classifier_name': 'lc_classifier', 'classifier_version': 'hierarchical_rf_1.1.0', 'class_name': 'SNIbc', 'probability': 0.0, 'ranking': 8.0}, {'classifier_name': 'lc_classifier', 'classifier_version': 'hierarchical_rf_1.1.0', 'class_name': 'SNII', 'probability': 0.0, 'ranking': 8.0}, {'classifier_name': 'lc_classifier', 'classifier_version': 'hierarchical_rf_1.1.0', 'class_name': 'YSO', 'probability': 0.003288, 'ranking': 3.0}, {'classifier_name': 'stamp_classifier', 'classifier_version': 'stamp_classifier_1.0.0', 'class_name': 'AGN', 'probability': 0.051827654, 'ranking': 5.0}, {'classifier_name': 'stamp_classifier', 'classifier_version': 'stamp_classifier_1.0.0', 'class_name': 'asteroid', 'probability': 0.07379107, 'ranking': 2.0}, {'classifier_name': 'stamp_classifier', 'classifier_version': 'stamp_classifier_1.0.0', 'class_name': 'bogus', 'probability': 0.059622437, 'ranking': 4.0}, {'classifier_name': 'stamp_classifier', 'classifier_version': 'stamp_classifier_1.0.0', 'class_name': 'SN', 'probability': 0.06678323, 'ranking': 3.0}, {'classifier_name': 'stamp_classifier', 'classifier_version': 'stamp_classifier_1.0.0', 'class_name': 'VS', 'probability': 0.7479756, 'ranking': 1.0}, {'classifier_name': 'stamp_classifier', 'classifier_version': 'stamp_classifier_1.0.4', 'class_name': 'AGN', 'probability': 0.05190682, 'ranking': 3.0}, {'classifier_name': 'stamp_classifier', 'classifier_version': 'stamp_classifier_1.0.4', 'class_name': 'asteroid', 'probability': 0.0479248, 'ranking': 5.0}, {'classifier_name': 'stamp_classifier', 'classifier_version': 'stamp_classifier_1.0.4', 'class_name': 'bogus', 'probability': 0.07156457, 'ranking': 2.0}, {'classifier_name': 'stamp_classifier', 'classifier_version': 'stamp_classifier_1.0.4', 'class_name': 'SN', 'probability': 0.04890523, 'ranking': 4.0}, {'classifier_name': 'stamp_classifier', 'classifier_version': 'stamp_classifier_1.0.4', 'class_name': 'VS', 'probability': 0.77969855, 'ranking': 1.0}, {'classifier_name': 'lc_classifier_top', 'classifier_version': 'hierarchical_rf_1.1.0', 'class_name': 'Periodic', 'probability': 0.996, 'ranking': 1.0}, {'classifier_name': 'lc_classifier_top', 'classifier_version': 'hierarchical_rf_1.1.0', 'class_name': 'Stochastic', 'probability': 0.004, 'ranking': 2.0}, {'classifier_name': 'lc_classifier_top', 'classifier_version': 'hierarchical_rf_1.1.0', 'class_name': 'Transient', 'probability': 0.0, 'ranking': 3.0}, {'classifier_name': 'lc_classifier_transient', 'classifier_version': 'hierarchical_rf_1.1.0', 'class_name': 'SLSN', 'probability': 0.348, 'ranking': 1.0}, {'classifier_name': 'lc_classifier_transient', 'classifier_version': 'hierarchical_rf_1.1.0', 'class_name': 'SNIa', 'probability': 0.108, 'ranking': 4.0}, {'classifier_name': 'lc_classifier_transient', 'classifier_version': 'hierarchical_rf_1.1.0', 'class_name': 'SNIbc', 'probability': 0.21, 'ranking': 3.0}, {'classifier_name': 'lc_classifier_transient', 'classifier_version': 'hierarchical_rf_1.1.0', 'class_name': 'SNII', 'probability': 0.334, 'ranking': 2.0}], 'deltamjd': 1198.8305671000999, 'stamp_classified': True}\n"
     ]
    }
   ],
   "source": [
    "docs = objects.aggregate([\n",
    "    {'$match': {'ndet': {'$gte': 400}}},\n",
    "    {'$set': {\n",
    "        'deltamjd': {\n",
    "            '$subtract': ['$lastmjd', '$firstmjd']\n",
    "        },\n",
    "        'stamp_classified': {  # Checks if at least one of the classifier names contains 'stamp_classifier'\n",
    "            '$in': ['stamp_classifier', '$probabilities.classifier_name']\n",
    "        }\n",
    "    }},\n",
    "])\n",
    "\n",
    "for doc in docs:\n",
    "    print(doc)"
   ]
  },
  {
   "cell_type": "markdown",
   "id": "79ba4584-100f-4353-83de-5ac31591d8cb",
   "metadata": {},
   "source": [
    "### `$unwind`\n",
    "\n",
    "The stage `$unwind` is used for arrays and it will \"disarm\" the array, resulting on one document for each array element among all the retrieved documents:"
   ]
  },
  {
   "cell_type": "code",
   "execution_count": 22,
   "id": "bae9cc0d-3279-4271-aa64-08881660c08c",
   "metadata": {},
   "outputs": [
    {
     "name": "stdout",
     "output_type": "stream",
     "text": [
      "{'_id': 'AL17ktitbgrfqqhkq', 'oid': ['ZTF17aaaaqna'], 'lastmjd': 59540.4023263999, 'firstmjd': 58336.4893518998, 'ndet': 893.0, 'loc': {'type': 'Point', 'coordinates': [-136.754695090594, 54.2043687354983]}, 'meanra': 43.2453049094065, 'meandec': 54.2043687354983, 'e_ra': 0.000140560890213381, 'e_dec': 9.233896881721e-05, 'tid': ['ZTF'], 'probabilities': {'classifier_name': 'lc_classifier_top', 'classifier_version': 'hierarchical_rf_1.1.0', 'class_name': 'Periodic', 'probability': 0.994, 'ranking': 1.0}}\n",
      "{'_id': 'AL17ktitbgrfqqhkq', 'oid': ['ZTF17aaaaqna'], 'lastmjd': 59540.4023263999, 'firstmjd': 58336.4893518998, 'ndet': 893.0, 'loc': {'type': 'Point', 'coordinates': [-136.754695090594, 54.2043687354983]}, 'meanra': 43.2453049094065, 'meandec': 54.2043687354983, 'e_ra': 0.000140560890213381, 'e_dec': 9.233896881721e-05, 'tid': ['ZTF'], 'probabilities': {'classifier_name': 'lc_classifier_top', 'classifier_version': 'hierarchical_rf_1.1.0', 'class_name': 'Stochastic', 'probability': 0.006, 'ranking': 2.0}}\n",
      "{'_id': 'AL17ktitbgrfqqhkq', 'oid': ['ZTF17aaaaqna'], 'lastmjd': 59540.4023263999, 'firstmjd': 58336.4893518998, 'ndet': 893.0, 'loc': {'type': 'Point', 'coordinates': [-136.754695090594, 54.2043687354983]}, 'meanra': 43.2453049094065, 'meandec': 54.2043687354983, 'e_ra': 0.000140560890213381, 'e_dec': 9.233896881721e-05, 'tid': ['ZTF'], 'probabilities': {'classifier_name': 'lc_classifier_top', 'classifier_version': 'hierarchical_rf_1.1.0', 'class_name': 'Transient', 'probability': 0.0, 'ranking': 3.0}}\n",
      "{'_id': 'AL17ktitbgrfqqhkq', 'oid': ['ZTF17aaaaqna'], 'lastmjd': 59540.4023263999, 'firstmjd': 58336.4893518998, 'ndet': 893.0, 'loc': {'type': 'Point', 'coordinates': [-136.754695090594, 54.2043687354983]}, 'meanra': 43.2453049094065, 'meandec': 54.2043687354983, 'e_ra': 0.000140560890213381, 'e_dec': 9.233896881721e-05, 'tid': ['ZTF'], 'probabilities': {'classifier_name': 'lc_classifier', 'classifier_version': 'hierarchical_rf_1.1.0', 'class_name': 'AGN', 'probability': 0.0, 'ranking': 11.0}}\n",
      "{'_id': 'AL17ktitbgrfqqhkq', 'oid': ['ZTF17aaaaqna'], 'lastmjd': 59540.4023263999, 'firstmjd': 58336.4893518998, 'ndet': 893.0, 'loc': {'type': 'Point', 'coordinates': [-136.754695090594, 54.2043687354983]}, 'meanra': 43.2453049094065, 'meandec': 54.2043687354983, 'e_ra': 0.000140560890213381, 'e_dec': 9.233896881721e-05, 'tid': ['ZTF'], 'probabilities': {'classifier_name': 'lc_classifier', 'classifier_version': 'hierarchical_rf_1.1.0', 'class_name': 'Blazar', 'probability': 0.000144, 'ranking': 9.0}}\n",
      "{'_id': 'AL17ktitbgrfqqhkq', 'oid': ['ZTF17aaaaqna'], 'lastmjd': 59540.4023263999, 'firstmjd': 58336.4893518998, 'ndet': 893.0, 'loc': {'type': 'Point', 'coordinates': [-136.754695090594, 54.2043687354983]}, 'meanra': 43.2453049094065, 'meandec': 54.2043687354983, 'e_ra': 0.000140560890213381, 'e_dec': 9.233896881721e-05, 'tid': ['ZTF'], 'probabilities': {'classifier_name': 'lc_classifier', 'classifier_version': 'hierarchical_rf_1.1.0', 'class_name': 'CEP', 'probability': 0.242536, 'ranking': 2.0}}\n",
      "{'_id': 'AL17ktitbgrfqqhkq', 'oid': ['ZTF17aaaaqna'], 'lastmjd': 59540.4023263999, 'firstmjd': 58336.4893518998, 'ndet': 893.0, 'loc': {'type': 'Point', 'coordinates': [-136.754695090594, 54.2043687354983]}, 'meanra': 43.2453049094065, 'meandec': 54.2043687354983, 'e_ra': 0.000140560890213381, 'e_dec': 9.233896881721e-05, 'tid': ['ZTF'], 'probabilities': {'classifier_name': 'lc_classifier', 'classifier_version': 'hierarchical_rf_1.1.0', 'class_name': 'CV,Nova', 'probability': 0.414, 'ranking': 2.0}}\n",
      "{'_id': 'AL17ktitbgrfqqhkq', 'oid': ['ZTF17aaaaqna'], 'lastmjd': 59540.4023263999, 'firstmjd': 58336.4893518998, 'ndet': 893.0, 'loc': {'type': 'Point', 'coordinates': [-136.754695090594, 54.2043687354983]}, 'meanra': 43.2453049094065, 'meandec': 54.2043687354983, 'e_ra': 0.000140560890213381, 'e_dec': 9.233896881721e-05, 'tid': ['ZTF'], 'probabilities': {'classifier_name': 'lc_classifier_stochastic', 'classifier_version': 'hierarchical_rf_1.1.0', 'class_name': 'QSO', 'probability': 0.002, 'ranking': 4.0}}\n",
      "{'_id': 'AL17ktitbgrfqqhkq', 'oid': ['ZTF17aaaaqna'], 'lastmjd': 59540.4023263999, 'firstmjd': 58336.4893518998, 'ndet': 893.0, 'loc': {'type': 'Point', 'coordinates': [-136.754695090594, 54.2043687354983]}, 'meanra': 43.2453049094065, 'meandec': 54.2043687354983, 'e_ra': 0.000140560890213381, 'e_dec': 9.233896881721e-05, 'tid': ['ZTF'], 'probabilities': {'classifier_name': 'lc_classifier_stochastic', 'classifier_version': 'hierarchical_rf_1.1.0', 'class_name': 'YSO', 'probability': 0.56, 'ranking': 1.0}}\n",
      "{'_id': 'AL17ktitbgrfqqhkq', 'oid': ['ZTF17aaaaqna'], 'lastmjd': 59540.4023263999, 'firstmjd': 58336.4893518998, 'ndet': 893.0, 'loc': {'type': 'Point', 'coordinates': [-136.754695090594, 54.2043687354983]}, 'meanra': 43.2453049094065, 'meandec': 54.2043687354983, 'e_ra': 0.000140560890213381, 'e_dec': 9.233896881721e-05, 'tid': ['ZTF'], 'probabilities': {'classifier_name': 'lc_classifier_periodic', 'classifier_version': 'hierarchical_rf_1.1.0', 'class_name': 'CEP', 'probability': 0.244, 'ranking': 2.0}}\n",
      "{'_id': 'AL17ktitbgrfqqhkq', 'oid': ['ZTF17aaaaqna'], 'lastmjd': 59540.4023263999, 'firstmjd': 58336.4893518998, 'ndet': 893.0, 'loc': {'type': 'Point', 'coordinates': [-136.754695090594, 54.2043687354983]}, 'meanra': 43.2453049094065, 'meandec': 54.2043687354983, 'e_ra': 0.000140560890213381, 'e_dec': 9.233896881721e-05, 'tid': ['ZTF'], 'probabilities': {'classifier_name': 'lc_classifier_periodic', 'classifier_version': 'hierarchical_rf_1.1.0', 'class_name': 'DSCT', 'probability': 0.028, 'ranking': 5.0}}\n",
      "{'_id': 'AL17ktitbgrfqqhkq', 'oid': ['ZTF17aaaaqna'], 'lastmjd': 59540.4023263999, 'firstmjd': 58336.4893518998, 'ndet': 893.0, 'loc': {'type': 'Point', 'coordinates': [-136.754695090594, 54.2043687354983]}, 'meanra': 43.2453049094065, 'meandec': 54.2043687354983, 'e_ra': 0.000140560890213381, 'e_dec': 9.233896881721e-05, 'tid': ['ZTF'], 'probabilities': {'classifier_name': 'lc_classifier_periodic', 'classifier_version': 'hierarchical_rf_1.1.0', 'class_name': 'E', 'probability': 0.622, 'ranking': 1.0}}\n",
      "{'_id': 'AL17ktitbgrfqqhkq', 'oid': ['ZTF17aaaaqna'], 'lastmjd': 59540.4023263999, 'firstmjd': 58336.4893518998, 'ndet': 893.0, 'loc': {'type': 'Point', 'coordinates': [-136.754695090594, 54.2043687354983]}, 'meanra': 43.2453049094065, 'meandec': 54.2043687354983, 'e_ra': 0.000140560890213381, 'e_dec': 9.233896881721e-05, 'tid': ['ZTF'], 'probabilities': {'classifier_name': 'lc_classifier_periodic', 'classifier_version': 'hierarchical_rf_1.1.0', 'class_name': 'LPV', 'probability': 0.002, 'ranking': 6.0}}\n",
      "{'_id': 'AL17ktitbgrfqqhkq', 'oid': ['ZTF17aaaaqna'], 'lastmjd': 59540.4023263999, 'firstmjd': 58336.4893518998, 'ndet': 893.0, 'loc': {'type': 'Point', 'coordinates': [-136.754695090594, 54.2043687354983]}, 'meanra': 43.2453049094065, 'meandec': 54.2043687354983, 'e_ra': 0.000140560890213381, 'e_dec': 9.233896881721e-05, 'tid': ['ZTF'], 'probabilities': {'classifier_name': 'lc_classifier_periodic', 'classifier_version': 'hierarchical_rf_1.1.0', 'class_name': 'Periodic-Other', 'probability': 0.062, 'ranking': 3.0}}\n",
      "{'_id': 'AL17ktitbgrfqqhkq', 'oid': ['ZTF17aaaaqna'], 'lastmjd': 59540.4023263999, 'firstmjd': 58336.4893518998, 'ndet': 893.0, 'loc': {'type': 'Point', 'coordinates': [-136.754695090594, 54.2043687354983]}, 'meanra': 43.2453049094065, 'meandec': 54.2043687354983, 'e_ra': 0.000140560890213381, 'e_dec': 9.233896881721e-05, 'tid': ['ZTF'], 'probabilities': {'classifier_name': 'lc_classifier_periodic', 'classifier_version': 'hierarchical_rf_1.1.0', 'class_name': 'RRL', 'probability': 0.042, 'ranking': 4.0}}\n",
      "{'_id': 'AL17kvzjrikyiplhk', 'oid': ['ZTF17aaaaqsv'], 'lastmjd': 59540.4116898002, 'firstmjd': 58338.4519213, 'ndet': 1134.0, 'loc': {'type': 'Point', 'coordinates': [-122.547964802469, 46.1408380640212]}, 'meanra': 57.4520351975309, 'meandec': 46.1408380640212, 'e_ra': 8.72997399832839e-05, 'e_dec': 7.08752375980249e-05, 'tid': ['ZTF'], 'probabilities': {'classifier_name': 'lc_classifier_transient', 'classifier_version': 'hierarchical_rf_1.1.0', 'class_name': 'SLSN', 'probability': 0.292, 'ranking': 1.0}}\n",
      "{'_id': 'AL17kvzjrikyiplhk', 'oid': ['ZTF17aaaaqsv'], 'lastmjd': 59540.4116898002, 'firstmjd': 58338.4519213, 'ndet': 1134.0, 'loc': {'type': 'Point', 'coordinates': [-122.547964802469, 46.1408380640212]}, 'meanra': 57.4520351975309, 'meandec': 46.1408380640212, 'e_ra': 8.72997399832839e-05, 'e_dec': 7.08752375980249e-05, 'tid': ['ZTF'], 'probabilities': {'classifier_name': 'lc_classifier_transient', 'classifier_version': 'hierarchical_rf_1.1.0', 'class_name': 'SNIa', 'probability': 0.214, 'ranking': 4.0}}\n",
      "{'_id': 'AL17kvzjrikyiplhk', 'oid': ['ZTF17aaaaqsv'], 'lastmjd': 59540.4116898002, 'firstmjd': 58338.4519213, 'ndet': 1134.0, 'loc': {'type': 'Point', 'coordinates': [-122.547964802469, 46.1408380640212]}, 'meanra': 57.4520351975309, 'meandec': 46.1408380640212, 'e_ra': 8.72997399832839e-05, 'e_dec': 7.08752375980249e-05, 'tid': ['ZTF'], 'probabilities': {'classifier_name': 'lc_classifier_transient', 'classifier_version': 'hierarchical_rf_1.1.0', 'class_name': 'SNIbc', 'probability': 0.216, 'ranking': 3.0}}\n",
      "{'_id': 'AL17kvzjrikyiplhk', 'oid': ['ZTF17aaaaqsv'], 'lastmjd': 59540.4116898002, 'firstmjd': 58338.4519213, 'ndet': 1134.0, 'loc': {'type': 'Point', 'coordinates': [-122.547964802469, 46.1408380640212]}, 'meanra': 57.4520351975309, 'meandec': 46.1408380640212, 'e_ra': 8.72997399832839e-05, 'e_dec': 7.08752375980249e-05, 'tid': ['ZTF'], 'probabilities': {'classifier_name': 'lc_classifier_transient', 'classifier_version': 'hierarchical_rf_1.1.0', 'class_name': 'SNII', 'probability': 0.278, 'ranking': 2.0}}\n",
      "{'_id': 'AL17kvzjrikyiplhk', 'oid': ['ZTF17aaaaqsv'], 'lastmjd': 59540.4116898002, 'firstmjd': 58338.4519213, 'ndet': 1134.0, 'loc': {'type': 'Point', 'coordinates': [-122.547964802469, 46.1408380640212]}, 'meanra': 57.4520351975309, 'meandec': 46.1408380640212, 'e_ra': 8.72997399832839e-05, 'e_dec': 7.08752375980249e-05, 'tid': ['ZTF'], 'probabilities': {'classifier_name': 'lc_classifier', 'classifier_version': 'hierarchical_rf_1.1.0', 'class_name': 'AGN', 'probability': 1.6e-05, 'ranking': 9.0}}\n",
      "{'_id': 'AL17kvzjrikyiplhk', 'oid': ['ZTF17aaaaqsv'], 'lastmjd': 59540.4116898002, 'firstmjd': 58338.4519213, 'ndet': 1134.0, 'loc': {'type': 'Point', 'coordinates': [-122.547964802469, 46.1408380640212]}, 'meanra': 57.4520351975309, 'meandec': 46.1408380640212, 'e_ra': 8.72997399832839e-05, 'e_dec': 7.08752375980249e-05, 'tid': ['ZTF'], 'probabilities': {'classifier_name': 'lc_classifier', 'classifier_version': 'hierarchical_rf_1.1.0', 'class_name': 'Blazar', 'probability': 6.4e-05, 'ranking': 8.0}}\n",
      "{'_id': 'AL17kvzjrikyiplhk', 'oid': ['ZTF17aaaaqsv'], 'lastmjd': 59540.4116898002, 'firstmjd': 58338.4519213, 'ndet': 1134.0, 'loc': {'type': 'Point', 'coordinates': [-122.547964802469, 46.1408380640212]}, 'meanra': 57.4520351975309, 'meandec': 46.1408380640212, 'e_ra': 8.72997399832839e-05, 'e_dec': 7.08752375980249e-05, 'tid': ['ZTF'], 'probabilities': {'classifier_name': 'lc_classifier', 'classifier_version': 'hierarchical_rf_1.1.0', 'class_name': 'CEP', 'probability': 0.111104, 'ranking': 2.0}}\n",
      "{'_id': 'AL17kvzjrikyiplhk', 'oid': ['ZTF17aaaaqsv'], 'lastmjd': 59540.4116898002, 'firstmjd': 58338.4519213, 'ndet': 1134.0, 'loc': {'type': 'Point', 'coordinates': [-122.547964802469, 46.1408380640212]}, 'meanra': 57.4520351975309, 'meandec': 46.1408380640212, 'e_ra': 8.72997399832839e-05, 'e_dec': 7.08752375980249e-05, 'tid': ['ZTF'], 'probabilities': {'classifier_name': 'lc_classifier', 'classifier_version': 'hierarchical_rf_1.1.0', 'class_name': 'CV,Nova', 'probability': 0.882, 'ranking': 1.0}}\n",
      "{'_id': 'AL17kvzjrikyiplhk', 'oid': ['ZTF17aaaaqsv'], 'lastmjd': 59540.4116898002, 'firstmjd': 58338.4519213, 'ndet': 1134.0, 'loc': {'type': 'Point', 'coordinates': [-122.547964802469, 46.1408380640212]}, 'meanra': 57.4520351975309, 'meandec': 46.1408380640212, 'e_ra': 8.72997399832839e-05, 'e_dec': 7.08752375980249e-05, 'tid': ['ZTF'], 'probabilities': {'classifier_name': 'lc_classifier_stochastic', 'classifier_version': 'hierarchical_rf_1.1.0', 'class_name': 'QSO', 'probability': 0.002, 'ranking': 4.0}}\n",
      "{'_id': 'AL17kvzjrikyiplhk', 'oid': ['ZTF17aaaaqsv'], 'lastmjd': 59540.4116898002, 'firstmjd': 58338.4519213, 'ndet': 1134.0, 'loc': {'type': 'Point', 'coordinates': [-122.547964802469, 46.1408380640212]}, 'meanra': 57.4520351975309, 'meandec': 46.1408380640212, 'e_ra': 8.72997399832839e-05, 'e_dec': 7.08752375980249e-05, 'tid': ['ZTF'], 'probabilities': {'classifier_name': 'lc_classifier_stochastic', 'classifier_version': 'hierarchical_rf_1.1.0', 'class_name': 'YSO', 'probability': 0.106, 'ranking': 2.0}}\n",
      "{'_id': 'AL17kvzjrikyiplhk', 'oid': ['ZTF17aaaaqsv'], 'lastmjd': 59540.4116898002, 'firstmjd': 58338.4519213, 'ndet': 1134.0, 'loc': {'type': 'Point', 'coordinates': [-122.547964802469, 46.1408380640212]}, 'meanra': 57.4520351975309, 'meandec': 46.1408380640212, 'e_ra': 8.72997399832839e-05, 'e_dec': 7.08752375980249e-05, 'tid': ['ZTF'], 'probabilities': {'classifier_name': 'lc_classifier_top', 'classifier_version': 'hierarchical_rf_1.1.0', 'class_name': 'Periodic', 'probability': 0.992, 'ranking': 1.0}}\n",
      "{'_id': 'AL17kvzjrikyiplhk', 'oid': ['ZTF17aaaaqsv'], 'lastmjd': 59540.4116898002, 'firstmjd': 58338.4519213, 'ndet': 1134.0, 'loc': {'type': 'Point', 'coordinates': [-122.547964802469, 46.1408380640212]}, 'meanra': 57.4520351975309, 'meandec': 46.1408380640212, 'e_ra': 8.72997399832839e-05, 'e_dec': 7.08752375980249e-05, 'tid': ['ZTF'], 'probabilities': {'classifier_name': 'lc_classifier_top', 'classifier_version': 'hierarchical_rf_1.1.0', 'class_name': 'Stochastic', 'probability': 0.008, 'ranking': 2.0}}\n",
      "{'_id': 'AL17kvzjrikyiplhk', 'oid': ['ZTF17aaaaqsv'], 'lastmjd': 59540.4116898002, 'firstmjd': 58338.4519213, 'ndet': 1134.0, 'loc': {'type': 'Point', 'coordinates': [-122.547964802469, 46.1408380640212]}, 'meanra': 57.4520351975309, 'meandec': 46.1408380640212, 'e_ra': 8.72997399832839e-05, 'e_dec': 7.08752375980249e-05, 'tid': ['ZTF'], 'probabilities': {'classifier_name': 'lc_classifier_top', 'classifier_version': 'hierarchical_rf_1.1.0', 'class_name': 'Transient', 'probability': 0.0, 'ranking': 3.0}}\n",
      "{'_id': 'AL17lasirdapyanxs', 'oid': ['ZTF17aaabawk'], 'lastmjd': 59542.3199421, 'firstmjd': 58343.4893749999, 'ndet': 565.0, 'loc': {'type': 'Point', 'coordinates': [-99.2226274430088, 37.7394734766372]}, 'meanra': 80.7773725569912, 'meandec': 37.7394734766372, 'e_ra': 6.12570494550145e-05, 'e_dec': 4.31922490172622e-05, 'tid': ['ZTF'], 'probabilities': {'classifier_name': 'lc_classifier_stochastic', 'classifier_version': 'hierarchical_rf_1.1.0', 'class_name': 'AGN', 'probability': 0.014, 'ranking': 4.0}}\n",
      "{'_id': 'AL17lasirdapyanxs', 'oid': ['ZTF17aaabawk'], 'lastmjd': 59542.3199421, 'firstmjd': 58343.4893749999, 'ndet': 565.0, 'loc': {'type': 'Point', 'coordinates': [-99.2226274430088, 37.7394734766372]}, 'meanra': 80.7773725569912, 'meandec': 37.7394734766372, 'e_ra': 6.12570494550145e-05, 'e_dec': 4.31922490172622e-05, 'tid': ['ZTF'], 'probabilities': {'classifier_name': 'lc_classifier_stochastic', 'classifier_version': 'hierarchical_rf_1.1.0', 'class_name': 'Blazar', 'probability': 0.074, 'ranking': 3.0}}\n",
      "{'_id': 'AL17lasirdapyanxs', 'oid': ['ZTF17aaabawk'], 'lastmjd': 59542.3199421, 'firstmjd': 58343.4893749999, 'ndet': 565.0, 'loc': {'type': 'Point', 'coordinates': [-99.2226274430088, 37.7394734766372]}, 'meanra': 80.7773725569912, 'meandec': 37.7394734766372, 'e_ra': 6.12570494550145e-05, 'e_dec': 4.31922490172622e-05, 'tid': ['ZTF'], 'probabilities': {'classifier_name': 'lc_classifier_stochastic', 'classifier_version': 'hierarchical_rf_1.1.0', 'class_name': 'CV,Nova', 'probability': 0.000352, 'ranking': 4.0}}\n",
      "{'_id': 'AL17lasirdapyanxs', 'oid': ['ZTF17aaabawk'], 'lastmjd': 59542.3199421, 'firstmjd': 58343.4893749999, 'ndet': 565.0, 'loc': {'type': 'Point', 'coordinates': [-99.2226274430088, 37.7394734766372]}, 'meanra': 80.7773725569912, 'meandec': 37.7394734766372, 'e_ra': 6.12570494550145e-05, 'e_dec': 4.31922490172622e-05, 'tid': ['ZTF'], 'probabilities': {'classifier_name': 'lc_classifier', 'classifier_version': 'hierarchical_rf_1.1.0', 'class_name': 'DSCT', 'probability': 0.0, 'ranking': 8.0}}\n",
      "{'_id': 'AL17lasirdapyanxs', 'oid': ['ZTF17aaabawk'], 'lastmjd': 59542.3199421, 'firstmjd': 58343.4893749999, 'ndet': 565.0, 'loc': {'type': 'Point', 'coordinates': [-99.2226274430088, 37.7394734766372]}, 'meanra': 80.7773725569912, 'meandec': 37.7394734766372, 'e_ra': 6.12570494550145e-05, 'e_dec': 4.31922490172622e-05, 'tid': ['ZTF'], 'probabilities': {'classifier_name': 'lc_classifier', 'classifier_version': 'hierarchical_rf_1.1.0', 'class_name': 'E', 'probability': 0.0, 'ranking': 8.0}}\n",
      "{'_id': 'AL17lasirdapyanxs', 'oid': ['ZTF17aaabawk'], 'lastmjd': 59542.3199421, 'firstmjd': 58343.4893749999, 'ndet': 565.0, 'loc': {'type': 'Point', 'coordinates': [-99.2226274430088, 37.7394734766372]}, 'meanra': 80.7773725569912, 'meandec': 37.7394734766372, 'e_ra': 6.12570494550145e-05, 'e_dec': 4.31922490172622e-05, 'tid': ['ZTF'], 'probabilities': {'classifier_name': 'lc_classifier', 'classifier_version': 'hierarchical_rf_1.1.0', 'class_name': 'LPV', 'probability': 0.990024, 'ranking': 1.0}}\n",
      "{'_id': 'AL17lasirdapyanxs', 'oid': ['ZTF17aaabawk'], 'lastmjd': 59542.3199421, 'firstmjd': 58343.4893749999, 'ndet': 565.0, 'loc': {'type': 'Point', 'coordinates': [-99.2226274430088, 37.7394734766372]}, 'meanra': 80.7773725569912, 'meandec': 37.7394734766372, 'e_ra': 6.12570494550145e-05, 'e_dec': 4.31922490172622e-05, 'tid': ['ZTF'], 'probabilities': {'classifier_name': 'lc_classifier', 'classifier_version': 'hierarchical_rf_1.1.0', 'class_name': 'Periodic-Other', 'probability': 0.0, 'ranking': 8.0}}\n",
      "{'_id': 'AL17lasirdapyanxs', 'oid': ['ZTF17aaabawk'], 'lastmjd': 59542.3199421, 'firstmjd': 58343.4893749999, 'ndet': 565.0, 'loc': {'type': 'Point', 'coordinates': [-99.2226274430088, 37.7394734766372]}, 'meanra': 80.7773725569912, 'meandec': 37.7394734766372, 'e_ra': 6.12570494550145e-05, 'e_dec': 4.31922490172622e-05, 'tid': ['ZTF'], 'probabilities': {'classifier_name': 'lc_classifier', 'classifier_version': 'hierarchical_rf_1.1.0', 'class_name': 'QSO', 'probability': 8e-06, 'ranking': 7.0}}\n",
      "{'_id': 'AL17lasirdapyanxs', 'oid': ['ZTF17aaabawk'], 'lastmjd': 59542.3199421, 'firstmjd': 58343.4893749999, 'ndet': 565.0, 'loc': {'type': 'Point', 'coordinates': [-99.2226274430088, 37.7394734766372]}, 'meanra': 80.7773725569912, 'meandec': 37.7394734766372, 'e_ra': 6.12570494550145e-05, 'e_dec': 4.31922490172622e-05, 'tid': ['ZTF'], 'probabilities': {'classifier_name': 'lc_classifier', 'classifier_version': 'hierarchical_rf_1.1.0', 'class_name': 'RRL', 'probability': 0.0, 'ranking': 8.0}}\n",
      "{'_id': 'AL17lasirdapyanxs', 'oid': ['ZTF17aaabawk'], 'lastmjd': 59542.3199421, 'firstmjd': 58343.4893749999, 'ndet': 565.0, 'loc': {'type': 'Point', 'coordinates': [-99.2226274430088, 37.7394734766372]}, 'meanra': 80.7773725569912, 'meandec': 37.7394734766372, 'e_ra': 6.12570494550145e-05, 'e_dec': 4.31922490172622e-05, 'tid': ['ZTF'], 'probabilities': {'classifier_name': 'lc_classifier', 'classifier_version': 'hierarchical_rf_1.1.0', 'class_name': 'SLSN', 'probability': 0.0, 'ranking': 8.0}}\n",
      "{'_id': 'AL17lasirdapyanxs', 'oid': ['ZTF17aaabawk'], 'lastmjd': 59542.3199421, 'firstmjd': 58343.4893749999, 'ndet': 565.0, 'loc': {'type': 'Point', 'coordinates': [-99.2226274430088, 37.7394734766372]}, 'meanra': 80.7773725569912, 'meandec': 37.7394734766372, 'e_ra': 6.12570494550145e-05, 'e_dec': 4.31922490172622e-05, 'tid': ['ZTF'], 'probabilities': {'classifier_name': 'lc_classifier', 'classifier_version': 'hierarchical_rf_1.1.0', 'class_name': 'SNIa', 'probability': 0.0, 'ranking': 8.0}}\n",
      "{'_id': 'AL17lasirdapyanxs', 'oid': ['ZTF17aaabawk'], 'lastmjd': 59542.3199421, 'firstmjd': 58343.4893749999, 'ndet': 565.0, 'loc': {'type': 'Point', 'coordinates': [-99.2226274430088, 37.7394734766372]}, 'meanra': 80.7773725569912, 'meandec': 37.7394734766372, 'e_ra': 6.12570494550145e-05, 'e_dec': 4.31922490172622e-05, 'tid': ['ZTF'], 'probabilities': {'classifier_name': 'lc_classifier', 'classifier_version': 'hierarchical_rf_1.1.0', 'class_name': 'SNIbc', 'probability': 0.0, 'ranking': 8.0}}\n",
      "{'_id': 'AL17lasirdapyanxs', 'oid': ['ZTF17aaabawk'], 'lastmjd': 59542.3199421, 'firstmjd': 58343.4893749999, 'ndet': 565.0, 'loc': {'type': 'Point', 'coordinates': [-99.2226274430088, 37.7394734766372]}, 'meanra': 80.7773725569912, 'meandec': 37.7394734766372, 'e_ra': 6.12570494550145e-05, 'e_dec': 4.31922490172622e-05, 'tid': ['ZTF'], 'probabilities': {'classifier_name': 'lc_classifier', 'classifier_version': 'hierarchical_rf_1.1.0', 'class_name': 'SNII', 'probability': 0.0, 'ranking': 8.0}}\n",
      "{'_id': 'AL17lasirdapyanxs', 'oid': ['ZTF17aaabawk'], 'lastmjd': 59542.3199421, 'firstmjd': 58343.4893749999, 'ndet': 565.0, 'loc': {'type': 'Point', 'coordinates': [-99.2226274430088, 37.7394734766372]}, 'meanra': 80.7773725569912, 'meandec': 37.7394734766372, 'e_ra': 6.12570494550145e-05, 'e_dec': 4.31922490172622e-05, 'tid': ['ZTF'], 'probabilities': {'classifier_name': 'lc_classifier', 'classifier_version': 'hierarchical_rf_1.1.0', 'class_name': 'YSO', 'probability': 0.003288, 'ranking': 3.0}}\n",
      "{'_id': 'AL17lasirdapyanxs', 'oid': ['ZTF17aaabawk'], 'lastmjd': 59542.3199421, 'firstmjd': 58343.4893749999, 'ndet': 565.0, 'loc': {'type': 'Point', 'coordinates': [-99.2226274430088, 37.7394734766372]}, 'meanra': 80.7773725569912, 'meandec': 37.7394734766372, 'e_ra': 6.12570494550145e-05, 'e_dec': 4.31922490172622e-05, 'tid': ['ZTF'], 'probabilities': {'classifier_name': 'stamp_classifier', 'classifier_version': 'stamp_classifier_1.0.0', 'class_name': 'AGN', 'probability': 0.051827654, 'ranking': 5.0}}\n",
      "{'_id': 'AL17lasirdapyanxs', 'oid': ['ZTF17aaabawk'], 'lastmjd': 59542.3199421, 'firstmjd': 58343.4893749999, 'ndet': 565.0, 'loc': {'type': 'Point', 'coordinates': [-99.2226274430088, 37.7394734766372]}, 'meanra': 80.7773725569912, 'meandec': 37.7394734766372, 'e_ra': 6.12570494550145e-05, 'e_dec': 4.31922490172622e-05, 'tid': ['ZTF'], 'probabilities': {'classifier_name': 'stamp_classifier', 'classifier_version': 'stamp_classifier_1.0.0', 'class_name': 'asteroid', 'probability': 0.07379107, 'ranking': 2.0}}\n",
      "{'_id': 'AL17lasirdapyanxs', 'oid': ['ZTF17aaabawk'], 'lastmjd': 59542.3199421, 'firstmjd': 58343.4893749999, 'ndet': 565.0, 'loc': {'type': 'Point', 'coordinates': [-99.2226274430088, 37.7394734766372]}, 'meanra': 80.7773725569912, 'meandec': 37.7394734766372, 'e_ra': 6.12570494550145e-05, 'e_dec': 4.31922490172622e-05, 'tid': ['ZTF'], 'probabilities': {'classifier_name': 'stamp_classifier', 'classifier_version': 'stamp_classifier_1.0.0', 'class_name': 'bogus', 'probability': 0.059622437, 'ranking': 4.0}}\n",
      "{'_id': 'AL17lasirdapyanxs', 'oid': ['ZTF17aaabawk'], 'lastmjd': 59542.3199421, 'firstmjd': 58343.4893749999, 'ndet': 565.0, 'loc': {'type': 'Point', 'coordinates': [-99.2226274430088, 37.7394734766372]}, 'meanra': 80.7773725569912, 'meandec': 37.7394734766372, 'e_ra': 6.12570494550145e-05, 'e_dec': 4.31922490172622e-05, 'tid': ['ZTF'], 'probabilities': {'classifier_name': 'stamp_classifier', 'classifier_version': 'stamp_classifier_1.0.0', 'class_name': 'SN', 'probability': 0.06678323, 'ranking': 3.0}}\n",
      "{'_id': 'AL17lasirdapyanxs', 'oid': ['ZTF17aaabawk'], 'lastmjd': 59542.3199421, 'firstmjd': 58343.4893749999, 'ndet': 565.0, 'loc': {'type': 'Point', 'coordinates': [-99.2226274430088, 37.7394734766372]}, 'meanra': 80.7773725569912, 'meandec': 37.7394734766372, 'e_ra': 6.12570494550145e-05, 'e_dec': 4.31922490172622e-05, 'tid': ['ZTF'], 'probabilities': {'classifier_name': 'stamp_classifier', 'classifier_version': 'stamp_classifier_1.0.0', 'class_name': 'VS', 'probability': 0.7479756, 'ranking': 1.0}}\n",
      "{'_id': 'AL17lasirdapyanxs', 'oid': ['ZTF17aaabawk'], 'lastmjd': 59542.3199421, 'firstmjd': 58343.4893749999, 'ndet': 565.0, 'loc': {'type': 'Point', 'coordinates': [-99.2226274430088, 37.7394734766372]}, 'meanra': 80.7773725569912, 'meandec': 37.7394734766372, 'e_ra': 6.12570494550145e-05, 'e_dec': 4.31922490172622e-05, 'tid': ['ZTF'], 'probabilities': {'classifier_name': 'stamp_classifier', 'classifier_version': 'stamp_classifier_1.0.4', 'class_name': 'AGN', 'probability': 0.05190682, 'ranking': 3.0}}\n",
      "{'_id': 'AL17lasirdapyanxs', 'oid': ['ZTF17aaabawk'], 'lastmjd': 59542.3199421, 'firstmjd': 58343.4893749999, 'ndet': 565.0, 'loc': {'type': 'Point', 'coordinates': [-99.2226274430088, 37.7394734766372]}, 'meanra': 80.7773725569912, 'meandec': 37.7394734766372, 'e_ra': 6.12570494550145e-05, 'e_dec': 4.31922490172622e-05, 'tid': ['ZTF'], 'probabilities': {'classifier_name': 'stamp_classifier', 'classifier_version': 'stamp_classifier_1.0.4', 'class_name': 'asteroid', 'probability': 0.0479248, 'ranking': 5.0}}\n",
      "{'_id': 'AL17lasirdapyanxs', 'oid': ['ZTF17aaabawk'], 'lastmjd': 59542.3199421, 'firstmjd': 58343.4893749999, 'ndet': 565.0, 'loc': {'type': 'Point', 'coordinates': [-99.2226274430088, 37.7394734766372]}, 'meanra': 80.7773725569912, 'meandec': 37.7394734766372, 'e_ra': 6.12570494550145e-05, 'e_dec': 4.31922490172622e-05, 'tid': ['ZTF'], 'probabilities': {'classifier_name': 'stamp_classifier', 'classifier_version': 'stamp_classifier_1.0.4', 'class_name': 'bogus', 'probability': 0.07156457, 'ranking': 2.0}}\n",
      "{'_id': 'AL17lasirdapyanxs', 'oid': ['ZTF17aaabawk'], 'lastmjd': 59542.3199421, 'firstmjd': 58343.4893749999, 'ndet': 565.0, 'loc': {'type': 'Point', 'coordinates': [-99.2226274430088, 37.7394734766372]}, 'meanra': 80.7773725569912, 'meandec': 37.7394734766372, 'e_ra': 6.12570494550145e-05, 'e_dec': 4.31922490172622e-05, 'tid': ['ZTF'], 'probabilities': {'classifier_name': 'stamp_classifier', 'classifier_version': 'stamp_classifier_1.0.4', 'class_name': 'SN', 'probability': 0.04890523, 'ranking': 4.0}}\n",
      "{'_id': 'AL17lasirdapyanxs', 'oid': ['ZTF17aaabawk'], 'lastmjd': 59542.3199421, 'firstmjd': 58343.4893749999, 'ndet': 565.0, 'loc': {'type': 'Point', 'coordinates': [-99.2226274430088, 37.7394734766372]}, 'meanra': 80.7773725569912, 'meandec': 37.7394734766372, 'e_ra': 6.12570494550145e-05, 'e_dec': 4.31922490172622e-05, 'tid': ['ZTF'], 'probabilities': {'classifier_name': 'stamp_classifier', 'classifier_version': 'stamp_classifier_1.0.4', 'class_name': 'VS', 'probability': 0.77969855, 'ranking': 1.0}}\n",
      "{'_id': 'AL17lasirdapyanxs', 'oid': ['ZTF17aaabawk'], 'lastmjd': 59542.3199421, 'firstmjd': 58343.4893749999, 'ndet': 565.0, 'loc': {'type': 'Point', 'coordinates': [-99.2226274430088, 37.7394734766372]}, 'meanra': 80.7773725569912, 'meandec': 37.7394734766372, 'e_ra': 6.12570494550145e-05, 'e_dec': 4.31922490172622e-05, 'tid': ['ZTF'], 'probabilities': {'classifier_name': 'lc_classifier_top', 'classifier_version': 'hierarchical_rf_1.1.0', 'class_name': 'Periodic', 'probability': 0.996, 'ranking': 1.0}}\n",
      "{'_id': 'AL17lasirdapyanxs', 'oid': ['ZTF17aaabawk'], 'lastmjd': 59542.3199421, 'firstmjd': 58343.4893749999, 'ndet': 565.0, 'loc': {'type': 'Point', 'coordinates': [-99.2226274430088, 37.7394734766372]}, 'meanra': 80.7773725569912, 'meandec': 37.7394734766372, 'e_ra': 6.12570494550145e-05, 'e_dec': 4.31922490172622e-05, 'tid': ['ZTF'], 'probabilities': {'classifier_name': 'lc_classifier_top', 'classifier_version': 'hierarchical_rf_1.1.0', 'class_name': 'Stochastic', 'probability': 0.004, 'ranking': 2.0}}\n",
      "{'_id': 'AL17lasirdapyanxs', 'oid': ['ZTF17aaabawk'], 'lastmjd': 59542.3199421, 'firstmjd': 58343.4893749999, 'ndet': 565.0, 'loc': {'type': 'Point', 'coordinates': [-99.2226274430088, 37.7394734766372]}, 'meanra': 80.7773725569912, 'meandec': 37.7394734766372, 'e_ra': 6.12570494550145e-05, 'e_dec': 4.31922490172622e-05, 'tid': ['ZTF'], 'probabilities': {'classifier_name': 'lc_classifier_top', 'classifier_version': 'hierarchical_rf_1.1.0', 'class_name': 'Transient', 'probability': 0.0, 'ranking': 3.0}}\n",
      "{'_id': 'AL17lasirdapyanxs', 'oid': ['ZTF17aaabawk'], 'lastmjd': 59542.3199421, 'firstmjd': 58343.4893749999, 'ndet': 565.0, 'loc': {'type': 'Point', 'coordinates': [-99.2226274430088, 37.7394734766372]}, 'meanra': 80.7773725569912, 'meandec': 37.7394734766372, 'e_ra': 6.12570494550145e-05, 'e_dec': 4.31922490172622e-05, 'tid': ['ZTF'], 'probabilities': {'classifier_name': 'lc_classifier_transient', 'classifier_version': 'hierarchical_rf_1.1.0', 'class_name': 'SLSN', 'probability': 0.348, 'ranking': 1.0}}\n",
      "{'_id': 'AL17lasirdapyanxs', 'oid': ['ZTF17aaabawk'], 'lastmjd': 59542.3199421, 'firstmjd': 58343.4893749999, 'ndet': 565.0, 'loc': {'type': 'Point', 'coordinates': [-99.2226274430088, 37.7394734766372]}, 'meanra': 80.7773725569912, 'meandec': 37.7394734766372, 'e_ra': 6.12570494550145e-05, 'e_dec': 4.31922490172622e-05, 'tid': ['ZTF'], 'probabilities': {'classifier_name': 'lc_classifier_transient', 'classifier_version': 'hierarchical_rf_1.1.0', 'class_name': 'SNIa', 'probability': 0.108, 'ranking': 4.0}}\n",
      "{'_id': 'AL17lasirdapyanxs', 'oid': ['ZTF17aaabawk'], 'lastmjd': 59542.3199421, 'firstmjd': 58343.4893749999, 'ndet': 565.0, 'loc': {'type': 'Point', 'coordinates': [-99.2226274430088, 37.7394734766372]}, 'meanra': 80.7773725569912, 'meandec': 37.7394734766372, 'e_ra': 6.12570494550145e-05, 'e_dec': 4.31922490172622e-05, 'tid': ['ZTF'], 'probabilities': {'classifier_name': 'lc_classifier_transient', 'classifier_version': 'hierarchical_rf_1.1.0', 'class_name': 'SNIbc', 'probability': 0.21, 'ranking': 3.0}}\n",
      "{'_id': 'AL17lasirdapyanxs', 'oid': ['ZTF17aaabawk'], 'lastmjd': 59542.3199421, 'firstmjd': 58343.4893749999, 'ndet': 565.0, 'loc': {'type': 'Point', 'coordinates': [-99.2226274430088, 37.7394734766372]}, 'meanra': 80.7773725569912, 'meandec': 37.7394734766372, 'e_ra': 6.12570494550145e-05, 'e_dec': 4.31922490172622e-05, 'tid': ['ZTF'], 'probabilities': {'classifier_name': 'lc_classifier_transient', 'classifier_version': 'hierarchical_rf_1.1.0', 'class_name': 'SNII', 'probability': 0.334, 'ranking': 2.0}}\n"
     ]
    }
   ],
   "source": [
    "docs = objects.aggregate([\n",
    "    {'$match': {'ndet': {'$gte': 400}}},\n",
    "    {'$unwind': '$probabilities'},\n",
    "])\n",
    "\n",
    "for doc in docs:\n",
    "    print(doc)"
   ]
  },
  {
   "cell_type": "markdown",
   "id": "d88b0f70-7917-4d63-8cd4-13d12234ea9b",
   "metadata": {},
   "source": [
    "As you can see, now we retrieved repeated `_id`s, and each output document correspond to one element of the original `probabilities` array. The field `probabilities` is now an element of the array we began with.\n",
    "\n",
    "This allows us to get a single entry when searching by, for instance, class and probability:"
   ]
  },
  {
   "cell_type": "code",
   "execution_count": 40,
   "id": "18001080-41a7-44da-92d9-86986ff85c96",
   "metadata": {},
   "outputs": [
    {
     "name": "stdout",
     "output_type": "stream",
     "text": [
      "{'_id': 'AL17kydexvudyfzwq', 'oid': ['ZTF17aaaacji'], 'lastmjd': 59542.2826156998, 'firstmjd': 58366.4399768999, 'ndet': 166.0, 'loc': {'type': 'Point', 'coordinates': [-112.883127892771, 52.2932219572289]}, 'meanra': 67.1168721072289, 'meandec': 52.2932219572289, 'e_ra': 0.000167809096646232, 'e_dec': 6.98509819165943e-05, 'tid': ['ZTF'], 'probabilities': {'classifier_name': 'stamp_classifier', 'classifier_version': 'stamp_classifier_1.0.0', 'class_name': 'VS', 'probability': 0.7186312, 'ranking': 1.0}}\n",
      "{'_id': 'AL17kyhickkapibwi', 'oid': ['ZTF17aaaacpo'], 'lastmjd': 59530.3737846999, 'firstmjd': 58450.4007060002, 'ndet': 226.0, 'loc': {'type': 'Point', 'coordinates': [-111.458553317257, 7.32192741061947]}, 'meanra': 68.5414466827434, 'meandec': 7.32192741061947, 'e_ra': 4.63841947555995e-05, 'e_dec': 5.73385615644401e-05, 'tid': ['ZTF'], 'probabilities': {'classifier_name': 'stamp_classifier', 'classifier_version': 'stamp_classifier_1.0.0', 'class_name': 'VS', 'probability': 0.7214016, 'ranking': 1.0}}\n",
      "{'_id': 'AL17kvgayignexklo', 'oid': ['ZTF17aaaampi'], 'lastmjd': 59540.3450694, 'firstmjd': 58363.4715161999, 'ndet': 144.0, 'loc': {'type': 'Point', 'coordinates': [-129.421477022222, 53.2856281409722]}, 'meanra': 50.5785229777778, 'meandec': 53.2856281409722, 'e_ra': 0.000102207590377298, 'e_dec': 7.84449550123495e-05, 'tid': ['ZTF'], 'probabilities': {'classifier_name': 'stamp_classifier', 'classifier_version': 'stamp_classifier_1.0.0', 'class_name': 'VS', 'probability': 0.77150106, 'ranking': 1.0}}\n",
      "{'_id': 'AL17kxyjczycesjhs', 'oid': ['ZTF17aaaaphx'], 'lastmjd': 59540.3460416999, 'firstmjd': 58838.2266551, 'ndet': 59.0, 'loc': {'type': 'Point', 'coordinates': [-114.562700261017, 53.9355064881356]}, 'meanra': 65.4372997389831, 'meandec': 53.9355064881356, 'e_ra': 0.000193415799212819, 'e_dec': 0.000101671708139728, 'tid': ['ZTF'], 'probabilities': {'classifier_name': 'stamp_classifier', 'classifier_version': 'stamp_classifier_1.0.4', 'class_name': 'VS', 'probability': 0.7292578, 'ranking': 1.0}}\n",
      "{'_id': 'AL17lasirdapyanxs', 'oid': ['ZTF17aaabawk'], 'lastmjd': 59542.3199421, 'firstmjd': 58343.4893749999, 'ndet': 565.0, 'loc': {'type': 'Point', 'coordinates': [-99.2226274430088, 37.7394734766372]}, 'meanra': 80.7773725569912, 'meandec': 37.7394734766372, 'e_ra': 6.12570494550145e-05, 'e_dec': 4.31922490172622e-05, 'tid': ['ZTF'], 'probabilities': {'classifier_name': 'stamp_classifier', 'classifier_version': 'stamp_classifier_1.0.0', 'class_name': 'VS', 'probability': 0.7479756, 'ranking': 1.0}}\n",
      "{'_id': 'AL17lasirdapyanxs', 'oid': ['ZTF17aaabawk'], 'lastmjd': 59542.3199421, 'firstmjd': 58343.4893749999, 'ndet': 565.0, 'loc': {'type': 'Point', 'coordinates': [-99.2226274430088, 37.7394734766372]}, 'meanra': 80.7773725569912, 'meandec': 37.7394734766372, 'e_ra': 6.12570494550145e-05, 'e_dec': 4.31922490172622e-05, 'tid': ['ZTF'], 'probabilities': {'classifier_name': 'stamp_classifier', 'classifier_version': 'stamp_classifier_1.0.4', 'class_name': 'VS', 'probability': 0.77969855, 'ranking': 1.0}}\n",
      "{'_id': 'AL17ldcrbgfdyppbw', 'oid': ['ZTF17aaabcjt'], 'lastmjd': 59550.375, 'firstmjd': 58423.4193402999, 'ndet': 197.0, 'loc': {'type': 'Point', 'coordinates': [-87.2314924883249, 10.4522794888325]}, 'meanra': 92.7685075116751, 'meandec': 10.4522794888325, 'e_ra': 7.02219935874861e-05, 'e_dec': 7.57350138550939e-05, 'tid': ['ZTF'], 'probabilities': {'classifier_name': 'stamp_classifier', 'classifier_version': 'stamp_classifier_1.0.4', 'class_name': 'VS', 'probability': 0.74383694, 'ranking': 1.0}}\n",
      "{'_id': 'AL17larptsionfnlg', 'oid': ['ZTF17aaabwgm'], 'lastmjd': 59498.3893634002, 'firstmjd': 58343.4893749999, 'ndet': 152.0, 'loc': {'type': 'Point', 'coordinates': [-99.4837780578947, 39.0526740934211]}, 'meanra': 80.5162219421053, 'meandec': 39.0526740934211, 'e_ra': 8.62608423176768e-05, 'e_dec': 6.69265107204996e-05, 'tid': ['ZTF'], 'probabilities': {'classifier_name': 'stamp_classifier', 'classifier_version': 'stamp_classifier_1.0.0', 'class_name': 'VS', 'probability': 0.71953666, 'ranking': 1.0}}\n"
     ]
    }
   ],
   "source": [
    "classifier = 'stamp_classifier'\n",
    "class_ = 'VS'\n",
    "min_prob = 0.7\n",
    "\n",
    "docs = objects.aggregate([\n",
    "    {\n",
    "        '$match': {\n",
    "            'probabilities': {\n",
    "                '$elemMatch': {\n",
    "                    'classifier_name': classifier,\n",
    "                    'class_name': class_,\n",
    "                    'probability': {'$gte': min_prob}\n",
    "                }\n",
    "            }\n",
    "        }\n",
    "    },\n",
    "    {  # Remember that in the last stage we still have the full 'probabilities' array\n",
    "        '$set': {\n",
    "            'probabilities': {\n",
    "                '$filter': {\n",
    "                    'input': '$probabilities',\n",
    "                    'cond': {\n",
    "                        '$and': [\n",
    "                            {'$eq': ['$$this.classifier_name', classifier]},\n",
    "                            {'$eq': ['$$this.class_name', class_]},\n",
    "                            {'$gte': ['$$this.probability', min_prob]}\n",
    "                        ]\n",
    "                    }\n",
    "                }\n",
    "            }\n",
    "        }\n",
    "    },\n",
    "    {\n",
    "        '$unwind': '$probabilities'\n",
    "    },\n",
    "])\n",
    "\n",
    "for doc in docs:\n",
    "    print(doc)"
   ]
  },
  {
   "cell_type": "markdown",
   "id": "4376e0e1-7da3-4121-bb67-03cd455b8661",
   "metadata": {},
   "source": [
    "**Warning:** Unfortunately, due to how the selection of array elements works, both the `$set` and the `$match` stages should match for a query like the one above, but there is no control over it. It is very easy to be testing some queries and then forget to update the value or the field in either the `$filter` or the `$elemMatch` operators, resulting in valid but meaningless queries. *Pay close attention when creating this types of queries.* "
   ]
  }
 ],
 "metadata": {
  "kernelspec": {
   "display_name": "Python 3 (ipykernel)",
   "language": "python",
   "name": "python3"
  },
  "language_info": {
   "codemirror_mode": {
    "name": "ipython",
    "version": 3
   },
   "file_extension": ".py",
   "mimetype": "text/x-python",
   "name": "python",
   "nbconvert_exporter": "python",
   "pygments_lexer": "ipython3",
   "version": "3.10.8"
  }
 },
 "nbformat": 4,
 "nbformat_minor": 5
}
