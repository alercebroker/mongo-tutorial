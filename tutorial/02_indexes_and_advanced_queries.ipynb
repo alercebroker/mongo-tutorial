{
 "cells": [
  {
   "cell_type": "markdown",
   "id": "c34c8be1-2e77-4fe4-8332-db33efe6eadd",
   "metadata": {},
   "source": [
    "## Indexing\n",
    "\n",
    "Indexing is used to make searches more efficient. When there are no indices, any search goes through each full document in order to find the specified results. If a search uses indexed fields, it can perform more efficiently by going only through the indexed field(s), and then retrieving only the matching documents without having to go through the full collection. However, not everything needs to be indexed, since the storage usage can grow substantially when too many indexes are created. It is generally recommended to limit the number of indices to the most commonly used fields.\n",
    "\n",
    "For the examples in this tutorial, neither the gain in search speed nor the extra storage required will be noticeable, but for large collections this has to be taken into account.\n",
    "\n",
    "Every collection in MongoDB comes indexed by `_id` by default, but new indices can be created at any time and there are different kinds of indices.\n",
    "\n",
    "In this section we'll be using a sample of ALeRCE-like objects that should be loaded into the database if the instructions in `README.md` have been followed. For an example document in this collection:"
   ]
  },
  {
   "cell_type": "code",
   "execution_count": 2,
   "id": "9a3510f0-fa85-4931-9a94-02b6c02c64ea",
   "metadata": {},
   "outputs": [
    {
     "name": "stdout",
     "output_type": "stream",
     "text": [
      "{'_id': 'AL17kydexvudyfzwq',\n",
      " 'e_dec': 6.98509819165943e-05,\n",
      " 'e_ra': 0.000167809096646232,\n",
      " 'firstmjd': 58366.4399768999,\n",
      " 'lastmjd': 59542.2826156998,\n",
      " 'loc': {'coordinates': [-112.883127892771, 52.2932219572289], 'type': 'Point'},\n",
      " 'meandec': 52.2932219572289,\n",
      " 'meanra': 67.1168721072289,\n",
      " 'ndet': 166.0,\n",
      " 'oid': ['ZTF17aaaacji'],\n",
      " 'probabilities': [{'class_name': 'AGN',\n",
      "                    'classifier_name': 'stamp_classifier',\n",
      "                    'classifier_version': 'stamp_classifier_1.0.0',\n",
      "                    'probability': 0.086826704,\n",
      "                    'ranking': 2.0},\n",
      "                   {'class_name': 'asteroid',\n",
      "                    'classifier_name': 'stamp_classifier',\n",
      "                    'classifier_version': 'stamp_classifier_1.0.0',\n",
      "                    'probability': 0.059574142,\n",
      "                    'ranking': 4.0},\n",
      "                   {'class_name': 'bogus',\n",
      "                    'classifier_name': 'stamp_classifier',\n",
      "                    'classifier_version': 'stamp_classifier_1.0.0',\n",
      "                    'probability': 0.07940478,\n",
      "                    'ranking': 3.0},\n",
      "                   {'class_name': 'SN',\n",
      "                    'classifier_name': 'stamp_classifier',\n",
      "                    'classifier_version': 'stamp_classifier_1.0.0',\n",
      "                    'probability': 0.055563178,\n",
      "                    'ranking': 5.0},\n",
      "                   {'class_name': 'VS',\n",
      "                    'classifier_name': 'stamp_classifier',\n",
      "                    'classifier_version': 'stamp_classifier_1.0.0',\n",
      "                    'probability': 0.7186312,\n",
      "                    'ranking': 1.0},\n",
      "                   {'class_name': 'AGN',\n",
      "                    'classifier_name': 'stamp_classifier',\n",
      "                    'classifier_version': 'stamp_classifier_1.0.4',\n",
      "                    'probability': 0.19460636,\n",
      "                    'ranking': 2.0},\n",
      "                   {'class_name': 'asteroid',\n",
      "                    'classifier_name': 'stamp_classifier',\n",
      "                    'classifier_version': 'stamp_classifier_1.0.4',\n",
      "                    'probability': 0.07008195,\n",
      "                    'ranking': 4.0},\n",
      "                   {'class_name': 'bogus',\n",
      "                    'classifier_name': 'stamp_classifier',\n",
      "                    'classifier_version': 'stamp_classifier_1.0.4',\n",
      "                    'probability': 0.12235069,\n",
      "                    'ranking': 3.0},\n",
      "                   {'class_name': 'SN',\n",
      "                    'classifier_name': 'stamp_classifier',\n",
      "                    'classifier_version': 'stamp_classifier_1.0.4',\n",
      "                    'probability': 0.06864654,\n",
      "                    'ranking': 5.0},\n",
      "                   {'class_name': 'VS',\n",
      "                    'classifier_name': 'stamp_classifier',\n",
      "                    'classifier_version': 'stamp_classifier_1.0.4',\n",
      "                    'probability': 0.5443145,\n",
      "                    'ranking': 1.0},\n",
      "                   {'class_name': 'AGN',\n",
      "                    'classifier_name': 'lc_classifier',\n",
      "                    'classifier_version': 'hierarchical_rf_1.1.0',\n",
      "                    'probability': 0.00032,\n",
      "                    'ranking': 14.0},\n",
      "                   {'class_name': 'Blazar',\n",
      "                    'classifier_name': 'lc_classifier',\n",
      "                    'classifier_version': 'hierarchical_rf_1.1.0',\n",
      "                    'probability': 0.00512,\n",
      "                    'ranking': 7.0},\n",
      "                   {'class_name': 'CEP',\n",
      "                    'classifier_name': 'lc_classifier',\n",
      "                    'classifier_version': 'hierarchical_rf_1.1.0',\n",
      "                    'probability': 0.103416,\n",
      "                    'ranking': 3.0},\n",
      "                   {'class_name': 'CV,Nova',\n",
      "                    'classifier_name': 'lc_classifier',\n",
      "                    'classifier_version': 'hierarchical_rf_1.1.0',\n",
      "                    'probability': 0.014,\n",
      "                    'ranking': 3.0},\n",
      "                   {'class_name': 'QSO',\n",
      "                    'classifier_name': 'lc_classifier_stochastic',\n",
      "                    'classifier_version': 'hierarchical_rf_1.1.0',\n",
      "                    'probability': 0.002,\n",
      "                    'ranking': 4.0},\n",
      "                   {'class_name': 'YSO',\n",
      "                    'classifier_name': 'lc_classifier_stochastic',\n",
      "                    'classifier_version': 'hierarchical_rf_1.1.0',\n",
      "                    'probability': 0.95,\n",
      "                    'ranking': 1.0}],\n",
      " 'tid': ['ZTF']}\n"
     ]
    }
   ],
   "source": [
    "from pprint import pprint\n",
    "from pymongo import MongoClient\n",
    "\n",
    "client = MongoClient(host='localhost', port=27017, username='mongo', password='mongo')\n",
    "\n",
    "objects = client.alerce.objects  # This is the collection we'll be using\n",
    "\n",
    "pprint(objects.find_one())"
   ]
  },
  {
   "cell_type": "markdown",
   "id": "efdd69c7-0187-4cb4-bd01-d17f4a10a322",
   "metadata": {},
   "source": [
    "**Note:** The objects in the actual ALeRCE database do not exactly follow this structure. We're using only a simplified version here to show these concepts."
   ]
  },
  {
   "cell_type": "markdown",
   "id": "397e1fdf-bc12-4fbe-a98f-a020edff443f",
   "metadata": {},
   "source": [
    "### Creating basic indices\n",
    "\n",
    "To create a simple index over a field, the structure is similar to what we saw for the `sort` option in the `find` method. It should be a list of pairs with a direction given by `1` or `-1` (ascending or descending, respectively)."
   ]
  },
  {
   "cell_type": "code",
   "execution_count": null,
   "id": "a00ba0bb-96e0-4f03-94ff-e2e24645127f",
   "metadata": {},
   "outputs": [],
   "source": [
    "from pymongo import IndexModel\n",
    "\n",
    "objects.create_index([('firstmjd', 1)])"
   ]
  },
  {
   "cell_type": "markdown",
   "id": "6d43b704-c8b4-454f-95dc-e76f895b3380",
   "metadata": {},
   "source": [
    "The return value correspond to the name given to the index in the collection."
   ]
  },
  {
   "cell_type": "code",
   "execution_count": null,
   "id": "bacdcb95-8406-475b-9dea-0b4e836c5039",
   "metadata": {},
   "outputs": [],
   "source": [
    "objects.index_information()"
   ]
  },
  {
   "cell_type": "markdown",
   "id": "33b31293-0a29-4426-a0df-ec2e5ff032d1",
   "metadata": {},
   "source": [
    "The indices here are given by index name and have information about the field, order and type of index (the `v` field refers to the version).\n",
    "\n",
    "One can also drop an index based on the index name:"
   ]
  },
  {
   "cell_type": "code",
   "execution_count": null,
   "id": "04c3fc85-d462-429b-ade0-7164d79006d2",
   "metadata": {},
   "outputs": [],
   "source": [
    "objects.drop_index('firstmjd_1')\n",
    "objects.index_information()"
   ]
  },
  {
   "cell_type": "markdown",
   "id": "a3bb1cfd-c99f-4f78-acfe-688de2b3f351",
   "metadata": {},
   "source": [
    "At creation, an index can also be given a custom name, instead of relying on MongoDB for the name:"
   ]
  },
  {
   "cell_type": "code",
   "execution_count": null,
   "id": "09522efe-4382-4629-be73-92bf4ec03484",
   "metadata": {},
   "outputs": [],
   "source": [
    "objects.create_index([('firstmjd', 1)], name='first_detection_date')"
   ]
  },
  {
   "cell_type": "markdown",
   "id": "d25f3f19-53f2-42c3-88d9-27290332f680",
   "metadata": {},
   "source": [
    "In the case of the field `probabilities`, we have the case of a an array with nested documents. If we wanted to create an index for a field inside it, we can use dot notation:"
   ]
  },
  {
   "cell_type": "code",
   "execution_count": null,
   "id": "a07bf100-b2c2-472e-9c83-1cc5a5d2ff59",
   "metadata": {},
   "outputs": [],
   "source": [
    "objects.create_index([('probabilities.probability', -1)], name='probs')"
   ]
  },
  {
   "cell_type": "markdown",
   "id": "0ad1b683-4791-4dca-a055-4a01d13d73b7",
   "metadata": {},
   "source": [
    "As for other common options, it is possible to demand that the elements of the index are unique:"
   ]
  },
  {
   "cell_type": "code",
   "execution_count": null,
   "id": "7887db9e-aee2-4a88-b5cf-67dadeb6ce00",
   "metadata": {},
   "outputs": [],
   "source": [
    "objects.create_index([('oid', 1)], unique=True)"
   ]
  },
  {
   "cell_type": "markdown",
   "id": "d23b5979-a071-446c-a40d-e8b6bbeb7fd6",
   "metadata": {},
   "source": [
    "Or creating a partial index (only indexes documents that fullfill a given condition):"
   ]
  },
  {
   "cell_type": "code",
   "execution_count": null,
   "id": "6567af2a-17bf-4140-911a-9dc3e7e0a2ce",
   "metadata": {},
   "outputs": [],
   "source": [
    "objects.create_index([('lastmjd', 1)], partialFilterExpression={'ndet': {'$gt': 100}})"
   ]
  },
  {
   "cell_type": "markdown",
   "id": "6edb3b23-cbc1-4d72-9e34-662ba067b7a5",
   "metadata": {},
   "source": [
    "The above creates an index over `lastmjd`, but only for documents with `ndet` greater than 100.\n",
    "\n",
    "For now, we'll just remove all indices (note that this will never remove the index over `_id`):"
   ]
  },
  {
   "cell_type": "code",
   "execution_count": null,
   "id": "ad560820-3d34-4c80-bf12-040381ca5941",
   "metadata": {},
   "outputs": [],
   "source": [
    "objects.drop_indexes()"
   ]
  },
  {
   "cell_type": "markdown",
   "id": "76a106c0-ebd8-490d-a87a-13a1f3b0fca5",
   "metadata": {},
   "source": [
    "#### Digression: Special ordering and coordinates\n",
    "\n",
    "Some fields can have a special indexing, such as the location on a sphere. This is why the field `loc` has the form it does:"
   ]
  },
  {
   "cell_type": "code",
   "execution_count": 4,
   "id": "851ca7b7-f31a-4fbc-85ff-994d0bf58f59",
   "metadata": {},
   "outputs": [
    {
     "name": "stdout",
     "output_type": "stream",
     "text": [
      "loc: {'type': 'Point', 'coordinates': [-112.883127892771, 52.2932219572289]}\n",
      "ra: 67.1168721072289\n",
      "dec: 52.2932219572289\n"
     ]
    }
   ],
   "source": [
    "doc = objects.find_one()\n",
    "\n",
    "print(f'loc: {doc[\"loc\"]}')\n",
    "print(f'ra: {doc[\"meanra\"]}')\n",
    "print(f'dec: {doc[\"meandec\"]}')"
   ]
  },
  {
   "cell_type": "markdown",
   "id": "20e12750-c2e4-40d2-b5d2-bde36c3b2aa0",
   "metadata": {},
   "source": [
    "The first value of `coordinates` inside `loc` corresponds to RA minus 180, while Dec remains the same. This is because the format with `type` and `coordinates` is defined by GeoJSON and first established for terrestrial coordinates. This shift allows to index over the sphere and perform cone-searches over the coordinates (which we'll see later on). For this, the index cannot just be ascending or descending and have to use the value `2dsphere`:"
   ]
  },
  {
   "cell_type": "code",
   "execution_count": 6,
   "id": "33f9fb2c-be7d-4137-acc0-e14c4adf4ba2",
   "metadata": {},
   "outputs": [
    {
     "data": {
      "text/plain": [
       "'loc_2dsphere'"
      ]
     },
     "execution_count": 6,
     "metadata": {},
     "output_type": "execute_result"
    }
   ],
   "source": [
    "objects.create_index([('loc', '2dsphere')])"
   ]
  },
  {
   "cell_type": "markdown",
   "id": "31cd0b80-620b-4cbd-a4e8-491d96c8b838",
   "metadata": {},
   "source": [
    "### Compund indices\n",
    "\n",
    "It is also possible to create indices over multiple fields at a time, with them being sorted by in order (latter indices fixing clashes over the first). This can be very useful depending on the type of search. For instance, we'll create an index over the classifier name and version, so that all versions are in order, but first sorted by classifier (for each document):"
   ]
  },
  {
   "cell_type": "code",
   "execution_count": 5,
   "id": "486ca3e7-9d27-498c-b050-707fc6801399",
   "metadata": {},
   "outputs": [
    {
     "data": {
      "text/plain": [
       "'probabilities.classifier_name_1_probabilities.classifier_version_1'"
      ]
     },
     "execution_count": 5,
     "metadata": {},
     "output_type": "execute_result"
    }
   ],
   "source": [
    "objects.create_index([('probabilities.classifier_name', 1), ('probabilities.classifier_version', 1)])  # The list now has a second element (the secondary index)"
   ]
  },
  {
   "cell_type": "markdown",
   "id": "e9d99698-c4fd-4abe-83cf-8bbc384cfb89",
   "metadata": {},
   "source": [
    "Again we'll clean up all the indices:"
   ]
  },
  {
   "cell_type": "code",
   "execution_count": 6,
   "id": "9b530ba3-77c6-4b3a-ad88-13eaa493624e",
   "metadata": {},
   "outputs": [],
   "source": [
    "objects.drop_indexes()"
   ]
  },
  {
   "cell_type": "markdown",
   "id": "15ab7d20-6caf-4440-a26d-ac641b609648",
   "metadata": {},
   "source": [
    "## Projections (selecting fields for output)\n",
    "\n",
    "The `find` and `find_one` methods have some additional functionality that we'll discuss now. Besides the dictionary with the query filters, a second argument can be passed with another dictionary for \"projection\". These projections allow for different manipulations of the output documents, without modifying them on the database. For instance, if there is only one field of interest in the output:"
   ]
  },
  {
   "cell_type": "code",
   "execution_count": 7,
   "id": "e29875cf-abaa-4d89-9ecb-342f9886db48",
   "metadata": {},
   "outputs": [
    {
     "name": "stdout",
     "output_type": "stream",
     "text": [
      "{'_id': 'AL17kydexvudyfzwq', 'lastmjd': 59542.2826156998, 'firstmjd': 58366.4399768999}\n",
      "{'_id': 'AL17kyhickkapibwi', 'lastmjd': 59530.3737846999, 'firstmjd': 58450.4007060002}\n",
      "{'_id': 'AL17msbqengdzwbtk', 'lastmjd': 59520.1848958, 'firstmjd': 58288.4348148}\n",
      "{'_id': 'AL17kvgayignexklo', 'lastmjd': 59540.3450694, 'firstmjd': 58363.4715161999}\n",
      "{'_id': 'AL17kykzgxdgqsntc', 'lastmjd': 59538.2855556002, 'firstmjd': 58348.4711342999}\n",
      "{'_id': 'AL17ktitbgrfqqhkq', 'lastmjd': 59540.4023263999, 'firstmjd': 58336.4893518998}\n",
      "{'_id': 'AL17kvzjrikyiplhk', 'lastmjd': 59540.4116898002, 'firstmjd': 58338.4519213}\n",
      "{'_id': 'AL17lasirdapyanxs', 'lastmjd': 59542.3199421, 'firstmjd': 58343.4893749999}\n",
      "{'_id': 'AL17ldcrbgfdyppbw', 'lastmjd': 59550.375, 'firstmjd': 58423.4193402999}\n",
      "{'_id': 'AL17laogqkaumzppg', 'lastmjd': 59542.3199421, 'firstmjd': 58342.4907986}\n",
      "{'_id': 'AL17ldheheiulmpbw', 'lastmjd': 59550.3538079001, 'firstmjd': 58423.3785068998}\n",
      "{'_id': 'AL17ldghniumrlnpo', 'lastmjd': 59530.4050925998, 'firstmjd': 58357.4957869998}\n",
      "{'_id': 'AL17larptsionfnlg', 'lastmjd': 59498.3893634002, 'firstmjd': 58343.4893749999}\n",
      "{'_id': 'AL17lbajnvojlrrvg', 'lastmjd': 59550.2775809998, 'firstmjd': 58443.3156249998}\n",
      "{'_id': 'AL17lafczphfcgwlo', 'lastmjd': 59540.4386343001, 'firstmjd': 58443.2944676001}\n",
      "{'_id': 'AL17ldggwgicoxfuy', 'lastmjd': 59532.4202777999, 'firstmjd': 58370.515625}\n",
      "{'_id': 'AL17msvnrxjpfpbcy', 'lastmjd': 59542.1187153002, 'firstmjd': 58346.3351968001}\n",
      "{'_id': 'AL17kpuificmpgqia', 'lastmjd': 59550.2404629998, 'firstmjd': 58354.3482869999}\n",
      "{'_id': 'AL17mrtvuyevegvga', 'lastmjd': 59540.1356712999, 'firstmjd': 58296.3367130002}\n"
     ]
    }
   ],
   "source": [
    "docs = objects.find({'ndet': {'$gte': 100}}, {'firstmjd': True, 'lastmjd': True})\n",
    "\n",
    "for doc in docs:\n",
    "    print(doc)"
   ]
  },
  {
   "cell_type": "markdown",
   "id": "e706b7a9-abb2-4728-bd87-ebe7e0bebed3",
   "metadata": {},
   "source": [
    "Here we've selected only objects with more than 100 detections, but are only interested in the first and last MJD. As you can see, even if not explicitly selected, the `_id` field will be carried by default. This behaviour can be changed:"
   ]
  },
  {
   "cell_type": "code",
   "execution_count": 8,
   "id": "b53400be-33a8-4ea4-97eb-d1d99eb581a1",
   "metadata": {},
   "outputs": [
    {
     "name": "stdout",
     "output_type": "stream",
     "text": [
      "{'lastmjd': 59542.2826156998, 'firstmjd': 58366.4399768999}\n",
      "{'lastmjd': 59530.3737846999, 'firstmjd': 58450.4007060002}\n",
      "{'lastmjd': 59520.1848958, 'firstmjd': 58288.4348148}\n",
      "{'lastmjd': 59540.3450694, 'firstmjd': 58363.4715161999}\n",
      "{'lastmjd': 59538.2855556002, 'firstmjd': 58348.4711342999}\n",
      "{'lastmjd': 59540.4023263999, 'firstmjd': 58336.4893518998}\n",
      "{'lastmjd': 59540.4116898002, 'firstmjd': 58338.4519213}\n",
      "{'lastmjd': 59542.3199421, 'firstmjd': 58343.4893749999}\n",
      "{'lastmjd': 59550.375, 'firstmjd': 58423.4193402999}\n",
      "{'lastmjd': 59542.3199421, 'firstmjd': 58342.4907986}\n",
      "{'lastmjd': 59550.3538079001, 'firstmjd': 58423.3785068998}\n",
      "{'lastmjd': 59530.4050925998, 'firstmjd': 58357.4957869998}\n",
      "{'lastmjd': 59498.3893634002, 'firstmjd': 58343.4893749999}\n",
      "{'lastmjd': 59550.2775809998, 'firstmjd': 58443.3156249998}\n",
      "{'lastmjd': 59540.4386343001, 'firstmjd': 58443.2944676001}\n",
      "{'lastmjd': 59532.4202777999, 'firstmjd': 58370.515625}\n",
      "{'lastmjd': 59542.1187153002, 'firstmjd': 58346.3351968001}\n",
      "{'lastmjd': 59550.2404629998, 'firstmjd': 58354.3482869999}\n",
      "{'lastmjd': 59540.1356712999, 'firstmjd': 58296.3367130002}\n"
     ]
    }
   ],
   "source": [
    "docs = objects.find({'ndet': {'$gte': 100}}, {'firstmjd': True, 'lastmjd': True, '_id': False})\n",
    "\n",
    "for doc in docs:\n",
    "    print(doc)"
   ]
  },
  {
   "cell_type": "markdown",
   "id": "e2ba3c2e-8531-427b-b661-ff40f7f227f8",
   "metadata": {},
   "source": [
    "If at least one of the projected fields is explicitly selected, all the other will be implicitly removed. The oposite is also true:"
   ]
  },
  {
   "cell_type": "code",
   "execution_count": 10,
   "id": "dad8ccb7-f721-436b-8390-58325b589342",
   "metadata": {},
   "outputs": [
    {
     "name": "stdout",
     "output_type": "stream",
     "text": [
      "{'oid': ['ZTF17aaaacji'], 'lastmjd': 59542.2826156998, 'firstmjd': 58366.4399768999, 'ndet': 166.0, 'loc': {'type': 'Point', 'coordinates': [-112.883127892771, 52.2932219572289]}, 'meanra': 67.1168721072289, 'meandec': 52.2932219572289, 'e_ra': 0.000167809096646232, 'e_dec': 6.98509819165943e-05, 'tid': ['ZTF']}\n",
      "{'oid': ['ZTF17aaaacpo'], 'lastmjd': 59530.3737846999, 'firstmjd': 58450.4007060002, 'ndet': 226.0, 'loc': {'type': 'Point', 'coordinates': [-111.458553317257, 7.32192741061947]}, 'meanra': 68.5414466827434, 'meandec': 7.32192741061947, 'e_ra': 4.63841947555995e-05, 'e_dec': 5.73385615644401e-05, 'tid': ['ZTF']}\n",
      "{'oid': ['ZTF17aaaajgn'], 'lastmjd': 59520.1848958, 'firstmjd': 58288.4348148, 'ndet': 345.0, 'loc': {'type': 'Point', 'coordinates': [138.677740238551, 48.5400606710145]}, 'meanra': 318.677740238551, 'meandec': 48.5400606710145, 'e_ra': 8.30365847738501e-05, 'e_dec': 8.06191525756549e-05, 'tid': ['ZTF']}\n",
      "{'oid': ['ZTF17aaaampi'], 'lastmjd': 59540.3450694, 'firstmjd': 58363.4715161999, 'ndet': 144.0, 'loc': {'type': 'Point', 'coordinates': [-129.421477022222, 53.2856281409722]}, 'meanra': 50.5785229777778, 'meandec': 53.2856281409722, 'e_ra': 0.000102207590377298, 'e_dec': 7.84449550123495e-05, 'tid': ['ZTF']}\n",
      "{'oid': ['ZTF17aaaaoqt'], 'lastmjd': 59538.2855556002, 'firstmjd': 58348.4711342999, 'ndet': 196.0, 'loc': {'type': 'Point', 'coordinates': [-110.138814705102, 55.4586471438775]}, 'meanra': 69.861185294898, 'meandec': 55.4586471438775, 'e_ra': 9.35642698323002e-05, 'e_dec': 7.81341076791741e-05, 'tid': ['ZTF']}\n",
      "{'oid': ['ZTF17aaaaqna'], 'lastmjd': 59540.4023263999, 'firstmjd': 58336.4893518998, 'ndet': 893.0, 'loc': {'type': 'Point', 'coordinates': [-136.754695090594, 54.2043687354983]}, 'meanra': 43.2453049094065, 'meandec': 54.2043687354983, 'e_ra': 0.000140560890213381, 'e_dec': 9.233896881721e-05, 'tid': ['ZTF']}\n",
      "{'oid': ['ZTF17aaaaqsv'], 'lastmjd': 59540.4116898002, 'firstmjd': 58338.4519213, 'ndet': 1134.0, 'loc': {'type': 'Point', 'coordinates': [-122.547964802469, 46.1408380640212]}, 'meanra': 57.4520351975309, 'meandec': 46.1408380640212, 'e_ra': 8.72997399832839e-05, 'e_dec': 7.08752375980249e-05, 'tid': ['ZTF']}\n",
      "{'oid': ['ZTF17aaabawk'], 'lastmjd': 59542.3199421, 'firstmjd': 58343.4893749999, 'ndet': 565.0, 'loc': {'type': 'Point', 'coordinates': [-99.2226274430088, 37.7394734766372]}, 'meanra': 80.7773725569912, 'meandec': 37.7394734766372, 'e_ra': 6.12570494550145e-05, 'e_dec': 4.31922490172622e-05, 'tid': ['ZTF']}\n",
      "{'oid': ['ZTF17aaabcjt'], 'lastmjd': 59550.375, 'firstmjd': 58423.4193402999, 'ndet': 197.0, 'loc': {'type': 'Point', 'coordinates': [-87.2314924883249, 10.4522794888325]}, 'meanra': 92.7685075116751, 'meandec': 10.4522794888325, 'e_ra': 7.02219935874861e-05, 'e_dec': 7.57350138550939e-05, 'tid': ['ZTF']}\n",
      "{'oid': ['ZTF17aaabeii'], 'lastmjd': 59542.3199421, 'firstmjd': 58342.4907986, 'ndet': 378.0, 'loc': {'type': 'Point', 'coordinates': [-100.621481556349, 43.739209612963]}, 'meanra': 79.3785184436508, 'meandec': 43.739209612963, 'e_ra': 6.66666661535537e-05, 'e_dec': 6.56625346161966e-05, 'tid': ['ZTF']}\n",
      "{'oid': ['ZTF17aaablen'], 'lastmjd': 59550.3538079001, 'firstmjd': 58423.3785068998, 'ndet': 126.0, 'loc': {'type': 'Point', 'coordinates': [-85.5793644253968, 5.78086217619048]}, 'meanra': 94.4206355746032, 'meandec': 5.78086217619048, 'e_ra': 4.6866327249401e-05, 'e_dec': 5.71082010622788e-05, 'tid': ['ZTF']}\n",
      "{'oid': ['ZTF17aaabrjs'], 'lastmjd': 59530.4050925998, 'firstmjd': 58357.4957869998, 'ndet': 205.0, 'loc': {'type': 'Point', 'coordinates': [-85.9277323, 17.7235193546341]}, 'meanra': 94.0722677, 'meandec': 17.7235193546341, 'e_ra': 6.91831038818924e-05, 'e_dec': 6.67351631485681e-05, 'tid': ['ZTF']}\n",
      "{'oid': ['ZTF17aaabwgm'], 'lastmjd': 59498.3893634002, 'firstmjd': 58343.4893749999, 'ndet': 152.0, 'loc': {'type': 'Point', 'coordinates': [-99.4837780578947, 39.0526740934211]}, 'meanra': 80.5162219421053, 'meandec': 39.0526740934211, 'e_ra': 8.62608423176768e-05, 'e_dec': 6.69265107204996e-05, 'tid': ['ZTF']}\n",
      "{'oid': ['ZTF17aaabzet'], 'lastmjd': 59550.2775809998, 'firstmjd': 58443.3156249998, 'ndet': 195.0, 'loc': {'type': 'Point', 'coordinates': [-96.33055256, 15.9294897989744]}, 'meanra': 83.66944744, 'meandec': 15.9294897989744, 'e_ra': 6.14709565153266e-05, 'e_dec': 5.47132195241271e-05, 'tid': ['ZTF']}\n",
      "{'oid': ['ZTF17aaaczvk'], 'lastmjd': 59540.4386343001, 'firstmjd': 58443.2944676001, 'ndet': 163.0, 'loc': {'type': 'Point', 'coordinates': [-103.83094751227, 14.1299390613497]}, 'meanra': 76.1690524877301, 'meandec': 14.1299390613497, 'e_ra': 8.73193194669681e-05, 'e_dec': 6.3856758418277e-05, 'tid': ['ZTF']}\n",
      "{'oid': ['ZTF17aaadfgc'], 'lastmjd': 59532.4202777999, 'firstmjd': 58370.515625, 'ndet': 205.0, 'loc': {'type': 'Point', 'coordinates': [-85.9424430834146, 22.6104694312195]}, 'meanra': 94.0575569165854, 'meandec': 22.6104694312195, 'e_ra': 8.62340017444624e-05, 'e_dec': 5.9726133152551e-05, 'tid': ['ZTF']}\n",
      "{'oid': ['ZTF17aaadovg'], 'lastmjd': 59542.1187153002, 'firstmjd': 58346.3351968001, 'ndet': 192.0, 'loc': {'type': 'Point', 'coordinates': [145.718901250521, 1.88267013854167]}, 'meanra': 325.718901250521, 'meandec': 1.88267013854167, 'e_ra': 4.93947015822278e-05, 'e_dec': 5.21946705866767e-05, 'tid': ['ZTF']}\n",
      "{'oid': ['ZTF17aaadsni'], 'lastmjd': 59550.2404629998, 'firstmjd': 58354.3482869999, 'ndet': 317.0, 'loc': {'type': 'Point', 'coordinates': [-159.447336614826, 2.22258143470032]}, 'meanra': 20.5526633851735, 'meandec': 2.22258143470032, 'e_ra': 5.15812975231175e-05, 'e_dec': 3.93215637323474e-05, 'tid': ['ZTF']}\n",
      "{'oid': ['ZTF17aaadyqm'], 'lastmjd': 59540.1356712999, 'firstmjd': 58296.3367130002, 'ndet': 304.0, 'loc': {'type': 'Point', 'coordinates': [135.93301120625, 40.9184182996711]}, 'meanra': 315.93301120625, 'meandec': 40.9184182996711, 'e_ra': 9.91622815371687e-05, 'e_dec': 5.28654375592281e-05, 'tid': ['ZTF']}\n"
     ]
    }
   ],
   "source": [
    "docs = objects.find({'ndet': {'$gte': 100}}, {'probabilities': False, '_id': False})\n",
    "\n",
    "for doc in docs:\n",
    "    print(doc)"
   ]
  },
  {
   "cell_type": "markdown",
   "id": "49a4a9c7-61ea-41f1-8882-a98d670485ad",
   "metadata": {},
   "source": [
    "The above includes every field, except for `probabilities` and `_id`. Note that it is not possible to mix inclusion and exclusion of fields, except for the case of `_id`:"
   ]
  },
  {
   "cell_type": "code",
   "execution_count": 12,
   "id": "a6c4c3e2-525e-470d-81dd-bcb2eea34684",
   "metadata": {},
   "outputs": [
    {
     "ename": "OperationFailure",
     "evalue": "Cannot do inclusion on field firstmjd in exclusion projection, full error: {'ok': 0.0, 'errmsg': 'Cannot do inclusion on field firstmjd in exclusion projection', 'code': 31253, 'codeName': 'Location31253'}",
     "output_type": "error",
     "traceback": [
      "\u001b[0;31m---------------------------------------------------------------------------\u001b[0m",
      "\u001b[0;31mOperationFailure\u001b[0m                          Traceback (most recent call last)",
      "Cell \u001b[0;32mIn[12], line 4\u001b[0m\n\u001b[1;32m      1\u001b[0m \u001b[38;5;66;03m# Will fail due to mixing inclusion and exclusion\u001b[39;00m\n\u001b[1;32m      2\u001b[0m docs \u001b[38;5;241m=\u001b[39m objects\u001b[38;5;241m.\u001b[39mfind({\u001b[38;5;124m'\u001b[39m\u001b[38;5;124mndet\u001b[39m\u001b[38;5;124m'\u001b[39m: {\u001b[38;5;124m'\u001b[39m\u001b[38;5;124m$gte\u001b[39m\u001b[38;5;124m'\u001b[39m: \u001b[38;5;241m100\u001b[39m}}, {\u001b[38;5;124m'\u001b[39m\u001b[38;5;124mprobabilities\u001b[39m\u001b[38;5;124m'\u001b[39m: \u001b[38;5;28;01mFalse\u001b[39;00m, \u001b[38;5;124m'\u001b[39m\u001b[38;5;124mfirstmjd\u001b[39m\u001b[38;5;124m'\u001b[39m: \u001b[38;5;28;01mTrue\u001b[39;00m})\n\u001b[0;32m----> 4\u001b[0m \u001b[38;5;28;01mfor\u001b[39;00m doc \u001b[38;5;129;01min\u001b[39;00m docs:\n\u001b[1;32m      5\u001b[0m     \u001b[38;5;28mprint\u001b[39m(doc)\n",
      "File \u001b[0;32m~/.pyenv/versions/3.10.8/envs/mongo-tutorial/lib/python3.10/site-packages/pymongo/cursor.py:1248\u001b[0m, in \u001b[0;36mCursor.next\u001b[0;34m(self)\u001b[0m\n\u001b[1;32m   1246\u001b[0m \u001b[38;5;28;01mif\u001b[39;00m \u001b[38;5;28mself\u001b[39m\u001b[38;5;241m.\u001b[39m__empty:\n\u001b[1;32m   1247\u001b[0m     \u001b[38;5;28;01mraise\u001b[39;00m \u001b[38;5;167;01mStopIteration\u001b[39;00m\n\u001b[0;32m-> 1248\u001b[0m \u001b[38;5;28;01mif\u001b[39;00m \u001b[38;5;28mlen\u001b[39m(\u001b[38;5;28mself\u001b[39m\u001b[38;5;241m.\u001b[39m__data) \u001b[38;5;129;01mor\u001b[39;00m \u001b[38;5;28;43mself\u001b[39;49m\u001b[38;5;241;43m.\u001b[39;49m\u001b[43m_refresh\u001b[49m\u001b[43m(\u001b[49m\u001b[43m)\u001b[49m:\n\u001b[1;32m   1249\u001b[0m     \u001b[38;5;28;01mreturn\u001b[39;00m \u001b[38;5;28mself\u001b[39m\u001b[38;5;241m.\u001b[39m__data\u001b[38;5;241m.\u001b[39mpopleft()\n\u001b[1;32m   1250\u001b[0m \u001b[38;5;28;01melse\u001b[39;00m:\n",
      "File \u001b[0;32m~/.pyenv/versions/3.10.8/envs/mongo-tutorial/lib/python3.10/site-packages/pymongo/cursor.py:1165\u001b[0m, in \u001b[0;36mCursor._refresh\u001b[0;34m(self)\u001b[0m\n\u001b[1;32m   1143\u001b[0m         \u001b[38;5;28;01mraise\u001b[39;00m InvalidOperation(\n\u001b[1;32m   1144\u001b[0m             \u001b[38;5;124m\"\u001b[39m\u001b[38;5;124mPassing a \u001b[39m\u001b[38;5;124m'\u001b[39m\u001b[38;5;124mhint\u001b[39m\u001b[38;5;124m'\u001b[39m\u001b[38;5;124m is required when using the min/max query\u001b[39m\u001b[38;5;124m\"\u001b[39m\n\u001b[1;32m   1145\u001b[0m             \u001b[38;5;124m\"\u001b[39m\u001b[38;5;124m option to ensure the query utilizes the correct index\u001b[39m\u001b[38;5;124m\"\u001b[39m\n\u001b[1;32m   1146\u001b[0m         )\n\u001b[1;32m   1147\u001b[0m     q \u001b[38;5;241m=\u001b[39m \u001b[38;5;28mself\u001b[39m\u001b[38;5;241m.\u001b[39m_query_class(\n\u001b[1;32m   1148\u001b[0m         \u001b[38;5;28mself\u001b[39m\u001b[38;5;241m.\u001b[39m__query_flags,\n\u001b[1;32m   1149\u001b[0m         \u001b[38;5;28mself\u001b[39m\u001b[38;5;241m.\u001b[39m__collection\u001b[38;5;241m.\u001b[39mdatabase\u001b[38;5;241m.\u001b[39mname,\n\u001b[0;32m   (...)\u001b[0m\n\u001b[1;32m   1163\u001b[0m         \u001b[38;5;28mself\u001b[39m\u001b[38;5;241m.\u001b[39m__exhaust,\n\u001b[1;32m   1164\u001b[0m     )\n\u001b[0;32m-> 1165\u001b[0m     \u001b[38;5;28;43mself\u001b[39;49m\u001b[38;5;241;43m.\u001b[39;49m\u001b[43m__send_message\u001b[49m\u001b[43m(\u001b[49m\u001b[43mq\u001b[49m\u001b[43m)\u001b[49m\n\u001b[1;32m   1166\u001b[0m \u001b[38;5;28;01melif\u001b[39;00m \u001b[38;5;28mself\u001b[39m\u001b[38;5;241m.\u001b[39m__id:  \u001b[38;5;66;03m# Get More\u001b[39;00m\n\u001b[1;32m   1167\u001b[0m     \u001b[38;5;28;01mif\u001b[39;00m \u001b[38;5;28mself\u001b[39m\u001b[38;5;241m.\u001b[39m__limit:\n",
      "File \u001b[0;32m~/.pyenv/versions/3.10.8/envs/mongo-tutorial/lib/python3.10/site-packages/pymongo/cursor.py:1052\u001b[0m, in \u001b[0;36mCursor.__send_message\u001b[0;34m(self, operation)\u001b[0m\n\u001b[1;32m   1049\u001b[0m     \u001b[38;5;28;01mraise\u001b[39;00m InvalidOperation(\u001b[38;5;124m\"\u001b[39m\u001b[38;5;124mexhaust cursors do not support auto encryption\u001b[39m\u001b[38;5;124m\"\u001b[39m)\n\u001b[1;32m   1051\u001b[0m \u001b[38;5;28;01mtry\u001b[39;00m:\n\u001b[0;32m-> 1052\u001b[0m     response \u001b[38;5;241m=\u001b[39m \u001b[43mclient\u001b[49m\u001b[38;5;241;43m.\u001b[39;49m\u001b[43m_run_operation\u001b[49m\u001b[43m(\u001b[49m\n\u001b[1;32m   1053\u001b[0m \u001b[43m        \u001b[49m\u001b[43moperation\u001b[49m\u001b[43m,\u001b[49m\u001b[43m \u001b[49m\u001b[38;5;28;43mself\u001b[39;49m\u001b[38;5;241;43m.\u001b[39;49m\u001b[43m_unpack_response\u001b[49m\u001b[43m,\u001b[49m\u001b[43m \u001b[49m\u001b[43maddress\u001b[49m\u001b[38;5;241;43m=\u001b[39;49m\u001b[38;5;28;43mself\u001b[39;49m\u001b[38;5;241;43m.\u001b[39;49m\u001b[43m__address\u001b[49m\n\u001b[1;32m   1054\u001b[0m \u001b[43m    \u001b[49m\u001b[43m)\u001b[49m\n\u001b[1;32m   1055\u001b[0m \u001b[38;5;28;01mexcept\u001b[39;00m OperationFailure \u001b[38;5;28;01mas\u001b[39;00m exc:\n\u001b[1;32m   1056\u001b[0m     \u001b[38;5;28;01mif\u001b[39;00m exc\u001b[38;5;241m.\u001b[39mcode \u001b[38;5;129;01min\u001b[39;00m _CURSOR_CLOSED_ERRORS \u001b[38;5;129;01mor\u001b[39;00m \u001b[38;5;28mself\u001b[39m\u001b[38;5;241m.\u001b[39m__exhaust:\n\u001b[1;32m   1057\u001b[0m         \u001b[38;5;66;03m# Don't send killCursors because the cursor is already closed.\u001b[39;00m\n",
      "File \u001b[0;32m~/.pyenv/versions/3.10.8/envs/mongo-tutorial/lib/python3.10/site-packages/pymongo/_csot.py:105\u001b[0m, in \u001b[0;36mapply.<locals>.csot_wrapper\u001b[0;34m(self, *args, **kwargs)\u001b[0m\n\u001b[1;32m    103\u001b[0m         \u001b[38;5;28;01mwith\u001b[39;00m _TimeoutContext(timeout):\n\u001b[1;32m    104\u001b[0m             \u001b[38;5;28;01mreturn\u001b[39;00m func(\u001b[38;5;28mself\u001b[39m, \u001b[38;5;241m*\u001b[39margs, \u001b[38;5;241m*\u001b[39m\u001b[38;5;241m*\u001b[39mkwargs)\n\u001b[0;32m--> 105\u001b[0m \u001b[38;5;28;01mreturn\u001b[39;00m \u001b[43mfunc\u001b[49m\u001b[43m(\u001b[49m\u001b[38;5;28;43mself\u001b[39;49m\u001b[43m,\u001b[49m\u001b[43m \u001b[49m\u001b[38;5;241;43m*\u001b[39;49m\u001b[43margs\u001b[49m\u001b[43m,\u001b[49m\u001b[43m \u001b[49m\u001b[38;5;241;43m*\u001b[39;49m\u001b[38;5;241;43m*\u001b[39;49m\u001b[43mkwargs\u001b[49m\u001b[43m)\u001b[49m\n",
      "File \u001b[0;32m~/.pyenv/versions/3.10.8/envs/mongo-tutorial/lib/python3.10/site-packages/pymongo/mongo_client.py:1330\u001b[0m, in \u001b[0;36mMongoClient._run_operation\u001b[0;34m(self, operation, unpack_res, address)\u001b[0m\n\u001b[1;32m   1325\u001b[0m     operation\u001b[38;5;241m.\u001b[39mreset()  \u001b[38;5;66;03m# Reset op in case of retry.\u001b[39;00m\n\u001b[1;32m   1326\u001b[0m     \u001b[38;5;28;01mreturn\u001b[39;00m server\u001b[38;5;241m.\u001b[39mrun_operation(\n\u001b[1;32m   1327\u001b[0m         sock_info, operation, read_preference, \u001b[38;5;28mself\u001b[39m\u001b[38;5;241m.\u001b[39m_event_listeners, unpack_res\n\u001b[1;32m   1328\u001b[0m     )\n\u001b[0;32m-> 1330\u001b[0m \u001b[38;5;28;01mreturn\u001b[39;00m \u001b[38;5;28;43mself\u001b[39;49m\u001b[38;5;241;43m.\u001b[39;49m\u001b[43m_retryable_read\u001b[49m\u001b[43m(\u001b[49m\n\u001b[1;32m   1331\u001b[0m \u001b[43m    \u001b[49m\u001b[43m_cmd\u001b[49m\u001b[43m,\u001b[49m\n\u001b[1;32m   1332\u001b[0m \u001b[43m    \u001b[49m\u001b[43moperation\u001b[49m\u001b[38;5;241;43m.\u001b[39;49m\u001b[43mread_preference\u001b[49m\u001b[43m,\u001b[49m\n\u001b[1;32m   1333\u001b[0m \u001b[43m    \u001b[49m\u001b[43moperation\u001b[49m\u001b[38;5;241;43m.\u001b[39;49m\u001b[43msession\u001b[49m\u001b[43m,\u001b[49m\n\u001b[1;32m   1334\u001b[0m \u001b[43m    \u001b[49m\u001b[43maddress\u001b[49m\u001b[38;5;241;43m=\u001b[39;49m\u001b[43maddress\u001b[49m\u001b[43m,\u001b[49m\n\u001b[1;32m   1335\u001b[0m \u001b[43m    \u001b[49m\u001b[43mretryable\u001b[49m\u001b[38;5;241;43m=\u001b[39;49m\u001b[38;5;28;43misinstance\u001b[39;49m\u001b[43m(\u001b[49m\u001b[43moperation\u001b[49m\u001b[43m,\u001b[49m\u001b[43m \u001b[49m\u001b[43mmessage\u001b[49m\u001b[38;5;241;43m.\u001b[39;49m\u001b[43m_Query\u001b[49m\u001b[43m)\u001b[49m\u001b[43m,\u001b[49m\n\u001b[1;32m   1336\u001b[0m \u001b[43m\u001b[49m\u001b[43m)\u001b[49m\n",
      "File \u001b[0;32m~/.pyenv/versions/3.10.8/envs/mongo-tutorial/lib/python3.10/site-packages/pymongo/_csot.py:105\u001b[0m, in \u001b[0;36mapply.<locals>.csot_wrapper\u001b[0;34m(self, *args, **kwargs)\u001b[0m\n\u001b[1;32m    103\u001b[0m         \u001b[38;5;28;01mwith\u001b[39;00m _TimeoutContext(timeout):\n\u001b[1;32m    104\u001b[0m             \u001b[38;5;28;01mreturn\u001b[39;00m func(\u001b[38;5;28mself\u001b[39m, \u001b[38;5;241m*\u001b[39margs, \u001b[38;5;241m*\u001b[39m\u001b[38;5;241m*\u001b[39mkwargs)\n\u001b[0;32m--> 105\u001b[0m \u001b[38;5;28;01mreturn\u001b[39;00m \u001b[43mfunc\u001b[49m\u001b[43m(\u001b[49m\u001b[38;5;28;43mself\u001b[39;49m\u001b[43m,\u001b[49m\u001b[43m \u001b[49m\u001b[38;5;241;43m*\u001b[39;49m\u001b[43margs\u001b[49m\u001b[43m,\u001b[49m\u001b[43m \u001b[49m\u001b[38;5;241;43m*\u001b[39;49m\u001b[38;5;241;43m*\u001b[39;49m\u001b[43mkwargs\u001b[49m\u001b[43m)\u001b[49m\n",
      "File \u001b[0;32m~/.pyenv/versions/3.10.8/envs/mongo-tutorial/lib/python3.10/site-packages/pymongo/mongo_client.py:1448\u001b[0m, in \u001b[0;36mMongoClient._retryable_read\u001b[0;34m(self, func, read_pref, session, address, retryable)\u001b[0m\n\u001b[1;32m   1446\u001b[0m             \u001b[38;5;28;01massert\u001b[39;00m last_error \u001b[38;5;129;01mis\u001b[39;00m \u001b[38;5;129;01mnot\u001b[39;00m \u001b[38;5;28;01mNone\u001b[39;00m\n\u001b[1;32m   1447\u001b[0m             \u001b[38;5;28;01mraise\u001b[39;00m last_error\n\u001b[0;32m-> 1448\u001b[0m         \u001b[38;5;28;01mreturn\u001b[39;00m \u001b[43mfunc\u001b[49m\u001b[43m(\u001b[49m\u001b[43msession\u001b[49m\u001b[43m,\u001b[49m\u001b[43m \u001b[49m\u001b[43mserver\u001b[49m\u001b[43m,\u001b[49m\u001b[43m \u001b[49m\u001b[43msock_info\u001b[49m\u001b[43m,\u001b[49m\u001b[43m \u001b[49m\u001b[43mread_pref\u001b[49m\u001b[43m)\u001b[49m\n\u001b[1;32m   1449\u001b[0m \u001b[38;5;28;01mexcept\u001b[39;00m ServerSelectionTimeoutError:\n\u001b[1;32m   1450\u001b[0m     \u001b[38;5;28;01mif\u001b[39;00m retrying:\n\u001b[1;32m   1451\u001b[0m         \u001b[38;5;66;03m# The application may think the write was never attempted\u001b[39;00m\n\u001b[1;32m   1452\u001b[0m         \u001b[38;5;66;03m# if we raise ServerSelectionTimeoutError on the retry\u001b[39;00m\n\u001b[1;32m   1453\u001b[0m         \u001b[38;5;66;03m# attempt. Raise the original exception instead.\u001b[39;00m\n",
      "File \u001b[0;32m~/.pyenv/versions/3.10.8/envs/mongo-tutorial/lib/python3.10/site-packages/pymongo/mongo_client.py:1326\u001b[0m, in \u001b[0;36mMongoClient._run_operation.<locals>._cmd\u001b[0;34m(session, server, sock_info, read_preference)\u001b[0m\n\u001b[1;32m   1324\u001b[0m \u001b[38;5;28;01mdef\u001b[39;00m \u001b[38;5;21m_cmd\u001b[39m(session, server, sock_info, read_preference):\n\u001b[1;32m   1325\u001b[0m     operation\u001b[38;5;241m.\u001b[39mreset()  \u001b[38;5;66;03m# Reset op in case of retry.\u001b[39;00m\n\u001b[0;32m-> 1326\u001b[0m     \u001b[38;5;28;01mreturn\u001b[39;00m \u001b[43mserver\u001b[49m\u001b[38;5;241;43m.\u001b[39;49m\u001b[43mrun_operation\u001b[49m\u001b[43m(\u001b[49m\n\u001b[1;32m   1327\u001b[0m \u001b[43m        \u001b[49m\u001b[43msock_info\u001b[49m\u001b[43m,\u001b[49m\u001b[43m \u001b[49m\u001b[43moperation\u001b[49m\u001b[43m,\u001b[49m\u001b[43m \u001b[49m\u001b[43mread_preference\u001b[49m\u001b[43m,\u001b[49m\u001b[43m \u001b[49m\u001b[38;5;28;43mself\u001b[39;49m\u001b[38;5;241;43m.\u001b[39;49m\u001b[43m_event_listeners\u001b[49m\u001b[43m,\u001b[49m\u001b[43m \u001b[49m\u001b[43munpack_res\u001b[49m\n\u001b[1;32m   1328\u001b[0m \u001b[43m    \u001b[49m\u001b[43m)\u001b[49m\n",
      "File \u001b[0;32m~/.pyenv/versions/3.10.8/envs/mongo-tutorial/lib/python3.10/site-packages/pymongo/server.py:134\u001b[0m, in \u001b[0;36mServer.run_operation\u001b[0;34m(self, sock_info, operation, read_preference, listeners, unpack_res)\u001b[0m\n\u001b[1;32m    132\u001b[0m         first \u001b[38;5;241m=\u001b[39m docs[\u001b[38;5;241m0\u001b[39m]\n\u001b[1;32m    133\u001b[0m         operation\u001b[38;5;241m.\u001b[39mclient\u001b[38;5;241m.\u001b[39m_process_response(first, operation\u001b[38;5;241m.\u001b[39msession)\n\u001b[0;32m--> 134\u001b[0m         \u001b[43m_check_command_response\u001b[49m\u001b[43m(\u001b[49m\u001b[43mfirst\u001b[49m\u001b[43m,\u001b[49m\u001b[43m \u001b[49m\u001b[43msock_info\u001b[49m\u001b[38;5;241;43m.\u001b[39;49m\u001b[43mmax_wire_version\u001b[49m\u001b[43m)\u001b[49m\n\u001b[1;32m    135\u001b[0m \u001b[38;5;28;01mexcept\u001b[39;00m \u001b[38;5;167;01mException\u001b[39;00m \u001b[38;5;28;01mas\u001b[39;00m exc:\n\u001b[1;32m    136\u001b[0m     \u001b[38;5;28;01mif\u001b[39;00m publish:\n",
      "File \u001b[0;32m~/.pyenv/versions/3.10.8/envs/mongo-tutorial/lib/python3.10/site-packages/pymongo/helpers.py:181\u001b[0m, in \u001b[0;36m_check_command_response\u001b[0;34m(response, max_wire_version, allowable_errors, parse_write_concern_error)\u001b[0m\n\u001b[1;32m    178\u001b[0m \u001b[38;5;28;01melif\u001b[39;00m code \u001b[38;5;241m==\u001b[39m \u001b[38;5;241m43\u001b[39m:\n\u001b[1;32m    179\u001b[0m     \u001b[38;5;28;01mraise\u001b[39;00m CursorNotFound(errmsg, code, response, max_wire_version)\n\u001b[0;32m--> 181\u001b[0m \u001b[38;5;28;01mraise\u001b[39;00m OperationFailure(errmsg, code, response, max_wire_version)\n",
      "\u001b[0;31mOperationFailure\u001b[0m: Cannot do inclusion on field firstmjd in exclusion projection, full error: {'ok': 0.0, 'errmsg': 'Cannot do inclusion on field firstmjd in exclusion projection', 'code': 31253, 'codeName': 'Location31253'}"
     ]
    }
   ],
   "source": [
    "# Will fail due to mixing inclusion and exclusion\n",
    "docs = objects.find({'ndet': {'$gte': 100}}, {'probabilities': False, 'firstmjd': True})\n",
    "# However, it will only fail at this stage\n",
    "for doc in docs:\n",
    "    print(doc)"
   ]
  },
  {
   "cell_type": "markdown",
   "id": "38d18afe-ff9c-4bbc-8549-37e49557ce8a",
   "metadata": {},
   "source": [
    "The projections can also limit the number of elements returned from an array:"
   ]
  },
  {
   "cell_type": "code",
   "execution_count": 17,
   "id": "e112f31e-ac19-4667-b56b-ececfa931cd9",
   "metadata": {},
   "outputs": [
    {
     "name": "stdout",
     "output_type": "stream",
     "text": [
      "{'probabilities': [{'classifier_name': 'stamp_classifier', 'classifier_version': 'stamp_classifier_1.0.0', 'class_name': 'VS', 'probability': 0.7186312, 'ranking': 1.0}]}\n",
      "{'probabilities': [{'classifier_name': 'stamp_classifier', 'classifier_version': 'stamp_classifier_1.0.0', 'class_name': 'VS', 'probability': 0.7214016, 'ranking': 1.0}]}\n",
      "{'probabilities': [{'classifier_name': 'lc_classifier_top', 'classifier_version': 'hierarchical_rf_1.1.0', 'class_name': 'Periodic', 'probability': 0.926, 'ranking': 1.0}]}\n",
      "{'probabilities': [{'classifier_name': 'lc_classifier_transient', 'classifier_version': 'hierarchical_rf_1.1.0', 'class_name': 'SNII', 'probability': 0.298, 'ranking': 1.0}]}\n",
      "{'probabilities': [{'classifier_name': 'stamp_classifier', 'classifier_version': 'stamp_classifier_1.0.0', 'class_name': 'VS', 'probability': 0.77150106, 'ranking': 1.0}]}\n",
      "{'probabilities': [{'classifier_name': 'lc_classifier', 'classifier_version': 'hierarchical_rf_1.1.0', 'class_name': 'CV,Nova', 'probability': 0.578, 'ranking': 1.0}]}\n",
      "{'probabilities': [{'classifier_name': 'stamp_classifier', 'classifier_version': 'stamp_classifier_1.0.0', 'class_name': 'VS', 'probability': 0.5076621, 'ranking': 1.0}]}\n",
      "{'probabilities': [{'classifier_name': 'lc_classifier_top', 'classifier_version': 'hierarchical_rf_1.1.0', 'class_name': 'Periodic', 'probability': 0.994, 'ranking': 1.0}]}\n",
      "{'probabilities': [{'classifier_name': 'lc_classifier_transient', 'classifier_version': 'hierarchical_rf_1.1.0', 'class_name': 'SLSN', 'probability': 0.292, 'ranking': 1.0}]}\n",
      "{'probabilities': [{'classifier_name': 'lc_classifier', 'classifier_version': 'hierarchical_rf_1.1.0', 'class_name': 'LPV', 'probability': 0.990024, 'ranking': 1.0}]}\n",
      "{'probabilities': [{'classifier_name': 'stamp_classifier', 'classifier_version': 'stamp_classifier_1.0.0', 'class_name': 'VS', 'probability': 0.669669, 'ranking': 1.0}]}\n",
      "{'probabilities': [{'classifier_name': 'lc_classifier_transient', 'classifier_version': 'hierarchical_rf_1.1.0', 'class_name': 'SLSN', 'probability': 0.348, 'ranking': 1.0}]}\n",
      "{'probabilities': [{'classifier_name': 'lc_classifier_transient', 'classifier_version': 'hierarchical_rf_1.1.0', 'class_name': 'SNII', 'probability': 0.314, 'ranking': 1.0}]}\n",
      "{'probabilities': [{'classifier_name': 'lc_classifier_top', 'classifier_version': 'hierarchical_rf_1.1.0', 'class_name': 'Periodic', 'probability': 0.874, 'ranking': 1.0}]}\n",
      "{'probabilities': [{'classifier_name': 'lc_classifier_stochastic', 'classifier_version': 'hierarchical_rf_1.1.0', 'class_name': 'YSO', 'probability': 0.682, 'ranking': 1.0}]}\n",
      "{'probabilities': [{'classifier_name': 'lc_classifier_top', 'classifier_version': 'hierarchical_rf_1.1.0', 'class_name': 'Periodic', 'probability': 0.866, 'ranking': 1.0}]}\n",
      "{'probabilities': [{'classifier_name': 'lc_classifier_periodic', 'classifier_version': 'hierarchical_rf_1.1.0', 'class_name': 'E', 'probability': 0.636, 'ranking': 1.0}]}\n",
      "{'probabilities': [{'classifier_name': 'lc_classifier_stochastic', 'classifier_version': 'hierarchical_rf_1.1.0', 'class_name': 'YSO', 'probability': 0.954, 'ranking': 1.0}]}\n",
      "{'probabilities': [{'classifier_name': 'lc_classifier_stochastic', 'classifier_version': 'hierarchical_rf_1.1.0', 'class_name': 'YSO', 'probability': 0.55, 'ranking': 1.0}]}\n",
      "{'probabilities': [{'classifier_name': 'lc_classifier_stochastic', 'classifier_version': 'hierarchical_rf_1.1.0', 'class_name': 'YSO', 'probability': 0.974, 'ranking': 1.0}]}\n",
      "{'probabilities': [{'classifier_name': 'stamp_classifier', 'classifier_version': 'stamp_classifier_1.0.0', 'class_name': 'VS', 'probability': 0.6052657, 'ranking': 1.0}]}\n",
      "{'probabilities': [{'classifier_name': 'lc_classifier_periodic', 'classifier_version': 'hierarchical_rf_1.1.0', 'class_name': 'RRL', 'probability': 0.958, 'ranking': 1.0}]}\n",
      "{'probabilities': [{'classifier_name': 'lc_classifier_stochastic', 'classifier_version': 'hierarchical_rf_1.1.0', 'class_name': 'YSO', 'probability': 0.95, 'ranking': 1.0}]}\n",
      "{'probabilities': [{'classifier_name': 'lc_classifier', 'classifier_version': 'hierarchical_rf_1.1.0', 'class_name': 'YSO', 'probability': 0.47736, 'ranking': 1.0}]}\n"
     ]
    }
   ],
   "source": [
    "docs = objects.find({'probabilities.ranking': 1}, {'probabilities.$': True, '_id': False})\n",
    "\n",
    "for doc in docs:\n",
    "    print(doc)"
   ]
  },
  {
   "cell_type": "markdown",
   "id": "1a169e79-71c8-4ca5-a6ed-ae1117ce412f",
   "metadata": {},
   "source": [
    "The `$` operator seen above will only return the first element of the array that matches the query,  even if more than one element does. For this reason it requires for the array to actually be used within the query.\n",
    "\n",
    "For more control over the returned element, there is also the `$elemMatch` projection operator:"
   ]
  },
  {
   "cell_type": "code",
   "execution_count": 19,
   "id": "7eb7e5a0-8a0a-4995-ad0c-5bdc0007a6db",
   "metadata": {},
   "outputs": [
    {
     "name": "stdout",
     "output_type": "stream",
     "text": [
      "{'probabilities': [{'classifier_name': 'stamp_classifier', 'classifier_version': 'stamp_classifier_1.0.0', 'class_name': 'VS', 'probability': 0.7186312, 'ranking': 1.0}]}\n",
      "{'probabilities': [{'classifier_name': 'stamp_classifier', 'classifier_version': 'stamp_classifier_1.0.0', 'class_name': 'VS', 'probability': 0.7214016, 'ranking': 1.0}]}\n",
      "{'probabilities': [{'classifier_name': 'stamp_classifier', 'classifier_version': 'stamp_classifier_1.0.0', 'class_name': 'VS', 'probability': 0.67333895, 'ranking': 1.0}]}\n",
      "{'probabilities': [{'classifier_name': 'stamp_classifier', 'classifier_version': 'stamp_classifier_1.0.0', 'class_name': 'VS', 'probability': 0.77150106, 'ranking': 1.0}]}\n",
      "{}\n",
      "{}\n",
      "{}\n",
      "{'probabilities': [{'classifier_name': 'stamp_classifier', 'classifier_version': 'stamp_classifier_1.0.0', 'class_name': 'VS', 'probability': 0.7479756, 'ranking': 1.0}]}\n",
      "{'probabilities': [{'classifier_name': 'stamp_classifier', 'classifier_version': 'stamp_classifier_1.0.0', 'class_name': 'VS', 'probability': 0.669669, 'ranking': 1.0}]}\n",
      "{}\n",
      "{'probabilities': [{'classifier_name': 'stamp_classifier', 'classifier_version': 'stamp_classifier_1.0.0', 'class_name': 'VS', 'probability': 0.5987944, 'ranking': 1.0}]}\n",
      "{'probabilities': [{'classifier_name': 'stamp_classifier', 'classifier_version': 'stamp_classifier_1.0.0', 'class_name': 'VS', 'probability': 0.65860647, 'ranking': 1.0}]}\n",
      "{'probabilities': [{'classifier_name': 'stamp_classifier', 'classifier_version': 'stamp_classifier_1.0.0', 'class_name': 'VS', 'probability': 0.71953666, 'ranking': 1.0}]}\n",
      "{'probabilities': [{'classifier_name': 'stamp_classifier', 'classifier_version': 'stamp_classifier_1.0.0', 'class_name': 'VS', 'probability': 0.67608005, 'ranking': 1.0}]}\n",
      "{}\n",
      "{'probabilities': [{'classifier_name': 'stamp_classifier', 'classifier_version': 'stamp_classifier_1.0.0', 'class_name': 'VS', 'probability': 0.5644983, 'ranking': 1.0}]}\n",
      "{'probabilities': [{'classifier_name': 'stamp_classifier', 'classifier_version': 'stamp_classifier_1.0.0', 'class_name': 'VS', 'probability': 0.6052657, 'ranking': 1.0}]}\n",
      "{'probabilities': [{'classifier_name': 'stamp_classifier', 'classifier_version': 'stamp_classifier_1.0.0', 'class_name': 'VS', 'probability': 0.68101305, 'ranking': 1.0}]}\n",
      "{}\n"
     ]
    }
   ],
   "source": [
    "docs = objects.find(\n",
    "    {\n",
    "        'ndet': {'$gte': 100}\n",
    "    }, \n",
    "    {\n",
    "        '_id': False,\n",
    "        'probabilities': {\n",
    "            '$elemMatch': {  # The value for $elemMatch has the form of a query, over the fields inside the elements\n",
    "                'classifier_name': 'stamp_classifier',\n",
    "                'ranking': 1\n",
    "            }\n",
    "        },\n",
    "    })\n",
    "\n",
    "for doc in docs:\n",
    "    print(doc)"
   ]
  },
  {
   "cell_type": "markdown",
   "id": "4b33c20b-4d33-49f7-8cad-7ec35450ec52",
   "metadata": {},
   "source": [
    "Note that the objects where no element matches the requirements for the projection are still returned, but are now empty. This is because they still fullfill the main query in the find command. Also, in this case there is no limitation for the main query to include the array used in the projection."
   ]
  }
 ],
 "metadata": {
  "kernelspec": {
   "display_name": "Python 3 (ipykernel)",
   "language": "python",
   "name": "python3"
  },
  "language_info": {
   "codemirror_mode": {
    "name": "ipython",
    "version": 3
   },
   "file_extension": ".py",
   "mimetype": "text/x-python",
   "name": "python",
   "nbconvert_exporter": "python",
   "pygments_lexer": "ipython3",
   "version": "3.10.8"
  }
 },
 "nbformat": 4,
 "nbformat_minor": 5
}
