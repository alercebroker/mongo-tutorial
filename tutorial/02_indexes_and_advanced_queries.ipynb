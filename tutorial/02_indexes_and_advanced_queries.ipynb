{
 "cells": [
  {
   "cell_type": "markdown",
   "id": "c34c8be1-2e77-4fe4-8332-db33efe6eadd",
   "metadata": {},
   "source": [
    "## Indexing\n",
    "\n",
    "Indexing is used to make searches more efficient. When there are no indices, any search goes through each full document in order to find the specified results. If a search uses indexed fields, it can perform more efficiently by going only through the indexed field(s), and then retrieving only the matching documents without having to go through the full collection. However, not everything needs to be indexed, since the storage usage can grow substantially when too many indexes are created. It is generally recommended to limit the number of indices to the most commonly used fields.\n",
    "\n",
    "For the examples in this tutorial, neither the gain in search speed nor the extra storage required will be noticeable, but for large collections this has to be taken into account.\n",
    "\n",
    "Every collection in MongoDB comes indexed by `_id` by default, but new indices can be created at any time and there are different kinds of indices.\n",
    "\n",
    "**Note:** If your user doesn't have write permission, you won't be able to create your own indices, but the gains when doing queries over existing indices will still be noticeable.\n",
    "\n",
    "In this section we'll be using a sample of ALeRCE-like objects that should be loaded into the database if the instructions in `README.md` have been followed. For an example document in this collection:"
   ]
  },
  {
   "cell_type": "code",
   "execution_count": null,
   "id": "9a3510f0-fa85-4931-9a94-02b6c02c64ea",
   "metadata": {},
   "outputs": [],
   "source": [
    "from pprint import pprint\n",
    "from pymongo import MongoClient\n",
    "\n",
    "client = MongoClient(host='localhost', port=27017, username='mongo', password='mongo')\n",
    "\n",
    "objects = client.alerce.objects  # This is the collection we'll be using\n",
    "\n",
    "pprint(objects.find_one())"
   ]
  },
  {
   "cell_type": "markdown",
   "id": "efdd69c7-0187-4cb4-bd01-d17f4a10a322",
   "metadata": {},
   "source": [
    "**Note:** The objects in the actual ALeRCE database do not exactly follow this structure. We're using only a simplified version here to show these concepts."
   ]
  },
  {
   "cell_type": "markdown",
   "id": "397e1fdf-bc12-4fbe-a98f-a020edff443f",
   "metadata": {},
   "source": [
    "### Creating basic indices\n",
    "\n",
    "To create a simple index over a field, the structure is similar to what we saw for the `sort` option in the `find` method. It should be a list of pairs with a direction given by `1` or `-1` (ascending or descending, respectively)."
   ]
  },
  {
   "cell_type": "code",
   "execution_count": null,
   "id": "a00ba0bb-96e0-4f03-94ff-e2e24645127f",
   "metadata": {},
   "outputs": [],
   "source": [
    "from pymongo import IndexModel\n",
    "\n",
    "objects.create_index([('firstmjd', 1)])"
   ]
  },
  {
   "cell_type": "markdown",
   "id": "6d43b704-c8b4-454f-95dc-e76f895b3380",
   "metadata": {},
   "source": [
    "The return value correspond to the name given to the index in the collection."
   ]
  },
  {
   "cell_type": "code",
   "execution_count": null,
   "id": "bacdcb95-8406-475b-9dea-0b4e836c5039",
   "metadata": {},
   "outputs": [],
   "source": [
    "objects.index_information()"
   ]
  },
  {
   "cell_type": "markdown",
   "id": "33b31293-0a29-4426-a0df-ec2e5ff032d1",
   "metadata": {},
   "source": [
    "The indices here are given by index name and have information about the field, order and type of index (the `v` field refers to the version of indexing).\n",
    "\n",
    "When performing queries, it is possible to check if indices are being used. For this, there is the `explain` method for `Cursor`, which returns a dictionary with information regarding the query:"
   ]
  },
  {
   "cell_type": "code",
   "execution_count": null,
   "id": "fb13d095-1071-4dc5-97af-3bf23e3aa43a",
   "metadata": {},
   "outputs": [],
   "source": [
    "info = objects.find({'firstmjd': {'$gte': 58400}}).explain()\n",
    "exec_stats = info['executionStats']\n",
    "\n",
    "print(f'Docs returned: {exec_stats[\"nReturned\"]}')\n",
    "print(f'Keys checked : {exec_stats[\"totalKeysExamined\"]}')\n",
    "print(f'Docs checked : {exec_stats[\"totalDocsExamined\"]}')\n",
    "print(f'Time (ms)    : {exec_stats[\"executionTimeMillis\"]}')"
   ]
  },
  {
   "cell_type": "markdown",
   "id": "1df2aa01-5fe9-4a20-92f8-c79fba668f2e",
   "metadata": {},
   "source": [
    "There is a lot more infomation from `explain`, but we'll center on the relevant ones for this section (all within `executionStats`):\n",
    "\n",
    "* `nReturned`: Number of documents returned\n",
    "* `totalKeysExamined`: Number of indexed fields checked during the query\n",
    "* `totalDocsExamined`: Number of documents checked during the query\n",
    "* `executionTimeMillis`: Execution time in milliseconds. This is always an integer and is rounded\n",
    "\n",
    "For comparison, let's do a query over a non-indexed field:"
   ]
  },
  {
   "cell_type": "code",
   "execution_count": null,
   "id": "2da4e5ad-29ae-4970-a233-f44ecdba2190",
   "metadata": {},
   "outputs": [],
   "source": [
    "info = objects.find({'lastmjd': {'$gte': 59550}}).explain()\n",
    "exec_stats = info['executionStats']\n",
    "\n",
    "print(f'Docs returned: {exec_stats[\"nReturned\"]}')\n",
    "print(f'Keys checked : {exec_stats[\"totalKeysExamined\"]}')\n",
    "print(f'Docs checked : {exec_stats[\"totalDocsExamined\"]}')\n",
    "print(f'Time (ms)    : {exec_stats[\"executionTimeMillis\"]}')"
   ]
  },
  {
   "cell_type": "markdown",
   "id": "29892f4a-b53f-406b-8bdd-0d5794ed14c9",
   "metadata": {},
   "source": [
    "Even though it actually returns less documents, the query checks all documents in the collection, without checking any key (as there is no indexing over `lastmjd`). In this case the execution time is still below a millisecond, but for large collections, such full scans can make a big difference.\n",
    "\n",
    "When using indices, the number of keys checked are usually in the order of the returned documents, although some variations depending on the query and ordering can alter that. Normally as well, it only checks the documents that it needs to return, making it most of the time the most efficient option. The only exception is for queries that return most of the collection, as then it will scan the indices and then the documents themselves, but the losses here are generally minor compared with gains over more restricted queries."
   ]
  },
  {
   "cell_type": "markdown",
   "id": "0587f0d1-b471-447e-b20c-e462df56d532",
   "metadata": {},
   "source": [
    "One can also drop an index based on the index name:"
   ]
  },
  {
   "cell_type": "code",
   "execution_count": null,
   "id": "04c3fc85-d462-429b-ade0-7164d79006d2",
   "metadata": {},
   "outputs": [],
   "source": [
    "objects.drop_index('firstmjd_1')\n",
    "objects.index_information()"
   ]
  },
  {
   "cell_type": "markdown",
   "id": "a3bb1cfd-c99f-4f78-acfe-688de2b3f351",
   "metadata": {},
   "source": [
    "At creation, an index can also be given a custom name, instead of relying on MongoDB for the name:"
   ]
  },
  {
   "cell_type": "code",
   "execution_count": null,
   "id": "09522efe-4382-4629-be73-92bf4ec03484",
   "metadata": {
    "tags": []
   },
   "outputs": [],
   "source": [
    "objects.create_index([('firstmjd', 1)], name='first_detection_date')"
   ]
  },
  {
   "cell_type": "markdown",
   "id": "d25f3f19-53f2-42c3-88d9-27290332f680",
   "metadata": {},
   "source": [
    "In the case of the field `probabilities`, we have the case of a an array with nested documents. If we wanted to create an index for a field inside it, we can use dot notation:"
   ]
  },
  {
   "cell_type": "code",
   "execution_count": null,
   "id": "a07bf100-b2c2-472e-9c83-1cc5a5d2ff59",
   "metadata": {},
   "outputs": [],
   "source": [
    "objects.create_index([('probabilities.probability', -1)], name='probs')"
   ]
  },
  {
   "cell_type": "markdown",
   "id": "0ad1b683-4791-4dca-a055-4a01d13d73b7",
   "metadata": {},
   "source": [
    "As for other common options, it is possible to demand that the elements of the index are unique:"
   ]
  },
  {
   "cell_type": "code",
   "execution_count": null,
   "id": "7887db9e-aee2-4a88-b5cf-67dadeb6ce00",
   "metadata": {},
   "outputs": [],
   "source": [
    "objects.create_index([('oid', 1)], unique=True)"
   ]
  },
  {
   "cell_type": "markdown",
   "id": "d23b5979-a071-446c-a40d-e8b6bbeb7fd6",
   "metadata": {},
   "source": [
    "Or creating a partial index (only indexes documents that fullfill a given condition):"
   ]
  },
  {
   "cell_type": "code",
   "execution_count": null,
   "id": "6567af2a-17bf-4140-911a-9dc3e7e0a2ce",
   "metadata": {},
   "outputs": [],
   "source": [
    "objects.create_index([('lastmjd', 1)], partialFilterExpression={'ndet': {'$gt': 100}})"
   ]
  },
  {
   "cell_type": "markdown",
   "id": "6edb3b23-cbc1-4d72-9e34-662ba067b7a5",
   "metadata": {},
   "source": [
    "The above creates an index over `lastmjd`, but only for documents with `ndet` greater than 100.\n",
    "\n",
    "For now, we'll just remove all indices (note that this will never remove the index over `_id`):"
   ]
  },
  {
   "cell_type": "code",
   "execution_count": null,
   "id": "ad560820-3d34-4c80-bf12-040381ca5941",
   "metadata": {},
   "outputs": [],
   "source": [
    "objects.drop_indexes()"
   ]
  },
  {
   "cell_type": "markdown",
   "id": "76a106c0-ebd8-490d-a87a-13a1f3b0fca5",
   "metadata": {},
   "source": [
    "### Geospatial indexing\n",
    "\n",
    "Some fields can have a special indexing, such as the location on a sphere. This is why the field `loc` has the form it does:"
   ]
  },
  {
   "cell_type": "code",
   "execution_count": null,
   "id": "851ca7b7-f31a-4fbc-85ff-994d0bf58f59",
   "metadata": {},
   "outputs": [],
   "source": [
    "doc = objects.find_one()\n",
    "\n",
    "print(f'loc: {doc[\"loc\"]}')\n",
    "print(f'RA: {doc[\"meanra\"]}; RA - 180: {doc[\"meanra\"] - 180}')\n",
    "print(f'Dec: {doc[\"meandec\"]}')"
   ]
  },
  {
   "cell_type": "markdown",
   "id": "20e12750-c2e4-40d2-b5d2-bde36c3b2aa0",
   "metadata": {},
   "source": [
    "The first value of `coordinates` inside `loc` corresponds to RA minus 180, while Dec remains the same. This is because the format with `type` and `coordinates` is defined by [GeoJSON](https://www.mongodb.com/docs/manual/reference/geojson/) and normally used for latitude/longitude coordinates (thus why we need to use RA minus 180). Using the GeoJSON notation allows us index over the sphere and perform cone-searches over the coordinates (which we'll see later on). For this, the index cannot just be ascending or descending and have to use the value `2dsphere`:"
   ]
  },
  {
   "cell_type": "code",
   "execution_count": null,
   "id": "33f9fb2c-be7d-4137-acc0-e14c4adf4ba2",
   "metadata": {},
   "outputs": [],
   "source": [
    "objects.create_index([('loc', '2dsphere')])"
   ]
  },
  {
   "cell_type": "markdown",
   "id": "31cd0b80-620b-4cbd-a4e8-491d96c8b838",
   "metadata": {},
   "source": [
    "### Compund indices\n",
    "\n",
    "It is also possible to create indices over multiple fields at a time, with them being sorted by in order (latter indices fixing clashes over the first). This can be very useful depending on the type of search. For instance, we'll create an index over the classifier name and version, so that all versions are in order, but first sorted by classifier (for each document):"
   ]
  },
  {
   "cell_type": "code",
   "execution_count": null,
   "id": "486ca3e7-9d27-498c-b050-707fc6801399",
   "metadata": {},
   "outputs": [],
   "source": [
    "objects.create_index([('probabilities.classifier_name', 1), ('probabilities.classifier_version', 1)])  # The list now has a second element (the secondary index)"
   ]
  },
  {
   "cell_type": "markdown",
   "id": "e9d99698-c4fd-4abe-83cf-8bbc384cfb89",
   "metadata": {},
   "source": [
    "Again we'll clean up all the indices:"
   ]
  },
  {
   "cell_type": "code",
   "execution_count": null,
   "id": "9b530ba3-77c6-4b3a-ad88-13eaa493624e",
   "metadata": {},
   "outputs": [],
   "source": [
    "objects.drop_indexes()"
   ]
  },
  {
   "cell_type": "markdown",
   "id": "15ab7d20-6caf-4440-a26d-ac641b609648",
   "metadata": {},
   "source": [
    "## Projections (selecting fields for output)\n",
    "\n",
    "The `find` and `find_one` methods have some additional functionality that we'll discuss now. Besides the dictionary with the query filters, a second argument can be passed with another dictionary for \"projection\". These projections allow for different manipulations of the output documents, without modifying them on the database. For instance, if there is only one field of interest in the output:"
   ]
  },
  {
   "cell_type": "code",
   "execution_count": null,
   "id": "e29875cf-abaa-4d89-9ecb-342f9886db48",
   "metadata": {},
   "outputs": [],
   "source": [
    "docs = objects.find({'ndet': {'$gte': 100}}, {'firstmjd': True, 'lastmjd': True})\n",
    "\n",
    "for doc in docs:\n",
    "    print(doc)"
   ]
  },
  {
   "cell_type": "markdown",
   "id": "e706b7a9-abb2-4728-bd87-ebe7e0bebed3",
   "metadata": {},
   "source": [
    "Here we've selected only objects with more than 100 detections, but are only interested in the first and last MJD. As you can see, even if not explicitly selected, the `_id` field will be carried by default. This behaviour can be changed:"
   ]
  },
  {
   "cell_type": "code",
   "execution_count": null,
   "id": "b53400be-33a8-4ea4-97eb-d1d99eb581a1",
   "metadata": {},
   "outputs": [],
   "source": [
    "docs = objects.find({'ndet': {'$gte': 100}}, {'firstmjd': True, 'lastmjd': True, '_id': False})\n",
    "\n",
    "for doc in docs:\n",
    "    print(doc)"
   ]
  },
  {
   "cell_type": "markdown",
   "id": "e2ba3c2e-8531-427b-b661-ff40f7f227f8",
   "metadata": {},
   "source": [
    "If at least one of the projected fields is explicitly selected, all the other will be implicitly removed. The oposite is also true:"
   ]
  },
  {
   "cell_type": "code",
   "execution_count": null,
   "id": "dad8ccb7-f721-436b-8390-58325b589342",
   "metadata": {},
   "outputs": [],
   "source": [
    "docs = objects.find({'ndet': {'$gte': 100}}, {'probabilities': False, '_id': False})\n",
    "\n",
    "for doc in docs:\n",
    "    print(doc)"
   ]
  },
  {
   "cell_type": "markdown",
   "id": "49a4a9c7-61ea-41f1-8882-a98d670485ad",
   "metadata": {},
   "source": [
    "The above includes every field, except for `probabilities` and `_id`. Note that it is not possible to mix inclusion and exclusion of fields, except for the case of `_id`:"
   ]
  },
  {
   "cell_type": "code",
   "execution_count": null,
   "id": "a6c4c3e2-525e-470d-81dd-bcb2eea34684",
   "metadata": {},
   "outputs": [],
   "source": [
    "# Will fail due to mixing inclusion and exclusion\n",
    "docs = objects.find({'ndet': {'$gte': 100}}, {'probabilities': False, 'firstmjd': True})\n",
    "# However, it will only fail at this stage\n",
    "for doc in docs:\n",
    "    print(doc)"
   ]
  },
  {
   "cell_type": "markdown",
   "id": "513ade4b-7057-45a7-8c14-5663913776dc",
   "metadata": {},
   "source": [
    "It is possible also to change the names of fields using the new name as key and the old name as value (with `$` before the name):"
   ]
  },
  {
   "cell_type": "code",
   "execution_count": null,
   "id": "603ca380-9fc2-4692-b113-20192e1737a5",
   "metadata": {},
   "outputs": [],
   "source": [
    "docs = objects.find({'ndet': {'$gte': 100}}, {'detections': '$ndet', 'firstmjd': True})\n",
    "\n",
    "# Renamed ndet to detections\n",
    "for doc in docs:\n",
    "    print(doc)"
   ]
  },
  {
   "cell_type": "markdown",
   "id": "982841f2-efc1-489c-bd3c-1170c3d91430",
   "metadata": {},
   "source": [
    "It is also possible to project embedded documents:"
   ]
  },
  {
   "cell_type": "code",
   "execution_count": null,
   "id": "632624de-4a32-47b0-9249-0f23de00d3b0",
   "metadata": {},
   "outputs": [],
   "source": [
    "docs = objects.find({'ndet': {'$gte': 100}}, {'probability': '$probabilities.probability', '_id': False})\n",
    "\n",
    "# Renamed ndet to detections\n",
    "for doc in docs:\n",
    "    print(doc)"
   ]
  },
  {
   "cell_type": "markdown",
   "id": "38d18afe-ff9c-4bbc-8549-37e49557ce8a",
   "metadata": {},
   "source": [
    "The projections can also limit the number of elements returned from an array:"
   ]
  },
  {
   "cell_type": "code",
   "execution_count": null,
   "id": "e112f31e-ac19-4667-b56b-ececfa931cd9",
   "metadata": {},
   "outputs": [],
   "source": [
    "docs = objects.find({'probabilities.ranking': 1}, {'probabilities.$': True, '_id': False})\n",
    "\n",
    "for doc in docs:\n",
    "    print(doc)"
   ]
  },
  {
   "cell_type": "markdown",
   "id": "1a169e79-71c8-4ca5-a6ed-ae1117ce412f",
   "metadata": {},
   "source": [
    "The `$` operator seen above will only return the first element of the array that matches the query,  even if more than one element does. For this reason it requires for the array to actually be used within the query.\n",
    "\n",
    "For more control over the returned element, there is also the `$elemMatch` projection operator:"
   ]
  },
  {
   "cell_type": "code",
   "execution_count": null,
   "id": "7eb7e5a0-8a0a-4995-ad0c-5bdc0007a6db",
   "metadata": {},
   "outputs": [],
   "source": [
    "docs = objects.find(\n",
    "    {\n",
    "        'ndet': {'$gte': 100}\n",
    "    }, \n",
    "    {\n",
    "        '_id': False,\n",
    "        'probabilities': {\n",
    "            '$elemMatch': {  # The value for $elemMatch has the form of a query, over the fields inside the elements\n",
    "                'classifier_name': 'stamp_classifier',\n",
    "                'ranking': 1\n",
    "            }\n",
    "        },\n",
    "    })\n",
    "\n",
    "for doc in docs:\n",
    "    print(doc)"
   ]
  },
  {
   "cell_type": "markdown",
   "id": "4b33c20b-4d33-49f7-8cad-7ec35450ec52",
   "metadata": {},
   "source": [
    "**Note:** If more than one element of `$elemMatch` meets the criteria, only the first match will be returned.\n",
    "\n",
    "The objects where no element matches the requirements for the projection are still returned, but are now empty. This is because they still fullfill the main query in the find command. Also, in this case there is no limitation for the main query to include the array used in the projection.\n",
    "\n",
    "In order to retrieve all matching elements, it is better to use `$filter`:"
   ]
  },
  {
   "cell_type": "code",
   "execution_count": null,
   "id": "a7c925bd-f081-42b7-8f74-02f716eea3d7",
   "metadata": {},
   "outputs": [],
   "source": [
    "docs = objects.find(\n",
    "    {\n",
    "        'ndet': {'$gte': 100}\n",
    "    }, \n",
    "    {\n",
    "        '_id': False,\n",
    "        'probs': {  # This is the name of the output array (can be anything)\n",
    "            '$filter': {\n",
    "                'input': '$probabilities',  # This is the name of the input array\n",
    "                'cond': {  # The condition that needs to match\n",
    "                    '$and': [\n",
    "                        {'$eq': ['$$this.ranking', 1]},\n",
    "                        {'$eq': ['$$this.classifier_name', 'stamp_classifier']}\n",
    "                    ]\n",
    "                }\n",
    "            }\n",
    "        },\n",
    "    })\n",
    "\n",
    "for doc in docs:\n",
    "    print(doc)"
   ]
  },
  {
   "cell_type": "markdown",
   "id": "171fe6ae-dea0-4a7f-9638-46db922b3dd2",
   "metadata": {},
   "source": [
    "**Note:** The operator `$filter` is only available for MongoDB version 3.2 or above.\n",
    "\n",
    "The projection is different this time. The condition (`cond`) for `$filter` must be a single query, using an operator as the key. That's why we are explicitly using `$and`. Additionally, the conditions within the `$and` are still passed as a list of dictionaries, but now the operator is the key, while the value is a two element list, with the required field in the first position and the value used for the operator in the second position. \n",
    "\n",
    "The name `$$this` refers to elements of the array defined in `input`. When passing the name of the array to input, it must be preceeded by `$`. It is possible to change the name from `this` to something else using the option `as`:"
   ]
  },
  {
   "cell_type": "code",
   "execution_count": null,
   "id": "23563c47-3a0a-4da3-9ecc-4822c1a4578e",
   "metadata": {},
   "outputs": [],
   "source": [
    "docs = objects.find(\n",
    "    {\n",
    "        'ndet': {'$gte': 100}\n",
    "    }, \n",
    "    {\n",
    "        '_id': False,\n",
    "        'probs': {\n",
    "            '$filter': {\n",
    "                'input': '$probabilities',\n",
    "                'as': 'element',  # New name for items\n",
    "                'cond': {\n",
    "                    '$and': [\n",
    "                        {'$eq': ['$$element.ranking', 1]},  # now using 'element' instead of 'this'\n",
    "                        {'$eq': ['$$element.classifier_name', 'stamp_classifier']}\n",
    "                    ]\n",
    "                }\n",
    "            }\n",
    "        },\n",
    "    })\n",
    "\n",
    "for doc in docs:\n",
    "    print(doc)"
   ]
  },
  {
   "cell_type": "markdown",
   "id": "798146fc-71dd-489d-bd88-1e1c5ba707bd",
   "metadata": {},
   "source": [
    "## Expression queries\n",
    "\n",
    "Another types of queries allows for the use of what are called expressions. These are typically some sort of operation over the fields, rather than a direct search over the values. For instance, to retrieve objects with difference between last and first detection dates of less than a thousand days, we would use: "
   ]
  },
  {
   "cell_type": "code",
   "execution_count": null,
   "id": "c474d71d-7668-4064-90da-50947523df29",
   "metadata": {},
   "outputs": [],
   "source": [
    "docs = objects.find(\n",
    "    {\n",
    "        '$expr': {\n",
    "            '$lte': [{'$subtract': ['$lastmjd', '$firstmjd']}, 1000]\n",
    "        }\n",
    "    }, \n",
    "    {'firstmjd': True, 'lastmjd': True, '_id': False}\n",
    ")\n",
    "\n",
    "for doc in docs:\n",
    "    print(doc)"
   ]
  },
  {
   "cell_type": "markdown",
   "id": "f9815164-a35e-4bf4-9441-af8aa7f12f86",
   "metadata": {},
   "source": [
    "The `$expr` operator can use withing the standard query operators (`$lte` in this case), but now with a value that is a list with the field in the first position, which can now be an expression (in this case `$subtract`) and the second value given for the comparison. Note that the fields used within the expression *must* be preceeded by `$`. A list of all expression operators can be found [here](https://www.mongodb.com/docs/v6.0/meta/aggregation-quick-reference/#operator-expressions).\n",
    "\n",
    "With the concept of expressions, we can now explain the `$filter` operator: `input` must be an expression that returns an array, thus why we use the `$` at the beginning of the field name. We could also have made a more involved expression, as long as the return is always an array. The same applies to `cond`, which explains the use of arrays to define the `$eq` situations.\n",
    "\n",
    "Expressions are an important concept, separated from operators. Some operators can receive expressions and some expressions can have the same name as operators, but they can have somewhat different names. *Always check the documentation.*"
   ]
  },
  {
   "cell_type": "markdown",
   "id": "1f87c520-9736-4b7b-89ae-7b832349b03f",
   "metadata": {},
   "source": [
    "## Array queries\n",
    "\n",
    "So far we've seen some queries over simple fields. Queries over arrays sometimes work in unexpected ways. First of, a simple query (without projection) will always return the full object, not just the matching elements:"
   ]
  },
  {
   "cell_type": "code",
   "execution_count": null,
   "id": "176f59eb-1c01-4fe4-8518-2b7c71e4a7a6",
   "metadata": {},
   "outputs": [],
   "source": [
    "docs = objects.find({'probabilities.classifier_name': 'stamp_classifier'})\n",
    "\n",
    "print(docs[1])"
   ]
  },
  {
   "cell_type": "markdown",
   "id": "95cea195-893d-44c9-abe4-34d7c4e1ec47",
   "metadata": {},
   "source": [
    "A projection is needed to limit the results within an array. Furthermore, in the following query one might expect to select only objects classed as AGN with the highest probability on the stamp classifier:"
   ]
  },
  {
   "cell_type": "code",
   "execution_count": null,
   "id": "d241b8a9-32ea-454a-8352-14e674478c7b",
   "metadata": {},
   "outputs": [],
   "source": [
    "docs = objects.find(\n",
    "    {\n",
    "        'probabilities.classifier_name': 'stamp_classifier',\n",
    "        'probabilities.ranking': 1,\n",
    "        'probabilities.class_name': 'AGN'\n",
    "    }, \n",
    "    {  # We're using the projection to get only the elements that actually match the query\n",
    "        '_id': False,\n",
    "        'probs': {\n",
    "            '$filter': {\n",
    "                'input': '$probabilities',\n",
    "                'cond': {\n",
    "                    '$and': [\n",
    "                        {'$eq': ['$$this.ranking', 1]},\n",
    "                        {'$eq': ['$$this.classifier_name', 'stamp_classifier']},\n",
    "                        {'$eq': ['$$this.class_name', 'AGN']}\n",
    "                    ]\n",
    "                }\n",
    "            }\n",
    "        },\n",
    "    }\n",
    ")\n",
    "\n",
    "for doc in docs:\n",
    "    print(doc)"
   ]
  },
  {
   "cell_type": "markdown",
   "id": "6a6caa3b-7770-47da-a924-806190475af7",
   "metadata": {},
   "source": [
    "Why are we getting empty arrays?\n",
    "\n",
    "The answer is that, by concatenating queries over array fields, they will return documents where at least one element of the array fullfills each condition *independently*. In other words, the above will match as long as an element of the array has a has stamp classifier as the classifier name, a ranking one and a class name of AGN, *even if each condition is fullfilled by a different element*.\n",
    "\n",
    "To make sure that a given element matches the condition simultaneously we can use the `$elemMatch` operator for queries:"
   ]
  },
  {
   "cell_type": "code",
   "execution_count": null,
   "id": "6f7038c9-8408-41ec-a9d7-d12323c38241",
   "metadata": {},
   "outputs": [],
   "source": [
    "docs = objects.find(\n",
    "    {\n",
    "        'probabilities': {\n",
    "            '$elemMatch': {\n",
    "                'classifier_name': 'stamp_classifier',\n",
    "                'ranking': 1,\n",
    "                'class_name': 'AGN'\n",
    "            }\n",
    "        }\n",
    "    }, \n",
    "    {  # We're using the projection to get only the elements that actually match the query\n",
    "        '_id': False,\n",
    "        'probs': {\n",
    "            '$filter': {\n",
    "                'input': '$probabilities',\n",
    "                'cond': {\n",
    "                    '$and': [\n",
    "                        {'$eq': ['$$this.ranking', 1]},\n",
    "                        {'$eq': ['$$this.classifier_name', 'stamp_classifier']},\n",
    "                        {'$eq': ['$$this.class_name', 'AGN']}\n",
    "                    ]\n",
    "                }\n",
    "            }\n",
    "        },\n",
    "    }\n",
    ")\n",
    "\n",
    "for doc in docs:\n",
    "    print(doc)"
   ]
  },
  {
   "cell_type": "markdown",
   "id": "b81a178b-c827-463a-8c71-6236aafe5f6a",
   "metadata": {},
   "source": [
    "## Geospatial queries\n",
    "\n",
    "If a geospatial index is being used on a field, it allows us to do geospatial queries. While multiple types of searches are possible depending on the geometries defined, we will focus only on cone-searches, which are the more relevent for usage within ALeRCE. For other types of geospatial queries, see [here](https://www.mongodb.com/docs/manual/reference/operator/query-geospatial/).\n",
    "\n",
    "First we need to create a geospatial index:"
   ]
  },
  {
   "cell_type": "code",
   "execution_count": null,
   "id": "e62eb99b-07fd-4273-9934-e14cb2f22103",
   "metadata": {},
   "outputs": [],
   "source": [
    "objects.create_index([('loc', '2dsphere')])"
   ]
  },
  {
   "cell_type": "markdown",
   "id": "141f96d1-dc59-45ef-b98e-0ad2dd5b6bc0",
   "metadata": {},
   "source": [
    "Now, to search for elements within a circle over the sphere we use the operator `$geoWithin`. Inside the operator there are multiple options that can be used, but in the case of the circle we use `$centerSphere`, which has as value an array. The first element is an array of coordinates (latitude and longitude, or RA minus 180 and Dec, always in degrees) and the second element is the radius (in radians):"
   ]
  },
  {
   "cell_type": "code",
   "execution_count": null,
   "id": "454c7e2a-5796-45cc-92b2-601f0671cb7f",
   "metadata": {},
   "outputs": [],
   "source": [
    "docs = objects.find(\n",
    "    {\n",
    "        'loc': {\n",
    "            '$geoWithin': {\n",
    "                '$centerSphere': [[67 - 180, 52], 3.14 / 180]\n",
    "            }\n",
    "        }\n",
    "    },\n",
    "    {\n",
    "        'meanra': True,\n",
    "        'meandec': True,\n",
    "        '_id': False\n",
    "    }\n",
    ")\n",
    "\n",
    "for doc in docs:\n",
    "    print(doc)"
   ]
  },
  {
   "cell_type": "markdown",
   "id": "5638252a-7102-468d-ba41-38f175c89339",
   "metadata": {},
   "source": [
    "It is also possible to use other geometries, for instance a `$box`. This uses an array with two arrays, representing oposite corners of the box:"
   ]
  },
  {
   "cell_type": "code",
   "execution_count": null,
   "id": "ea86a2a6-de0a-48f5-8850-0b4c1ec9a83d",
   "metadata": {},
   "outputs": [],
   "source": [
    "docs = objects.find(\n",
    "    {\n",
    "        'loc': {\n",
    "            '$geoWithin': {\n",
    "                '$box': [[67 - 180, 52], [68 - 180, 53]]\n",
    "            }\n",
    "        }\n",
    "    },\n",
    "    {\n",
    "        'meanra': True,\n",
    "        'meandec': True,\n",
    "        '_id': False\n",
    "    }\n",
    ")\n",
    "\n",
    "for doc in docs:\n",
    "    print(doc)"
   ]
  },
  {
   "cell_type": "markdown",
   "id": "9e51141e-d14a-427f-b199-e164cc8627da",
   "metadata": {},
   "source": [
    "For other geospatial query operators, check [here](https://www.mongodb.com/docs/manual/reference/operator/query-geospatial/)."
   ]
  },
  {
   "cell_type": "markdown",
   "id": "3e278a42-b082-4b15-aa1b-492a6d5d6371",
   "metadata": {},
   "source": [
    "## Summary\n",
    "\n",
    "New concepts seen here:\n",
    "\n",
    "* Indices allow for better performance over queries that involve indexed fields, preventing a full collection scan\n",
    "* Projections allow us to limit or rename the number of fields returned\n",
    "* Expressions allow for more complex queries, not just direct comparissons with the values, but also over operations involving one or more fields\n",
    "  \n",
    "Things to keep in mind:\n",
    "\n",
    "* Some operators might ignore certain types of indices. If you see a loss of performance, check the `explain` method and documentation to make sure things are being used as expected\n",
    "* Queries over arrays are sometimes unintuitive. To ensure that the query matches for a single element, use `$elemMatch`. Otherwise the match might be over different elements\n",
    "* Geospatial indices and searches works somwhat differently than others and the latter cannot be done without the existence of the former"
   ]
  }
 ],
 "metadata": {
  "kernelspec": {
   "display_name": "Python 3 (ipykernel)",
   "language": "python",
   "name": "python3"
  },
  "language_info": {
   "codemirror_mode": {
    "name": "ipython",
    "version": 3
   },
   "file_extension": ".py",
   "mimetype": "text/x-python",
   "name": "python",
   "nbconvert_exporter": "python",
   "pygments_lexer": "ipython3",
   "version": "3.10.8"
  }
 },
 "nbformat": 4,
 "nbformat_minor": 5
}
