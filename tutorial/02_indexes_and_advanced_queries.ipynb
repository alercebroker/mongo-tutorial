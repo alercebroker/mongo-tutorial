{
 "cells": [
  {
   "cell_type": "markdown",
   "id": "954421ec-b423-42f4-afa0-144d03708452",
   "metadata": {},
   "source": [
    "## Advanced queries\n",
    "\n",
    "In the previous section we saw only the basics of queries. This time we'll be going through how to create queries for lists, nested documents and the special case of queries by coordinates.\n",
    "\n",
    "In this section we'll be using a sample of ALeRCE-like objects that should be loaded into the database if the instructions in `README.md` have been followed."
   ]
  },
  {
   "cell_type": "markdown",
   "id": "c4153e69-4577-46cf-a87f-714bff51890a",
   "metadata": {},
   "source": [
    "**Note:** The objects in the actual ALeRCE database do not exactly follow this structure. We're using only a simplified version here to show these concepts. For an example document in this collection:"
   ]
  },
  {
   "cell_type": "code",
   "execution_count": null,
   "id": "9a3510f0-fa85-4931-9a94-02b6c02c64ea",
   "metadata": {},
   "outputs": [],
   "source": [
    "from pprint import pprint\n",
    "from pymongo import MongoClient\n",
    "\n",
    "client = MongoClient(host='localhost', port=27017, username='mongo', password='mongo')\n",
    "\n",
    "objects = client.alerce.objects  # This is the collection we'll be using\n",
    "\n",
    "pprint(objects.find_one())"
   ]
  },
  {
   "cell_type": "markdown",
   "id": "2775d368-083d-44d6-8a80-2db88dda9117",
   "metadata": {},
   "source": [
    "### Array and nested document queries\n",
    "\n",
    "As you can see, the fields `oid` and `tid` are lists of strings (called arrays in MongoDB), while `loc` is a nested document with a list within. Also, `probabilities` is an array of nested documents. \n",
    "\n",
    "In the previous section we saw how to search by fields that are numeric or strings. Most operators are similar, but there's a specific syntaxis (and a few special operators) for querying over elements of arrays and nested documents.\n",
    "\n",
    "**Note:** In these examples we'll use `find_one`, but everything seen here also works for `find`.\n",
    "\n",
    "To begin simply, it is always possible to search by exact match of an array:"
   ]
  },
  {
   "cell_type": "code",
   "execution_count": null,
   "id": "6e08fe0a-8c73-43b9-a088-cfd2eb879be1",
   "metadata": {},
   "outputs": [],
   "source": [
    "objects.find_one({'oid': ['ZTF17aaaacji']})  # Note the []"
   ]
  },
  {
   "cell_type": "markdown",
   "id": "a055d059-a152-45ed-8156-9048761983ed",
   "metadata": {},
   "source": [
    "The above query only matches if `oid` is exactly the same list provided, including the number of elements and order. Even if another document were to contain the string `ZTF17aaaacji` in `oid`, but with more than one element, it would not match."
   ]
  },
  {
   "cell_type": "markdown",
   "id": "94cea0a6-394f-4a4f-963d-cec2b0da9a07",
   "metadata": {},
   "source": [
    "For a query that checks if an element is in the array, independently of its position and the number of elements in the array, the following can be used: "
   ]
  },
  {
   "cell_type": "code",
   "execution_count": null,
   "id": "68b7d7c1-c2d4-4753-8554-39c0af256169",
   "metadata": {},
   "outputs": [],
   "source": [
    "objects.find_one({'oid': 'ZTF17aaaacji'})  # This time there is no []"
   ]
  },
  {
   "cell_type": "markdown",
   "id": "e94ec076-9f44-4b91-b8a6-6f539913ae3d",
   "metadata": {},
   "source": [
    "The above is an equivalent but more compact form of using the operator `$in` with a single element:"
   ]
  },
  {
   "cell_type": "code",
   "execution_count": null,
   "id": "98776d9b-e445-4c42-8b84-a27f951e25a8",
   "metadata": {},
   "outputs": [],
   "source": [
    "objects.find_one({'oid': {'$in': ['ZTF17aaaacji']}})  # The value for $in can have more than one element"
   ]
  },
  {
   "cell_type": "markdown",
   "id": "dea0df5a-878b-4d15-b976-238d1b57d853",
   "metadata": {},
   "source": [
    "It is also possible to query by the location on the array. It is possible to apply filters to a given element using the name of the array field with dot notation for the index of the desired element in the array (*MongoDB uses zero based index*). For instance, the query below only applies to the first element of the `oid` array, even if other object has a second element with that value, it will not match our query:"
   ]
  },
  {
   "cell_type": "code",
   "execution_count": null,
   "id": "60dacf45-60d9-42f6-a13b-e6da1fa7586a",
   "metadata": {},
   "outputs": [],
   "source": [
    "objects.find_one({'oid.0': {'$regex': '^ZTF17a'}})  # Starts with ZTF17a"
   ]
  },
  {
   "cell_type": "markdown",
   "id": "5b108c4f-19e0-49f7-be3d-6b929375909e",
   "metadata": {},
   "source": [
    "To query over nested fields, we also use the dot notation, but this time using the name of the nested field:"
   ]
  },
  {
   "cell_type": "code",
   "execution_count": null,
   "id": "7dd88ba2-a8f5-4ad0-b73d-4946a28a40a0",
   "metadata": {},
   "outputs": [],
   "source": [
    "objects.find_one({'loc.type': 'Point'})"
   ]
  },
  {
   "cell_type": "markdown",
   "id": "807d247a-9574-4770-a62c-b873c3032cf6",
   "metadata": {},
   "source": [
    "In the case of an array inside a nested document, everything we saw above works as normal. For instance, to access an element by index, the dot notation can be continued:"
   ]
  },
  {
   "cell_type": "code",
   "execution_count": null,
   "id": "e4318070-72ff-4bea-9156-16ba30ef4e23",
   "metadata": {},
   "outputs": [],
   "source": [
    "objects.find_one({'loc.coordinates.1': {'$gt': 52}})  # Second element"
   ]
  },
  {
   "cell_type": "markdown",
   "id": "840db579-08b4-42a3-b4f5-8e65e53b5e8f",
   "metadata": {},
   "source": [
    "Finally, something similar applies to a list of nested documents:"
   ]
  },
  {
   "cell_type": "code",
   "execution_count": null,
   "id": "9765f0d8-5d33-45b5-9bbb-7e6fc41a3ae4",
   "metadata": {},
   "outputs": [],
   "source": [
    "objects.find_one({'probabilities.0.probability': {'$gt': 0.5}})  # Probability of first element above 0.5"
   ]
  },
  {
   "cell_type": "markdown",
   "id": "e1459cee-28ce-4c74-ace3-d7b5181e1c50",
   "metadata": {},
   "source": [
    "**Note:** In any query over arrays, nested documents or a combination thereof, the full array/nested document will be returned, not just the matching elements.\n",
    "\n",
    "However, there is an additional way to search over a nested field as an independent list. For instance to check that at least one probability (in any position) is above 0.8:"
   ]
  },
  {
   "cell_type": "code",
   "execution_count": null,
   "id": "0253ee6b-3ded-475e-8de7-7cbd3d66bb26",
   "metadata": {},
   "outputs": [],
   "source": [
    "objects.find_one({'probabilities.probability': {'$gt': 0.8}})  # Note the lack of the dot notation for index"
   ]
  },
  {
   "cell_type": "markdown",
   "id": "22d23077-b460-493b-bf62-b14b902aab8f",
   "metadata": {},
   "source": [
    "**Note:** Remember that in MongoDB the documents do not necessarily have to have the same fields. This also applies to nested documents. When using something like the above, it will not check over nested documents that lack the `probability` field."
   ]
  },
  {
   "cell_type": "markdown",
   "id": "25792e27-1cfb-405a-ba4e-cb1ea08bc3bd",
   "metadata": {},
   "source": [
    "There are a few operators that work only with arrays. We've seen `$in` already, but we'll see a few others now.\n",
    "\n",
    "To begin with, there is the `$all` operator. This works in a similar manner to `$in`, but instead of just requiring that at least one element matches, it requires that all listed elements are present in the array (independently on the order or presence of additional elements):"
   ]
  },
  {
   "cell_type": "code",
   "execution_count": null,
   "id": "9a26ff43-29be-443e-85a2-142e4331649d",
   "metadata": {},
   "outputs": [],
   "source": [
    "objects.find_one({'loc.coordinates': {'$all': [52.2932219572289, -112.883127892771]}})"
   ]
  },
  {
   "cell_type": "markdown",
   "id": "797fe442-8ba5-4750-a739-184f37fc7f1a",
   "metadata": {},
   "source": [
    "For arrays of nested documents, it is important to note that trying to match over each element might result in unintuitive matches. In the following, one might expect to receive objects where the class `CV,Nova` has a probability above 0.8. However, this is not the case:"
   ]
  },
  {
   "cell_type": "code",
   "execution_count": null,
   "id": "2a255db1-0f41-45d1-8c09-1e5a794d82e4",
   "metadata": {},
   "outputs": [],
   "source": [
    "objects.find_one({'probabilities.probability': {'$gt': 0.8}, 'probabilities.class_name': 'CV,Nova'})"
   ]
  },
  {
   "cell_type": "markdown",
   "id": "8e7dfe19-7b47-406f-af1f-1ef9914ce33e",
   "metadata": {},
   "source": [
    "What happened? The restrictions of the query each apply independently. It matches any objectes where there is at least an element of `probability` over 0.8, and at least one element of `class_name` with value `CV,Nova`. The two of them have to match, but there is no requirement for the same element to match all of them.\n",
    "\n",
    "To ensure all conditions are matched by at least one element simultaneously, we have to use the `$elemMatch` operator:"
   ]
  },
  {
   "cell_type": "code",
   "execution_count": null,
   "id": "f3412fad-fa17-4afc-a652-8fa155c42491",
   "metadata": {},
   "outputs": [],
   "source": [
    "# Note that we query over the full array and inside $elemMatch we access subfields directly, without dot notation\n",
    "objects.find_one({'probabilities': {'$elemMatch': {'probability': {'$gt': 0.8}, 'class_name': 'CV,Nova'}}})"
   ]
  },
  {
   "cell_type": "markdown",
   "id": "3cfd876a-1ce9-489d-ae58-b759be2c9c20",
   "metadata": {},
   "source": [
    "### Expression queries\n",
    "\n",
    "Another types of queries allows for the use of what are called expressions. These are typically some sort of operation over the fields, rather than a direct search over the values. For instance, to retrieve objects with difference between last and first detection dates of less than a thousand days, we would use: "
   ]
  },
  {
   "cell_type": "code",
   "execution_count": null,
   "id": "c474d71d-7668-4064-90da-50947523df29",
   "metadata": {},
   "outputs": [],
   "source": [
    "objects.find_one(\n",
    "    {\n",
    "        '$expr': {\n",
    "            '$lte': [{'$subtract': ['$lastmjd', '$firstmjd']}, 1000]\n",
    "        }\n",
    "    }\n",
    ")"
   ]
  },
  {
   "cell_type": "markdown",
   "id": "be3247d3-2274-4bcf-ba91-530830d4bb3c",
   "metadata": {},
   "source": [
    "The `$expr` operator can use withing the standard query operators (`$lte` in this case), but now with a value that is a list with the field in the first position, which can now be an expression (in this case `$subtract`) and the second value given for the comparison. Note that the fields used within the expression *must* be preceeded by `$`. A list of all expression operators can be found [here](https://www.mongodb.com/docs/v6.0/meta/aggregation-quick-reference/#operator-expressions)."
   ]
  },
  {
   "cell_type": "markdown",
   "id": "9b4f47ff-98c7-4b0d-bbb9-0fd6e0617517",
   "metadata": {},
   "source": [
    "Expressions are an important concept, separated from operators. Some operators can receive expressions and some expressions can have the same name as operators, but with different usage. *Always check the documentation.*"
   ]
  },
  {
   "cell_type": "markdown",
   "id": "9541c3b9-0b00-42a4-8a15-d44a0029b138",
   "metadata": {},
   "source": [
    "### Geospatial queries\n",
    "\n",
    "MongoDB has implemented geospatial queries. Originally intended to be used for terrestrial coordinates, they can be used as well for celestial coordinates (although keeping in mind some quirks and exceptions). While multiple types of searches are possible depending on the geometries defined, we will focus only on cone-searches, which are the more relevent for usage within ALeRCE. For other types of geospatial queries, see [here](https://www.mongodb.com/docs/manual/reference/operator/query-geospatial/).\n",
    "\n",
    "The field `loc` has the form we've seen before so that it can be used for geospatial queries. The first value of `coordinates` corresponds to the right ascension minus 180, while the declination remains the same. This is because a document with `type` and `coordinates` is defined by [GeoJSON](https://www.mongodb.com/docs/manual/reference/geojson/) and normally used for latitude/longitude coordinates (thus why we need the \"longitude\" to go from -180 to 180)."
   ]
  },
  {
   "cell_type": "markdown",
   "id": "ed9b3809-3c93-4d32-80a4-ce6c4ddabe63",
   "metadata": {},
   "source": [
    "Now, to search for elements within a circle over the sphere we use the operator `$geoWithin`. Inside the operator there are multiple options that can be used, but in the case of the circle we use `$centerSphere`, which has as value an array. The first element is an array of coordinates (longitude and latitude, or right ascension minus 180 and declination in our case, in degrees) and the second element is the radius (in radians):"
   ]
  },
  {
   "cell_type": "code",
   "execution_count": null,
   "id": "454c7e2a-5796-45cc-92b2-601f0671cb7f",
   "metadata": {},
   "outputs": [],
   "source": [
    "objects.find_one(\n",
    "    {\n",
    "        'loc': {\n",
    "            '$geoWithin': {\n",
    "                '$centerSphere': [[67 - 180, 52], 3.14 / 180]  # Within one degree (approx)\n",
    "            }\n",
    "        }\n",
    "    }\n",
    ")"
   ]
  },
  {
   "cell_type": "markdown",
   "id": "c635395b-dccb-40e3-9baf-234748cbe82f",
   "metadata": {},
   "source": [
    "It is also possible to use other geometries, for instance a `$box`. This uses an array with two arrays, representing oposite corners of the box:"
   ]
  },
  {
   "cell_type": "code",
   "execution_count": null,
   "id": "ea86a2a6-de0a-48f5-8850-0b4c1ec9a83d",
   "metadata": {},
   "outputs": [],
   "source": [
    "objects.find_one(\n",
    "    {\n",
    "        'loc': {\n",
    "            '$geoWithin': {\n",
    "                '$box': [[67 - 180, 52], [68 - 180, 53]]\n",
    "            }\n",
    "        }\n",
    "    }\n",
    ")"
   ]
  },
  {
   "cell_type": "markdown",
   "id": "e09aaace-b9da-4be1-8260-d797b9fafb23",
   "metadata": {},
   "source": [
    "The operator `$geoWithin` will return the objects within the given geometry with no particular order, i.e., the first result might not be the one nearest to the center."
   ]
  },
  {
   "cell_type": "markdown",
   "id": "c34c8be1-2e77-4fe4-8332-db33efe6eadd",
   "metadata": {},
   "source": [
    "## Indexing\n",
    "\n",
    "Indexing is used to make searches more efficient. When there are no indices, any search goes through each full document in order to find the specified results. If a search uses indexed fields, it can perform more efficiently by going only through the indexed field(s), and then retrieving only the matching documents without having to go through the full collection. However, not everything needs to be indexed, since the storage usage can grow substantially when too many indexes are created. It is generally recommended to limit the number of indices to the most commonly used fields.\n",
    "\n",
    "For the examples in this tutorial, neither the gain in search speed nor the extra storage required will be noticeable, but for large collections this has to be taken into account.\n",
    "\n",
    "Every collection in MongoDB comes indexed by `_id` by default, but new indices can be created at any time and there are different kinds of indices.\n",
    "\n",
    "**Note:** If your user doesn't have write permission, you won't be able to create your own indices, but the gains when doing queries over existing indices will still be noticeable."
   ]
  },
  {
   "cell_type": "markdown",
   "id": "397e1fdf-bc12-4fbe-a98f-a020edff443f",
   "metadata": {},
   "source": [
    "### Creating basic indices\n",
    "\n",
    "To create a simple index over a field, the structure is similar to what we saw for the `sort` option in the `find` method. It should be a list of pairs with a direction given by `1` or `-1` (ascending or descending, respectively)."
   ]
  },
  {
   "cell_type": "code",
   "execution_count": null,
   "id": "a00ba0bb-96e0-4f03-94ff-e2e24645127f",
   "metadata": {},
   "outputs": [],
   "source": [
    "from pymongo import IndexModel\n",
    "\n",
    "objects.create_index([('firstmjd', 1)])"
   ]
  },
  {
   "cell_type": "markdown",
   "id": "6d43b704-c8b4-454f-95dc-e76f895b3380",
   "metadata": {},
   "source": [
    "The return value correspond to the name given to the index in the collection."
   ]
  },
  {
   "cell_type": "code",
   "execution_count": null,
   "id": "bacdcb95-8406-475b-9dea-0b4e836c5039",
   "metadata": {},
   "outputs": [],
   "source": [
    "objects.index_information()"
   ]
  },
  {
   "cell_type": "markdown",
   "id": "33b31293-0a29-4426-a0df-ec2e5ff032d1",
   "metadata": {},
   "source": [
    "The indices here are given by index name and have information about the field, order and type of index (the `v` field refers to the version of indexing).\n",
    "\n",
    "When performing queries, it is possible to check if indices are being used. For this, there is the `explain` method for `Cursor`, which returns a dictionary with information regarding the query:"
   ]
  },
  {
   "cell_type": "code",
   "execution_count": null,
   "id": "fb13d095-1071-4dc5-97af-3bf23e3aa43a",
   "metadata": {},
   "outputs": [],
   "source": [
    "info = objects.find({'firstmjd': {'$gte': 58400}}).explain()\n",
    "exec_stats = info['executionStats']\n",
    "\n",
    "print(f'Docs returned: {exec_stats[\"nReturned\"]}')\n",
    "print(f'Keys checked : {exec_stats[\"totalKeysExamined\"]}')\n",
    "print(f'Docs checked : {exec_stats[\"totalDocsExamined\"]}')\n",
    "print(f'Time (ms)    : {exec_stats[\"executionTimeMillis\"]}')"
   ]
  },
  {
   "cell_type": "markdown",
   "id": "1df2aa01-5fe9-4a20-92f8-c79fba668f2e",
   "metadata": {},
   "source": [
    "There is a lot more infomation from `explain`, but we'll center on the relevant ones for this section (all within `executionStats`):\n",
    "\n",
    "* `nReturned`: Number of documents returned\n",
    "* `totalKeysExamined`: Number of indexed fields checked during the query\n",
    "* `totalDocsExamined`: Number of documents checked during the query\n",
    "* `executionTimeMillis`: Execution time in milliseconds. This is always an integer and is rounded\n",
    "\n",
    "For comparison, let's do a query over a non-indexed field:"
   ]
  },
  {
   "cell_type": "code",
   "execution_count": null,
   "id": "2da4e5ad-29ae-4970-a233-f44ecdba2190",
   "metadata": {},
   "outputs": [],
   "source": [
    "info = objects.find({'lastmjd': {'$gte': 59550}}).explain()\n",
    "exec_stats = info['executionStats']\n",
    "\n",
    "print(f'Docs returned: {exec_stats[\"nReturned\"]}')\n",
    "print(f'Keys checked : {exec_stats[\"totalKeysExamined\"]}')\n",
    "print(f'Docs checked : {exec_stats[\"totalDocsExamined\"]}')\n",
    "print(f'Time (ms)    : {exec_stats[\"executionTimeMillis\"]}')"
   ]
  },
  {
   "cell_type": "markdown",
   "id": "29892f4a-b53f-406b-8bdd-0d5794ed14c9",
   "metadata": {},
   "source": [
    "Even though it actually returns less documents, the query checks all documents in the collection, without checking any key (as there is no indexing over `lastmjd`). In this case the execution time is still below a millisecond, but for large collections, such full scans can make a big difference.\n",
    "\n",
    "When using indices, the number of keys checked are usually in the order of the returned documents, although some variations depending on the query and ordering can alter that. Normally as well, it only checks the documents that it needs to return, making it most of the time the most efficient option. The only exception is for queries that return most of the collection, as then it will scan the indices and then the documents themselves, but the losses here are generally minor compared with gains over more restricted queries."
   ]
  },
  {
   "cell_type": "markdown",
   "id": "14fc631e-36f0-47ee-93de-acecd4775bef",
   "metadata": {},
   "source": [
    "**`mongosh`:** It is also possible to use `explain` in the Shell:\n",
    "\n",
    "```bash\n",
    "   db.objects.find({lastmjd: {$gte: 59550}}).explain()\n",
    "```"
   ]
  },
  {
   "cell_type": "markdown",
   "id": "0587f0d1-b471-447e-b20c-e462df56d532",
   "metadata": {},
   "source": [
    "One can also drop an index based on the index name:"
   ]
  },
  {
   "cell_type": "code",
   "execution_count": null,
   "id": "04c3fc85-d462-429b-ade0-7164d79006d2",
   "metadata": {},
   "outputs": [],
   "source": [
    "objects.drop_index('firstmjd_1')\n",
    "objects.index_information()"
   ]
  },
  {
   "cell_type": "markdown",
   "id": "a3bb1cfd-c99f-4f78-acfe-688de2b3f351",
   "metadata": {},
   "source": [
    "At creation, an index can also be given a custom name, instead of relying on MongoDB for the name:"
   ]
  },
  {
   "cell_type": "code",
   "execution_count": null,
   "id": "09522efe-4382-4629-be73-92bf4ec03484",
   "metadata": {
    "tags": []
   },
   "outputs": [],
   "source": [
    "objects.create_index([('firstmjd', 1)], name='first_detection_date')"
   ]
  },
  {
   "cell_type": "markdown",
   "id": "d25f3f19-53f2-42c3-88d9-27290332f680",
   "metadata": {},
   "source": [
    "In the case of the field `probabilities`, we have the case of a an array with nested documents. If we wanted to create an index for a field inside it, we can use dot notation:"
   ]
  },
  {
   "cell_type": "code",
   "execution_count": null,
   "id": "a07bf100-b2c2-472e-9c83-1cc5a5d2ff59",
   "metadata": {},
   "outputs": [],
   "source": [
    "objects.create_index([('probabilities.probability', -1)], name='probs')"
   ]
  },
  {
   "cell_type": "markdown",
   "id": "0ad1b683-4791-4dca-a055-4a01d13d73b7",
   "metadata": {},
   "source": [
    "As for other common options, it is possible to demand that the elements of the index are unique:"
   ]
  },
  {
   "cell_type": "code",
   "execution_count": null,
   "id": "7887db9e-aee2-4a88-b5cf-67dadeb6ce00",
   "metadata": {},
   "outputs": [],
   "source": [
    "objects.create_index([('oid', 1)], unique=True)"
   ]
  },
  {
   "cell_type": "markdown",
   "id": "d23b5979-a071-446c-a40d-e8b6bbeb7fd6",
   "metadata": {},
   "source": [
    "Or creating a partial index (only indexes documents that fullfill a given condition):"
   ]
  },
  {
   "cell_type": "code",
   "execution_count": null,
   "id": "6567af2a-17bf-4140-911a-9dc3e7e0a2ce",
   "metadata": {},
   "outputs": [],
   "source": [
    "objects.create_index([('lastmjd', 1)], partialFilterExpression={'ndet': {'$gt': 100}})"
   ]
  },
  {
   "cell_type": "markdown",
   "id": "6edb3b23-cbc1-4d72-9e34-662ba067b7a5",
   "metadata": {},
   "source": [
    "The above creates an index over `lastmjd`, but only for documents with `ndet` greater than 100."
   ]
  },
  {
   "cell_type": "markdown",
   "id": "ef307d88-6a68-46fd-b0ce-11b7cc073f80",
   "metadata": {},
   "source": [
    "**`mongosh`:** As we've seen for sorting, the main difference here is that index pairs are passed as dictionaries (an the options are also passed differently):\n",
    "\n",
    "```bash\n",
    "   db.objects.createIndex({lastmjd: 1}, {partialFilterExpression: {ndet: {$gt: 100}}})\n",
    "```"
   ]
  },
  {
   "cell_type": "markdown",
   "id": "067289b2-c37f-4b0b-baf4-e8db803c38d8",
   "metadata": {},
   "source": [
    "For now, we'll just remove all indices (note that this will never remove the index over `_id`):"
   ]
  },
  {
   "cell_type": "code",
   "execution_count": null,
   "id": "ad560820-3d34-4c80-bf12-040381ca5941",
   "metadata": {},
   "outputs": [],
   "source": [
    "objects.drop_indexes()"
   ]
  },
  {
   "cell_type": "markdown",
   "id": "76a106c0-ebd8-490d-a87a-13a1f3b0fca5",
   "metadata": {},
   "source": [
    "### Geospatial indexing\n",
    "\n",
    "Some fields can have a special indexing, such as the coordinates over a sphere. These use the special ordering `2dsphere` and must have a form compatible with GeoJSON:"
   ]
  },
  {
   "cell_type": "code",
   "execution_count": null,
   "id": "33f9fb2c-be7d-4137-acc0-e14c4adf4ba2",
   "metadata": {},
   "outputs": [],
   "source": [
    "objects.create_index([('loc', '2dsphere')])"
   ]
  },
  {
   "cell_type": "markdown",
   "id": "69961d3c-7548-4112-bd2e-8ba82f56b3d3",
   "metadata": {},
   "source": [
    "If such an index is used, it is possible to do a cone-search where the results are ordered from nearest to furthest from the center (unlike `$geoWithin`). In this case we must use the operator `$nearSphere` with `$maxDistance`:"
   ]
  },
  {
   "cell_type": "code",
   "execution_count": null,
   "id": "d3a0d41b-1c1c-4bcb-aff2-8566ad26b1bf",
   "metadata": {},
   "outputs": [],
   "source": [
    "objects.find_one(\n",
    "    {\n",
    "        'loc': {\n",
    "            '$nearSphere': [67 - 180, 52],  # Center of circle\n",
    "            '$maxDistance': 3.14 / 180.  # Within one degree (approx)\n",
    "        }\n",
    "    }\n",
    ")"
   ]
  },
  {
   "cell_type": "markdown",
   "id": "bb6189a5-9475-4f1b-b406-433d08165047",
   "metadata": {},
   "source": [
    "Optionally, it is also possible to provide a `$minDistance` to exclude results too close to the center:"
   ]
  },
  {
   "cell_type": "code",
   "execution_count": null,
   "id": "4d26cabb-3fc8-4126-9327-33b3a6f15734",
   "metadata": {},
   "outputs": [],
   "source": [
    "objects.find_one(\n",
    "    {\n",
    "        'loc': {\n",
    "            '$nearSphere': [67 - 180, 52],  # Center of circle\n",
    "            '$minDistance': 0.001,  # Min distance in radians\n",
    "            '$maxDistance': 3.14 / 180.  # Within one degree (approx)\n",
    "        }\n",
    "    }\n",
    ")"
   ]
  },
  {
   "cell_type": "markdown",
   "id": "861150c8-dac3-4b52-9b1b-35e077961dcb",
   "metadata": {},
   "source": [
    "**Note:** There is also another usage of `$nearSphere` that involves giving the distances in meters. This is intended for use with geographical coordinates, as it takes into account the deviations of Earth's shape from a perfect sphere. We won't go through this usage as it is outside the scope, but more details can be found [here](https://www.mongodb.com/docs/v6.0/reference/operator/query/nearSphere/#mongodb-query-op.-nearSphere). In short, if the value of `$nearSphere` is a `geometry` rather than a list with coordinates, the minimum and maximum distances are assumed to be in meters. Be mindful of not confusing both usages."
   ]
  },
  {
   "cell_type": "markdown",
   "id": "bf2f9895-5b0e-4406-a1d5-2fb6cb58ad4e",
   "metadata": {},
   "source": [
    "**Note:** The use of sorting when querying using `$nearSphere` will override the order in which the objects are returned. In most cases, if a sort is to be performed, it is preferable to use the operator `$geoWithin`."
   ]
  },
  {
   "cell_type": "markdown",
   "id": "31cd0b80-620b-4cbd-a4e8-491d96c8b838",
   "metadata": {},
   "source": [
    "### Compund indices\n",
    "\n",
    "It is also possible to create indices over multiple fields at a time, with them being sorted by in order (latter indices fixing clashes over the first). This can be very useful depending on the type of search. For instance, we'll create an index over the classifier name and version, so that all versions are in order, but first sorted by classifier (for each document):"
   ]
  },
  {
   "cell_type": "code",
   "execution_count": null,
   "id": "486ca3e7-9d27-498c-b050-707fc6801399",
   "metadata": {},
   "outputs": [],
   "source": [
    "objects.create_index([('probabilities.classifier_name', 1), ('probabilities.classifier_version', 1)])  # The list now has a second element (the secondary index)"
   ]
  },
  {
   "cell_type": "markdown",
   "id": "e9d99698-c4fd-4abe-83cf-8bbc384cfb89",
   "metadata": {},
   "source": [
    "Again we'll clean up all the indices:"
   ]
  },
  {
   "cell_type": "code",
   "execution_count": null,
   "id": "9b530ba3-77c6-4b3a-ad88-13eaa493624e",
   "metadata": {},
   "outputs": [],
   "source": [
    "objects.drop_indexes()"
   ]
  },
  {
   "cell_type": "markdown",
   "id": "15ab7d20-6caf-4440-a26d-ac641b609648",
   "metadata": {},
   "source": [
    "## Projections (customizing output documents)\n",
    "\n",
    "The `find` and `find_one` methods have some additional functionality that we'll discuss now. Besides the dictionary with the query filters, a second argument can be passed with another dictionary for \"projection\". These projections allow for different manipulations of the output documents, *without modifying them on the database*. These can range from selection which fields are to be returned, all the way to creating new fields based on existing data.\n",
    "\n",
    "For instance, if there is only one field of interest in the output:"
   ]
  },
  {
   "cell_type": "code",
   "execution_count": null,
   "id": "e29875cf-abaa-4d89-9ecb-342f9886db48",
   "metadata": {},
   "outputs": [],
   "source": [
    "docs = objects.find({'ndet': {'$gte': 100}}, {'firstmjd': True, 'lastmjd': True})\n",
    "\n",
    "for doc in docs:\n",
    "    print(doc)"
   ]
  },
  {
   "cell_type": "markdown",
   "id": "6de09c3e-fe7f-48f2-baa2-3228c5b294a6",
   "metadata": {},
   "source": [
    "**`mongosh`:** It is also possible to use projections in an equivalent manner:\n",
    "\n",
    "```bash\n",
    "   db.objects.find({ndet: {$gte: 100}}, {firstmjd: true, lastmjd: true})\n",
    "```"
   ]
  },
  {
   "cell_type": "markdown",
   "id": "f4d005ff-e520-49e9-92c8-403ef278862b",
   "metadata": {},
   "source": [
    "**Note:** Indices are only used for the query itself. Projections do not benefit from indexing."
   ]
  },
  {
   "cell_type": "markdown",
   "id": "e706b7a9-abb2-4728-bd87-ebe7e0bebed3",
   "metadata": {},
   "source": [
    "Here we've selected only objects with more than 100 detections, but are only interested in the first and last MJD. As you can see, even if not explicitly selected, the `_id` field will be carried by default. This behaviour can be changed:"
   ]
  },
  {
   "cell_type": "code",
   "execution_count": null,
   "id": "b53400be-33a8-4ea4-97eb-d1d99eb581a1",
   "metadata": {},
   "outputs": [],
   "source": [
    "docs = objects.find({'ndet': {'$gte': 100}}, {'firstmjd': True, 'lastmjd': True, '_id': False})\n",
    "\n",
    "for doc in docs:\n",
    "    print(doc)"
   ]
  },
  {
   "cell_type": "markdown",
   "id": "e2ba3c2e-8531-427b-b661-ff40f7f227f8",
   "metadata": {},
   "source": [
    "If at least one of the projected fields is explicitly selected, all the other will be implicitly removed. The oposite is also true:"
   ]
  },
  {
   "cell_type": "code",
   "execution_count": null,
   "id": "dad8ccb7-f721-436b-8390-58325b589342",
   "metadata": {},
   "outputs": [],
   "source": [
    "docs = objects.find({'ndet': {'$gte': 100}}, {'probabilities': False, '_id': False})\n",
    "\n",
    "for doc in docs:\n",
    "    print(doc)"
   ]
  },
  {
   "cell_type": "markdown",
   "id": "49a4a9c7-61ea-41f1-8882-a98d670485ad",
   "metadata": {},
   "source": [
    "The above includes every field, except for `probabilities` and `_id`. Note that it is not possible to mix inclusion and exclusion of fields, except for the case of `_id`:"
   ]
  },
  {
   "cell_type": "code",
   "execution_count": null,
   "id": "a6c4c3e2-525e-470d-81dd-bcb2eea34684",
   "metadata": {},
   "outputs": [],
   "source": [
    "# Will fail due to mixing inclusion and exclusion\n",
    "docs = objects.find({'ndet': {'$gte': 100}}, {'probabilities': False, 'firstmjd': True})\n",
    "# However, it will only fail at this stage\n",
    "for doc in docs:\n",
    "    print(doc)"
   ]
  },
  {
   "cell_type": "markdown",
   "id": "513ade4b-7057-45a7-8c14-5663913776dc",
   "metadata": {},
   "source": [
    "It is possible also to change the names of fields using the new name as key and the old name as value (with `$` before the name, given that this is technically an expression):"
   ]
  },
  {
   "cell_type": "code",
   "execution_count": null,
   "id": "603ca380-9fc2-4692-b113-20192e1737a5",
   "metadata": {},
   "outputs": [],
   "source": [
    "docs = objects.find({'ndet': {'$gte': 100}}, {'detections': '$ndet', 'firstmjd': True})\n",
    "\n",
    "# Renamed ndet to detections\n",
    "for doc in docs:\n",
    "    print(doc)"
   ]
  },
  {
   "cell_type": "markdown",
   "id": "982841f2-efc1-489c-bd3c-1170c3d91430",
   "metadata": {},
   "source": [
    "It is also possible to project embedded documents using also expressions:"
   ]
  },
  {
   "cell_type": "code",
   "execution_count": null,
   "id": "632624de-4a32-47b0-9249-0f23de00d3b0",
   "metadata": {},
   "outputs": [],
   "source": [
    "docs = objects.find({'ndet': {'$gte': 100}}, {'probability': '$probabilities.probability', '_id': False})\n",
    "\n",
    "# Renamed ndet to detections\n",
    "for doc in docs:\n",
    "    print(doc)"
   ]
  },
  {
   "cell_type": "markdown",
   "id": "cf126b6d-2ffb-45d8-94e2-ce17a7aa8a85",
   "metadata": {},
   "source": [
    "Expressions can also be more generally used in projections. Essentially, we can create custom fields:"
   ]
  },
  {
   "cell_type": "code",
   "execution_count": null,
   "id": "a131fb79-1fd5-42bf-a174-dc15b9df83f0",
   "metadata": {},
   "outputs": [],
   "source": [
    "# Field deltamjd is going to be subtration of two original fields\n",
    "docs = objects.find(\n",
    "    {}, \n",
    "    {'deltamjd': {'$subtract': ['$lastmjd', '$firstmjd']}, '_id': False}\n",
    ")\n",
    "\n",
    "for doc in docs:\n",
    "    print(doc)"
   ]
  },
  {
   "cell_type": "markdown",
   "id": "38d18afe-ff9c-4bbc-8549-37e49557ce8a",
   "metadata": {},
   "source": [
    "The projections can also limit the number of elements returned from an array. Using the dot notation with `$`, we'll only keep the first element that matches the original (other matches will be ignored):"
   ]
  },
  {
   "cell_type": "code",
   "execution_count": null,
   "id": "e112f31e-ac19-4667-b56b-ececfa931cd9",
   "metadata": {},
   "outputs": [],
   "source": [
    "docs = objects.find({'probabilities.ranking': 1}, {'probabilities.$': True, '_id': False})\n",
    "\n",
    "for doc in docs:\n",
    "    print(doc)"
   ]
  },
  {
   "cell_type": "markdown",
   "id": "1a169e79-71c8-4ca5-a6ed-ae1117ce412f",
   "metadata": {},
   "source": [
    "The `$` operator seen above will only return the first element of the array that matches the query,  even if more than one element does. For this reason it requires for the array to actually be used within the query.\n",
    "\n",
    "For more control over the returned element, there is also the `$elemMatch` projection operator:"
   ]
  },
  {
   "cell_type": "code",
   "execution_count": null,
   "id": "7eb7e5a0-8a0a-4995-ad0c-5bdc0007a6db",
   "metadata": {},
   "outputs": [],
   "source": [
    "docs = objects.find(\n",
    "    {\n",
    "        'ndet': {'$gte': 100}\n",
    "    }, \n",
    "    {\n",
    "        '_id': False,\n",
    "        'probabilities': {\n",
    "            '$elemMatch': {  # The value for $elemMatch has the form of a query, over the fields inside the elements\n",
    "                'classifier_name': 'stamp_classifier',\n",
    "                'ranking': 1\n",
    "            }\n",
    "        },\n",
    "    })\n",
    "\n",
    "for doc in docs:\n",
    "    print(doc)"
   ]
  },
  {
   "cell_type": "markdown",
   "id": "4b33c20b-4d33-49f7-8cad-7ec35450ec52",
   "metadata": {},
   "source": [
    "**Note:** `$elemMatch` for projection and queries function differently, they are actually considered different operators and their behaviour is related to their context. For queries it makes sure that at least one element matches all criteria. In the case of the projection, it will only return the *first* element that the criteria (or an empty list if none matches), any other element matching the criteria will be silently dropped.\n",
    "\n",
    "In order to retrieve all matching elements, not just the first, it is better to use `$filter`, but note that it has a different usage:"
   ]
  },
  {
   "cell_type": "code",
   "execution_count": null,
   "id": "a7c925bd-f081-42b7-8f74-02f716eea3d7",
   "metadata": {},
   "outputs": [],
   "source": [
    "docs = objects.find(\n",
    "    {\n",
    "        'ndet': {'$gte': 100}\n",
    "    }, \n",
    "    {\n",
    "        '_id': False,\n",
    "        'probs': {  # This is the name of the output array (can be anything)\n",
    "            '$filter': {\n",
    "                'input': '$probabilities',  # This is the name of the input array\n",
    "                'cond': {  # The condition that needs to match\n",
    "                    '$and': [\n",
    "                        {'$eq': ['$$this.ranking', 1]},\n",
    "                        {'$eq': ['$$this.classifier_name', 'stamp_classifier']}\n",
    "                    ]\n",
    "                }\n",
    "            }\n",
    "        },\n",
    "    })\n",
    "\n",
    "for doc in docs:\n",
    "    print(doc)"
   ]
  },
  {
   "cell_type": "markdown",
   "id": "171fe6ae-dea0-4a7f-9638-46db922b3dd2",
   "metadata": {},
   "source": [
    "**Note:** The operator `$filter` is only available for MongoDB version 3.2 or above.\n",
    "\n",
    "The `$filter` operator has the following fields: \n",
    "\n",
    "* `input` must be an expression that returns an array, thus why we use the `$` at the beginning of the field name (could also be something more complex).\n",
    "* `cond` must also be an expression.\n",
    "\n",
    "The name `$$this` refers to elements of the array defined in `input`. It is possible to change the name from `this` to something else using the (optional) field `as`:"
   ]
  },
  {
   "cell_type": "code",
   "execution_count": null,
   "id": "23563c47-3a0a-4da3-9ecc-4822c1a4578e",
   "metadata": {},
   "outputs": [],
   "source": [
    "docs = objects.find(\n",
    "    {\n",
    "        'ndet': {'$gte': 100}\n",
    "    }, \n",
    "    {\n",
    "        '_id': False,\n",
    "        'probs': {\n",
    "            '$filter': {\n",
    "                'input': '$probabilities',\n",
    "                'as': 'element',  # New name for items\n",
    "                'cond': {\n",
    "                    '$and': [\n",
    "                        {'$eq': ['$$element.ranking', 1]},  # now using 'element' instead of 'this'\n",
    "                        {'$eq': ['$$element.classifier_name', 'stamp_classifier']}\n",
    "                    ]\n",
    "                }\n",
    "            }\n",
    "        },\n",
    "    })\n",
    "\n",
    "for doc in docs:\n",
    "    print(doc)"
   ]
  },
  {
   "cell_type": "markdown",
   "id": "3e278a42-b082-4b15-aa1b-492a6d5d6371",
   "metadata": {},
   "source": [
    "## Summary\n",
    "\n",
    "New concepts seen here:\n",
    "\n",
    "* Indices allow for better performance over queries that involve indexed fields, preventing a full collection scan\n",
    "* Projections allow us to limit or rename the number of fields returned\n",
    "* Expressions allow for more complex queries, not just direct comparissons with the values, but also over operations involving one or more fields\n",
    "  \n",
    "Things to keep in mind:\n",
    "\n",
    "* Some operators might ignore certain types of indices. If you see a loss of performance, check the `explain` method and documentation to make sure things are being used as expected\n",
    "* Queries over arrays are sometimes unintuitive. To ensure that the query matches for a single element, use `$elemMatch`. Otherwise the match might be over different elements\n",
    "* Geospatial indices and searches works somwhat differently than others and the latter cannot be done without the existence of the former"
   ]
  }
 ],
 "metadata": {
  "kernelspec": {
   "display_name": "Python 3 (ipykernel)",
   "language": "python",
   "name": "python3"
  },
  "language_info": {
   "codemirror_mode": {
    "name": "ipython",
    "version": 3
   },
   "file_extension": ".py",
   "mimetype": "text/x-python",
   "name": "python",
   "nbconvert_exporter": "python",
   "pygments_lexer": "ipython3",
   "version": "3.10.8"
  }
 },
 "nbformat": 4,
 "nbformat_minor": 5
}
